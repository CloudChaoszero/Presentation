{
 "cells": [
  {
   "cell_type": "markdown",
   "metadata": {
    "slideshow": {
     "slide_type": "slide"
    }
   },
   "source": [
    "# Presentations\n",
    "\n",
    "![Presentation GIF](Resources/PresentationGif-Raul.gif)\n"
   ]
  },
  {
   "cell_type": "markdown",
   "metadata": {},
   "source": [
    "\n",
    "## Introduction\n",
    "\n",
    "This repository is a compilation of all documents and resources for talks I have spoken at in San Francisco, Ca.\n"
   ]
  },
  {
   "cell_type": "markdown",
   "metadata": {},
   "source": [
    "\n",
    "## Videos & Decks\n",
    "\n",
    "1. Flask and SQLAlchemy Demo\n",
    "\n",
    "    * a. [Slide Deck](https://docs.google.com/presentation/d/118XmBmommV-THg-2MU-qW3dUP9sKKxbKeLjHK5B2Dnw/edit)\n",
    "    * b. [Video](https://youtu.be/XUsx9odu94Y?t=372)\n",
    "\n",
    "2. Protos VS JSON\n",
    "\n",
    "    a. [Slide Deck](https://github.com/CloudChaoszero/Presentations/blob/master/PyBayTalks/ProtosAndJSON/Protocol-JSON-AndMore%20(1).pptx)\n",
    "\n",
    "3. Takes Two to Data Clean\n",
    "\n",
    "    a. [Video](https://www.youtube.com/watch?v=OjT7mT5Ydw0&t=11s)\n"
   ]
  },
  {
   "cell_type": "markdown",
   "metadata": {
    "slideshow": {
     "slide_type": "subslide"
    }
   },
   "source": [
    "\n",
    "## Table of Contents\n",
    "\n",
    "1. [Flask and SQLAlchemy Demonstration](Flask-SQLAlchemy-Demo/)\n",
    "\n",
    "2. [Proto Buffs VS JSON structures](PyBayTalks/ProtosAndJSON/)\n",
    "\n",
    "3. [Takes Two to Data Clean](TakesTwoToDatclean/)"
   ]
  }
 ],
 "metadata": {
  "kernelspec": {
   "display_name": "Python (DataScienceKernel)",
   "language": "python",
   "name": "datasciencekernel"
  },
  "language_info": {
   "codemirror_mode": {
    "name": "ipython",
    "version": 3
   },
   "file_extension": ".py",
   "mimetype": "text/x-python",
   "name": "python",
   "nbconvert_exporter": "python",
   "pygments_lexer": "ipython3",
   "version": "3.7.2"
  }
 },
 "nbformat": 4,
 "nbformat_minor": 4
}
