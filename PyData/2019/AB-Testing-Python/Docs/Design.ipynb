{
 "cells": [
  {
   "cell_type": "markdown",
   "metadata": {},
   "source": [
    "# Notebook Design Ideas"
   ]
  },
  {
   "cell_type": "markdown",
   "metadata": {},
   "source": [
    "\n",
    "\n",
    "## Existing Format\n",
    "    \n",
    "1. Introductory Discussion\n",
    "\n",
    "2. Introduction into Conceptual Material\n",
    "\n",
    "    i. Abstraction \n",
    "    \n",
    "    ii. Other topics on Abstraction\n",
    "3. Concept Application \n",
    "\n",
    "4. Results & Summary \n",
    "\n",
    "5. Conclusion\n"
   ]
  },
  {
   "cell_type": "markdown",
   "metadata": {},
   "source": [
    "## Proposed New Format \n",
    "\n",
    "1. Introduction\n",
    "\n",
    "2. Introductory Overview on Statistical Concepts being applied\n",
    "\n",
    "    i. Code up Avg, Standard deviation, and Confidence Intervals\n",
    "    \n",
    "3. Introduction into A/B testing\n",
    "\n",
    "    i. Overview\n",
    "    \n",
    "    ii. sadasdasf"
   ]
  },
  {
   "cell_type": "markdown",
   "metadata": {},
   "source": [
    "* In the \"Concept\" section, create two websites into A/B testing"
   ]
  },
  {
   "cell_type": "code",
   "execution_count": null,
   "metadata": {},
   "outputs": [],
   "source": []
  }
 ],
 "metadata": {
  "kernelspec": {
   "display_name": "Python (DataScienceKernel)",
   "language": "python",
   "name": "datasciencekernel"
  },
  "language_info": {
   "codemirror_mode": {
    "name": "ipython",
    "version": 3
   },
   "file_extension": ".py",
   "mimetype": "text/x-python",
   "name": "python",
   "nbconvert_exporter": "python",
   "pygments_lexer": "ipython3",
   "version": "3.7.2"
  }
 },
 "nbformat": 4,
 "nbformat_minor": 2
}
