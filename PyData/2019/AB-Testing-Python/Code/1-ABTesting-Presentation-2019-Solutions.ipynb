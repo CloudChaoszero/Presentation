{
 "cells": [
  {
   "cell_type": "markdown",
   "metadata": {},
   "source": [
    "\n",
    "<img src=\"../Resources/Images/Slides-Logo.png\" alt=\"Drawing\" style=\"width: 500px;\"/>\n",
    "\n",
    "<center> <a href='https://www.linkedin.com/in/raulm8/'>by Raul Maldonado</a></center>"
   ]
  },
  {
   "cell_type": "markdown",
   "metadata": {},
   "source": [
    "# 1.0 The Overview\n"
   ]
  },
  {
   "cell_type": "markdown",
   "metadata": {},
   "source": [
    "## 1.1 Introduction\n",
    "\n",
    "* Resources\n",
    "\n",
    "    * **Repository Link:** [http://bit.ly/Raul-ABTesting](http://bit.ly/Raul-ABTesting)\n",
    "    * **Google Colab version** of [this Jupyter Noteobok](https://drive.google.com/file/d/1XbyBPUUV9_5r89iZ9IATtQD23Jr0e9J8/view?usp=sharing)\n"
   ]
  },
  {
   "cell_type": "markdown",
   "metadata": {},
   "source": [
    "* About Me:\n",
    "\n",
    "    * Data Analyst @Autodesk.\n",
    "\n",
    "    * Volunteer, whenever I can\n",
    "\n",
    "    * Enjoying coffee and running...when I can..."
   ]
  },
  {
   "cell_type": "markdown",
   "metadata": {},
   "source": [
    "____\n",
    "Today you'll have the opportunity to understand the application of A/B testing in Python, and considerations when going through testing implementation.\n",
    "\n",
    "\n",
    "> Note: Though there exists **proprietary** A/B testing solutions like [Optimizely](https://www.optimizely.com/), [VWO](https://vwo.com/campaign/get-started/?utm_source=google&utm_medium=paid&utm_campaign=mof_search_brand_vwo_brand&utm_content=308583203468&utm_term=vwo&gclid=Cj0KCQjwv8nqBRDGARIsAHfR9wD7uaDnZRUDFKrXDtcn8jCv4v_dNhSRxzWsddKQAo0WuREO4phZ1PQaAopsEALw_wcB), [AB Tasty](https://www.abtasty.com/), [Google Optimize](https://optimize.google.com/optimize/home/), etc, this is another option for your analyses..if you can't pay for said tools. #MoreMoneyMoreProblems\n",
    "\n",
    "\n",
    "**Information or data presented today is in no affiliation with Autodesk.**\n",
    "\n",
    "Enjoy! :D\n",
    "____"
   ]
  },
  {
   "cell_type": "code",
   "execution_count": 77,
   "metadata": {},
   "outputs": [],
   "source": [
    "import os\n",
    "import warnings\n",
    "warnings.filterwarnings(\"ignore\")\n",
    "\n",
    "import scipy\n",
    "import seaborn as sns\n",
    "sns.set_style(\"dark\")\n",
    "\n",
    "import matplotlib.pyplot as plt\n",
    "import numpy as np\n",
    "import pandas as pd"
   ]
  },
  {
   "cell_type": "code",
   "execution_count": 16,
   "metadata": {},
   "outputs": [],
   "source": [
    "### Note: If package faker is not installed, \n",
    "##### comment and apply the below package.\n",
    "# !pip install faker"
   ]
  },
  {
   "cell_type": "markdown",
   "metadata": {},
   "source": [
    "## 1.2 Initial Scenario "
   ]
  },
  {
   "cell_type": "markdown",
   "metadata": {},
   "source": [
    "\n",
    "### 1.2.1 Existing Process\n",
    "\n",
    "A user searches for information in Google Search. The user typically will see a list of responses for popular terms or keywords. From their inquiry, depending on what they searched for, they receive an ad at the top of the rankings as a paid recommendation related to their search.\n",
    "\n",
    "Now, let's say we have an existing Ad Campaign A being run such that the user from above clicks on that ad. Moreover, this campaign A has a particular **Call to Action** \"Click here, please!\", a text to get the user to click the Ad. \n",
    "\n",
    "At the same time, we create or re-activate a new ad Campaign group B, with a different Call to Action.\n",
    "\n",
    "Each ad's activity from a user is logged either as a \"Click\" or an \"No Click\", like so\n",
    "\n",
    "| Date     | Campaign  | User Email       | Action  |\n",
    "|----------|---|---------------------|------------|\n",
    "| 1/1/1900 | B |fake.email@comcast.net   | No Click |\n",
    "| 1/1/1900 | A |real.email@goog1e.com | Click      |\n",
    "\n"
   ]
  },
  {
   "cell_type": "markdown",
   "metadata": {},
   "source": [
    "### 1.2.2 Experiment Goals \n",
    "\n",
    "Our objective is to get a user to enter our website. There are other motivations for a user to enter our site, ~~Like we want to see if the new campaign will generate us more money~~. However, we need to focus in on a specific goal respective metric such that we can create a downstream effect to generate more income from our site.\n",
    "\n",
    "That being said, in this scenario we want to have users click our ad--that's it. \n",
    "\n",
    "So, if we want to attempt to see a difference in the usability of the two ads A & B, then we would like to look at something like seeing a user being a passive reader, to clicking into the ad.\n",
    "\n",
    "![Clicks](https://media.giphy.com/media/3ogwG8ByATNb5EOm8E/giphy.gif)\n",
    "\n",
    "### 1.2.3 Metric Of Choice <span style='color:red'>*</span>\n",
    "\n",
    "Aligned with our objective to see what ad works for usability between the two variants, we select the Click Through Rate (CTR) as our Metric of Choice.\n",
    "\n",
    "Moreover, let the CTR proportion $\\hat{p}_i$ be defined as $\\hat{p}_i = \\tfrac{\\text{Total Number of Successes}}{\\text{Total Number of Events}} = \\tfrac{x_i}{n_i} $ \n",
    "\n",
    "where \n",
    "\n",
    "$x_i$ are the successes \n",
    "& \n",
    "$n_i$ is the total count of each sample.\n",
    "\n",
    "> Note: those who 'click' an ad is a binary metric, a user either clicks the button at some point, or she/he does not.\n",
    "\n",
    "Before proceding further into further steps of the A/B testing overview, let's review some statistical items using Campaign A..."
   ]
  },
  {
   "cell_type": "markdown",
   "metadata": {},
   "source": [
    "## 1.3  Stats 101, a brief review"
   ]
  },
  {
   "cell_type": "markdown",
   "metadata": {},
   "source": [
    "Before proceding into an A/B testing application, let's recollect some Statistical concepts utilized in the process:\n",
    "\n",
    "| Name     | Definition          | \n",
    "|----------|-----------------------|\n",
    "| Mean ($\\mu$) | $\\tfrac{\\sum_{i=1}^N  X_i}{n}$  |\n",
    "| Variance $ (\\sigma^2$) | $ \\tfrac{\\sum_{i=1}^N {(x_i -\\mu)^2}}{N}$| \n",
    "| Standard Deviation ($\\sigma $) | $ \\sqrt{ \\tfrac{\\sum_{i=1}^N {(x_i -\\mu)^2}}{N}} $  |\n",
    "\n"
   ]
  },
  {
   "cell_type": "code",
   "execution_count": 78,
   "metadata": {},
   "outputs": [],
   "source": [
    "def campaign_period(startDate, endDate):\n",
    "    from datetime import datetime, timedelta\n",
    "    \n",
    "    endDate_dt = datetime.strptime(endDate, '%m-%d-%Y')\n",
    "    startDate_dt = datetime.strptime(startDate,'%m-%d-%Y')\n",
    "    numberOfDays = (endDate_dt - startDate_dt).days\n",
    "    date_list = [endDate_dt - timedelta(days=x) for x in range(numberOfDays)]\n",
    "    date_list.append(startDate_dt)\n",
    "    \n",
    "    return(date_list)\n",
    "    #Inspiration via  https://stackoverflow.com/questions/993358/creating-a-range-of-dates-in-python\n",
    "    \n",
    "def campaign_dataset_generator(campaignName = 'PersonDoe-Campaign2019-n', \\\n",
    "                               weightArray=[.5,.5], sample_size = 100, \\\n",
    "                               timeframe = ['7-1-2019', '8-18-2019']):\n",
    "    import random\n",
    "    from faker import Faker\n",
    "    faker = Faker()\n",
    "    actions = ['Click','No Click']\n",
    "    campaignActions = random.choices(actions,\\\n",
    "                        weights=weightArray,\\\n",
    "                        k=sample_size)\n",
    "    campaignTimeFrame = campaign_period(timeframe[0],timeframe[1])\n",
    "    generatedScenario = [[random.choice(campaignTimeFrame), campaignName, faker.email(), i] for i in campaignActions]\n",
    "    return(generatedScenario)\n",
    "\n",
    "def campaign_df_generator(matrix,columns):\n",
    "    campaignsDataset = pd.DataFrame(matrix,\\\n",
    "                                columns = columns)\n",
    "    \n",
    "    campaignsDataset.sort_values(by='Date',\\\n",
    "                             ascending=True, inplace = True)\n",
    "    campaignsDataset = campaignsDataset.pivot_table(index=['Date','Campaign'],\\\n",
    "                                                columns='Action',\\\n",
    "                                                aggfunc='size',\\\n",
    "                                                fill_value=0).reset_index(drop=False)\n",
    "    campaignsDataset[['Click','No Click']] = campaignsDataset[['Click','No Click']].astype(float)\n",
    "\n",
    "    campaignsDataset.rename_axis(None,axis=1,inplace=True)\n",
    "    uniqueCamp =campaignsDataset['Campaign'].unique()\n",
    "    returnedObjects = []\n",
    "    for element in uniqueCamp:\n",
    "        returnedObjects.append(campaignsDataset[campaignsDataset['Campaign'] == element])\n",
    "    \n",
    "    return(returnedObjects)\n",
    "\n",
    "def express_campaign_df_generator(campaignList,weightMatrix, sample_size):\n",
    "    firstCamp = campaign_dataset_generator(campaignList[0],weightMatrix[0], sample_size)\n",
    "    secondCamp = campaign_dataset_generator(campaignList[1],weightMatrix[1], sample_size)\n",
    "    combinedCampaigns = [*firstCamp, *secondCamp]\n",
    "    # https://stackoverflow.com/questions/1720421/how-do-i-concatenate-two-lists-in-python\n",
    "    \n",
    "    columns = ['Date','Campaign','User_ID','Action']\n",
    "\n",
    "    dfs = campaign_df_generator(combinedCampaigns, columns)\n",
    "    \n",
    "    return(dfs)"
   ]
  },
  {
   "cell_type": "code",
   "execution_count": 79,
   "metadata": {},
   "outputs": [],
   "source": [
    "def distribution_plot(series, series2=None, name_of_campaign = ''):\n",
    "\n",
    "    sns.distplot( series['CTR'], hist=True, kde=True, \\\n",
    "        kde_kws = {'shade': True, 'linewidth': 3})\n",
    "\n",
    "    plt.title(f'Campaign {name_of_campaign}\\'s Success Distribution')\n",
    "\n",
    "    plt.xlabel(series['CTR'].name)\n",
    "    plt.show()"
   ]
  },
  {
   "cell_type": "code",
   "execution_count": 80,
   "metadata": {},
   "outputs": [],
   "source": [
    "## [Optional] Quick location to change the size for the following datasets\n",
    "size = 1600"
   ]
  },
  {
   "cell_type": "code",
   "execution_count": 81,
   "metadata": {},
   "outputs": [],
   "source": [
    "campaign1_name = 'PersonDoe-Campaign2019-1'\n",
    "campaign2_name = 'PersonDoe-Campaign2019-2'\n",
    "\n",
    "\n",
    "firstCampaign_ds = campaign_dataset_generator(campaignName = campaign1_name, \\\n",
    "                                           weightArray = [.5, .5], \\\n",
    "                                           sample_size = size)\n",
    "\n",
    "secondCampaign_ds = campaign_dataset_generator(campaignName = campaign2_name, \\\n",
    "                                            weightArray = [.53, .47], \\\n",
    "                                            sample_size = size)\n",
    "\n",
    "# Concatenate matrices/arrays\n",
    "\n",
    "combinedCampaigns = [*firstCampaign_ds, *secondCampaign_ds]\n",
    "\n",
    "columns = ['Date','Campaign','User_ID','Action']\n",
    "\n",
    "\n",
    "dfs = campaign_df_generator(combinedCampaigns, columns)\n",
    "\n",
    "campaign1 = dfs[0]\n",
    "campaign2 = dfs[1]"
   ]
  },
  {
   "cell_type": "code",
   "execution_count": 82,
   "metadata": {},
   "outputs": [
    {
     "data": {
      "text/html": [
       "<div>\n",
       "<style scoped>\n",
       "    .dataframe tbody tr th:only-of-type {\n",
       "        vertical-align: middle;\n",
       "    }\n",
       "\n",
       "    .dataframe tbody tr th {\n",
       "        vertical-align: top;\n",
       "    }\n",
       "\n",
       "    .dataframe thead th {\n",
       "        text-align: right;\n",
       "    }\n",
       "</style>\n",
       "<table border=\"1\" class=\"dataframe\">\n",
       "  <thead>\n",
       "    <tr style=\"text-align: right;\">\n",
       "      <th></th>\n",
       "      <th>Date</th>\n",
       "      <th>Campaign</th>\n",
       "      <th>Click</th>\n",
       "      <th>No Click</th>\n",
       "    </tr>\n",
       "  </thead>\n",
       "  <tbody>\n",
       "    <tr>\n",
       "      <th>0</th>\n",
       "      <td>2019-07-01</td>\n",
       "      <td>PersonDoe-Campaign2019-1</td>\n",
       "      <td>21.0</td>\n",
       "      <td>14.0</td>\n",
       "    </tr>\n",
       "    <tr>\n",
       "      <th>2</th>\n",
       "      <td>2019-07-02</td>\n",
       "      <td>PersonDoe-Campaign2019-1</td>\n",
       "      <td>12.0</td>\n",
       "      <td>14.0</td>\n",
       "    </tr>\n",
       "    <tr>\n",
       "      <th>4</th>\n",
       "      <td>2019-07-03</td>\n",
       "      <td>PersonDoe-Campaign2019-1</td>\n",
       "      <td>21.0</td>\n",
       "      <td>17.0</td>\n",
       "    </tr>\n",
       "  </tbody>\n",
       "</table>\n",
       "</div>"
      ],
      "text/plain": [
       "        Date                  Campaign  Click  No Click\n",
       "0 2019-07-01  PersonDoe-Campaign2019-1   21.0      14.0\n",
       "2 2019-07-02  PersonDoe-Campaign2019-1   12.0      14.0\n",
       "4 2019-07-03  PersonDoe-Campaign2019-1   21.0      17.0"
      ]
     },
     "execution_count": 82,
     "metadata": {},
     "output_type": "execute_result"
    }
   ],
   "source": [
    "# Check out the first 3 columns of dataframe campaign1\n",
    "campaign1.head(3)"
   ]
  },
  {
   "cell_type": "code",
   "execution_count": 83,
   "metadata": {},
   "outputs": [
    {
     "data": {
      "text/html": [
       "<div>\n",
       "<style scoped>\n",
       "    .dataframe tbody tr th:only-of-type {\n",
       "        vertical-align: middle;\n",
       "    }\n",
       "\n",
       "    .dataframe tbody tr th {\n",
       "        vertical-align: top;\n",
       "    }\n",
       "\n",
       "    .dataframe thead th {\n",
       "        text-align: right;\n",
       "    }\n",
       "</style>\n",
       "<table border=\"1\" class=\"dataframe\">\n",
       "  <thead>\n",
       "    <tr style=\"text-align: right;\">\n",
       "      <th></th>\n",
       "      <th>Date</th>\n",
       "      <th>Campaign</th>\n",
       "      <th>Click</th>\n",
       "      <th>No Click</th>\n",
       "    </tr>\n",
       "  </thead>\n",
       "  <tbody>\n",
       "    <tr>\n",
       "      <th>1</th>\n",
       "      <td>2019-07-01</td>\n",
       "      <td>PersonDoe-Campaign2019-2</td>\n",
       "      <td>16.0</td>\n",
       "      <td>18.0</td>\n",
       "    </tr>\n",
       "    <tr>\n",
       "      <th>3</th>\n",
       "      <td>2019-07-02</td>\n",
       "      <td>PersonDoe-Campaign2019-2</td>\n",
       "      <td>20.0</td>\n",
       "      <td>12.0</td>\n",
       "    </tr>\n",
       "    <tr>\n",
       "      <th>5</th>\n",
       "      <td>2019-07-03</td>\n",
       "      <td>PersonDoe-Campaign2019-2</td>\n",
       "      <td>11.0</td>\n",
       "      <td>21.0</td>\n",
       "    </tr>\n",
       "  </tbody>\n",
       "</table>\n",
       "</div>"
      ],
      "text/plain": [
       "        Date                  Campaign  Click  No Click\n",
       "1 2019-07-01  PersonDoe-Campaign2019-2   16.0      18.0\n",
       "3 2019-07-02  PersonDoe-Campaign2019-2   20.0      12.0\n",
       "5 2019-07-03  PersonDoe-Campaign2019-2   11.0      21.0"
      ]
     },
     "execution_count": 83,
     "metadata": {},
     "output_type": "execute_result"
    }
   ],
   "source": [
    "# Check out the first 3 columns of dataframe campaign2\n",
    "campaign2.head(3)"
   ]
  },
  {
   "cell_type": "markdown",
   "metadata": {},
   "source": [
    "### 1.3.1 Mean"
   ]
  },
  {
   "cell_type": "markdown",
   "metadata": {},
   "source": [
    "The (Arithmetic) $\\text{Mean}$ $\\mu$ is a calculated values that summarizes the total sum of values divided by the the total count of values being summed up, \n",
    "or $\\mu = \\tfrac{\\sum_{i=1}^N {x_i}}{N}$\n",
    "\n",
    "\n"
   ]
  },
  {
   "cell_type": "code",
   "execution_count": 84,
   "metadata": {},
   "outputs": [],
   "source": [
    "# For some given set of values generated from the fake data we created, we calculate the mean\n",
    "\n",
    "firstFiveValues = campaign1.Click[:5]\n",
    "\n",
    "testMean_numerator = firstFiveValues.sum()\n",
    "testMean_denominator = firstFiveValues.size\n",
    "\n",
    "testMean = testMean_numerator / testMean_denominator"
   ]
  },
  {
   "cell_type": "code",
   "execution_count": 85,
   "metadata": {},
   "outputs": [
    {
     "name": "stdout",
     "output_type": "stream",
     "text": [
      "We have array [21.0, 12.0, 21.0, 18.0, 7.0]. \n",
      "\n",
      "Taking the total sum, 79.0, and then dividing by the size 5 we get the average of...\n",
      "79.0/5 = 15.8\n"
     ]
    }
   ],
   "source": [
    "print(f\"We have array {list(firstFiveValues)}. \\n\\nTaking the total sum, {testMean_numerator},\", \n",
    "      f\"and then dividing by the size {testMean_denominator}\", \n",
    "      f\"we get the average of...\\n{testMean_numerator}/{testMean_denominator} = {testMean}\")"
   ]
  },
  {
   "cell_type": "markdown",
   "metadata": {},
   "source": [
    "### 1.3.2 Variance & Standard Deviation"
   ]
  },
  {
   "cell_type": "markdown",
   "metadata": {},
   "source": [
    "Variance is the measure of spread of a given set of values. Taking the squared root of the variance, we have a measure of spread in the same units as the spread. That being said, we see that the Variance and Standard Deviation are related."
   ]
  },
  {
   "cell_type": "markdown",
   "metadata": {},
   "source": [
    "Standard Deviation $ \\sigma = \\sqrt{\\text{Variance}} = \\sqrt{\\sigma ^2}= \\sqrt{ \\tfrac{\\sum_{i=1}^N {(x_i -\\mu)^2}}{N}} $ "
   ]
  },
  {
   "cell_type": "code",
   "execution_count": 86,
   "metadata": {},
   "outputs": [],
   "source": [
    "testVar_numerator = np.power([firstFiveValues - testMean],2).sum()\n",
    "testVar_denominator = (testMean_denominator-1)\n",
    "\n",
    "testVar = testVar_numerator/testVar_denominator"
   ]
  },
  {
   "cell_type": "code",
   "execution_count": 87,
   "metadata": {},
   "outputs": [],
   "source": [
    "testStd_numerator = round(np.sqrt(testVar),3)"
   ]
  },
  {
   "cell_type": "code",
   "execution_count": 88,
   "metadata": {},
   "outputs": [
    {
     "name": "stdout",
     "output_type": "stream",
     "text": [
      "We have array [21.0, 12.0, 21.0, 18.0, 7.0], with mean 15.8.  \n",
      "\n",
      "Taking summed squared difference from the mean, 150.8, and then dividing by the size - 1, 4, we get a variance of...\n",
      "150.8/4 = 37.7.\n",
      " Lastly, taking the square root of the variance, we get a Standard Deviation of...6.14\n"
     ]
    }
   ],
   "source": [
    "print(f\"We have array {list(firstFiveValues)}, with mean {testMean}.\",\n",
    "      f\" \\n\\nTaking summed squared difference from the mean, {testVar_numerator},\", \n",
    "      f\"and then dividing by the size - 1, {testVar_denominator},\", \n",
    "      f\"we get a variance of...\\n{testVar_numerator}/{testVar_denominator} = {testVar}.\\n\", \n",
    "      f\"Lastly, taking the square root of the variance, we get a Standard Deviation of...{testStd_numerator}\")"
   ]
  },
  {
   "cell_type": "markdown",
   "metadata": {},
   "source": [
    "# 2.0 A/B Testing\n",
    "\n",
    "Coming back to our analysis, recall we had deployed two digital ad campaigns A and B. Moreover, recall Campaign A has some _Call to Action_ \"Click here, please!\".\n",
    "\n",
    "Let Campaign B be a replica of A, but with a subtle change to the Call to Action text \"Learn more here!\". \n",
    "\n",
    "\n",
    "We want to meausure the performance between each campaigns. \n",
    "\n",
    "But..."
   ]
  },
  {
   "cell_type": "markdown",
   "metadata": {},
   "source": [
    "**How do we measure the performance of each campaign?**"
   ]
  },
  {
   "cell_type": "markdown",
   "metadata": {},
   "source": [
    "There are a few options. And we may not be sure, but that's okay!\n",
    "\n",
    "Our objective is to gauge the rate of users coming into our site, from a search on the internet. Particularly, we want to measure the performance of a click into our website--that being said, we will choose our metric of choice to be the Click Through Rate (CTR).\n",
    "\n",
    "> CTR Is defined as $\\text{CTR} := \\tfrac{\\text{Total Number of Successes}}{\\text{Total Number of Events}}$\n",
    "\n",
    "> Note: There are other evaluation metrics for variant variables\n",
    "\n",
    "Now, say we calculate the CTR performance for each campaign. Fantastic!\n",
    "\n",
    "However, should we just \"eye\" the performance of these two campaigns? If we should not, what's the statistical approach to comparing these two performances.\n",
    "\n",
    "```\n",
    "How can we measure the differences between these groups? \n",
    "\n",
    "How do we know that the difference between these two are great?\n",
    "\n",
    "What are the statistical options to measure the differences?\n",
    "```\n",
    "\n",
    "One method we can turn to A/B Testing.\n",
    "\n",
    "What is A/B Testing?\n",
    "\n",
    "\n",
    "**A/B Testing** is \"[a randomized experiment of two variants, A and B.](https://en.wikipedia.org/wiki/A/B_testing)” This test quantitatively compares two samples with a single \"metric of choice\" in evaluation to determine if there exists a statistical significance between them."
   ]
  },
  {
   "cell_type": "markdown",
   "metadata": {},
   "source": [
    "They are essentially a modern adaptation of statistical experiment frameworks called Hypothesis tests. \n",
    "\n",
    "> Commentary: There are those that do believe A/B tests are distinct from Hypothesis tests, given the difference in nature of experimentation setup, etc. However, there are many that believe  A/B tests were borrowed from the Statistics world, and labeled an edgy/cool name to distinguish iteself. #Marketing "
   ]
  },
  {
   "cell_type": "markdown",
   "metadata": {},
   "source": [
    "![Not Lame](../Resources/Images/not_lame_meme.png)   "
   ]
  },
  {
   "cell_type": "markdown",
   "metadata": {},
   "source": [
    "## 2.1 A/B Testing Background\n",
    "\n",
    "A \"high-level\" overview of A/B testing can be illustrated in the following:\n",
    "\n",
    "\n",
    "![AB Testing Format](../Resources/Images/ABTesting-Format.png)\n",
    "\n",
    "(**Source**: [“Probably Overthinking It” by Allen Downey](http://allendowney.blogspot.com/2016/06/there-is-still-only-one-test.html))\n"
   ]
  },
  {
   "cell_type": "markdown",
   "metadata": {},
   "source": [
    "Student's introduction to Statistics can involve the following tree of decisions:\n"
   ]
  },
  {
   "cell_type": "markdown",
   "metadata": {},
   "source": [
    "![Tree](../Resources/Images/AB-Testing-Choices-Tree.png)\n",
    "\n",
    "[Source](https://bloomingtontutors.com/blog/when-to-use-the-z-test-versus-t-test)"
   ]
  },
  {
   "cell_type": "markdown",
   "metadata": {},
   "source": [
    "**But wait...there's more!** \n",
    "\n",
    "If you observe in the decision tree above, notice one has to select the right calculation & criteria for their experiment. They have to consider assumptions like data distribution, data types, number of samples, or even how the data was collected. \n",
    "\n",
    "Those were just a few listed amount of options, but there are other calculation methods for hypothesis testing..."
   ]
  },
  {
   "cell_type": "markdown",
   "metadata": {},
   "source": [
    "![AB-Testing-Choices-Tree](../Resources/Images/Test-Choice-Wiki.png)"
   ]
  },
  {
   "cell_type": "markdown",
   "metadata": {},
   "source": [
    "________"
   ]
  },
  {
   "cell_type": "markdown",
   "metadata": {},
   "source": [
    "\n",
    "![AB-Testing-Choices-Tree](../Resources/Images/Test-Choice-Current-Scenario.png)\n",
    "\n"
   ]
  },
  {
   "cell_type": "markdown",
   "metadata": {},
   "source": [
    "> **Commentary:** Other mentions or comparisons between Z-test & T-test, $\\chi^2$ test, and other items from the above may be covered in the Appendix section, or referenced repository, seen in the **\"Resources\"** section."
   ]
  },
  {
   "cell_type": "markdown",
   "metadata": {},
   "source": [
    "![Sleepy](../Resources/Images/tired_gif.gif)\n"
   ]
  },
  {
   "cell_type": "markdown",
   "metadata": {},
   "source": [
    "Thank you for bearing with me in the preliminary terminology and introduction. \n",
    "\n",
    "I know you came to see a talk about A/B testing, so let's get started.\n",
    "\n",
    "\n",
    "In our A/B Test implementation, we keep in mind of the following procedure:\n",
    "\n",
    "1. State your Hypothesis \n",
    "2. Statistical Assumptions\n",
    "3. Define and collect control group information\n",
    "4. Identify you Minimum Detectable Effect, Sample Size, and more\n",
    "5. Analyze\n",
    "6. Conclusion\n",
    "\n",
    "> Note: Carefully implementing these procedures in one's experiment, we ensure a resound testing framework & reduced risk of incorrect results."
   ]
  },
  {
   "cell_type": "markdown",
   "metadata": {},
   "source": [
    "## 2.2 Testing, Testing..1,2,3.\n"
   ]
  },
  {
   "cell_type": "markdown",
   "metadata": {},
   "source": [
    "## 2.2.1 State Your Hypothesis\n"
   ]
  },
  {
   "cell_type": "markdown",
   "metadata": {},
   "source": [
    "We have two ad campaigns $A$ and $B$.\n",
    "\n",
    "We would like to observe if there is a difference in performance between these groups. Particularly, we want to observe if there is a statistically significant difference in their average CTR performance."
   ]
  },
  {
   "cell_type": "markdown",
   "metadata": {},
   "source": [
    "Let $\\hat{p_1}$ = $\\text{CTR}_{\\text{Campaign A}}$  and $\\hat{p_2}$  = $\\text{CTR}_{\\text{Campaign B}}$ be the CTR proportions for campaign A & B, respectively.\n",
    "\n",
    "where $\\hat{p}:= \\tfrac{\\text{# of Clicks}}{\\text{Total # of events}}$\n"
   ]
  },
  {
   "cell_type": "markdown",
   "metadata": {},
   "source": [
    "We state:\n",
    "\n",
    "$H_0: d= \\hat{p_1} - \\hat{p_2} = 0$\n",
    "\n",
    "\n",
    "$H_1: d =\\hat{p_1} - \\hat{p_2} \\neq 0$\n"
   ]
  },
  {
   "cell_type": "markdown",
   "metadata": {},
   "source": [
    "We would establish a Level of Significance, $\\alpha$. \n",
    "\n",
    "Set $\\alpha = .05$. "
   ]
  },
  {
   "cell_type": "code",
   "execution_count": 89,
   "metadata": {},
   "outputs": [],
   "source": [
    "alpha = 0.05"
   ]
  },
  {
   "cell_type": "markdown",
   "metadata": {},
   "source": [
    "### So what does this mean?"
   ]
  },
  {
   "cell_type": "markdown",
   "metadata": {},
   "source": [
    "We had choosen one of 3 hypotheses to consider in a test. What are the other ones?"
   ]
  },
  {
   "cell_type": "markdown",
   "metadata": {},
   "source": [
    "Let $H_0$ be our Null Hypothesis, the statement saying the comparison between these two groups have no observed statistical difference.\n",
    "\n",
    "Let $H_a$ be our Alternative Hypothesis, the statement saying there comparison between these two groups has some observed statistical difference.\n",
    "\n",
    "Under the assumption of our $H_0: \\mu = \\text{value}$\n",
    "\n",
    "We can state one of three possibile scenarios:"
   ]
  },
  {
   "cell_type": "markdown",
   "metadata": {},
   "source": [
    "![Types of Test](../Resources/Images/two_tailed_test.png)\n",
    "\n",
    "[Source](https://www.fromthegenesis.com/difference-between-one-tail-test-and-two-tail-test/)\n"
   ]
  },
  {
   "cell_type": "markdown",
   "metadata": {},
   "source": [
    "It should be noted here that we are **not trying to prove that there is a significant difference**, $H_a$. \n",
    "\n",
    "Rather, we are observing from the standpoint of no difference to see if one exists."
   ]
  },
  {
   "cell_type": "markdown",
   "metadata": {},
   "source": [
    "\n",
    "> Commentary: Imagine being in a state of being leanient until proven guilty, compared to innocent until proven so. The incentive to not be within a neutral standpoint may lead to the illusion of proving or justifying the interest of yourself or another party's agenda, when that's not the case. \n",
    "\n",
    "> ![Court](../Resources/Images/innocent_court.gif)"
   ]
  },
  {
   "cell_type": "markdown",
   "metadata": {},
   "source": [
    "Now, what is that $\\alpha$ value?\n",
    "\n",
    "Imagine the scenario where $H_1$ was true-- that is, there does exist a statistically significant difference between the the two CTR proportions ( d $\\neq$ 0). \n",
    "\n",
    "If there was some significance between these two calculations, what is the threshold to reliably establish that, and ergo reject the Null Hypothesis $H_0$?\n",
    "\n",
    "\n",
    "We would establish a **Level of Significance**, $\\alpha$.\n",
    "\n",
    "> This significance level $\\alpha$ is the probability of rejecting the null hypothesis $H_0$, when $H_0$ is true.\n",
    "> I.e. The probability of incorrectly rejecting our original hypothesis when it was actually true, due to chance is 5%.\n",
    ">\n",
    "> Lastly, $1-\\alpha$ is our Confidence level, the probability of failing to reject the null hypothesis, when $H_0$ is true."
   ]
  },
  {
   "cell_type": "code",
   "execution_count": 107,
   "metadata": {},
   "outputs": [],
   "source": [
    "# x1 = np.linspace(-4,20,100)\n",
    "# mean1 = np.mean(x1)\n",
    "# std1 = np.std(x1)\n",
    "\n",
    "# y1 = scipy.stats.norm.pdf(x1,mean1,std1)\n",
    "\n",
    "\n",
    "# x2 = np.linspace(6,30,100)\n",
    "# mean2 = np.mean(x2)\n",
    "# std2 = np.std(x2)\n",
    "\n",
    "# y2 = scipy.stats.norm.pdf(x2,mean2,std2)"
   ]
  },
  {
   "cell_type": "code",
   "execution_count": 108,
   "metadata": {},
   "outputs": [],
   "source": [
    "# deltaX = np.linspace(min(x2), z, 100)\n",
    "# deltaY = y2-y1"
   ]
  },
  {
   "cell_type": "code",
   "execution_count": 109,
   "metadata": {},
   "outputs": [],
   "source": [
    "# norm = scipy.stats.norm\n",
    "\n",
    "\n",
    "# pepe_params = norm.fit(x1)\n",
    "# modern_params = norm.fit(x2)\n",
    "\n",
    "# xmin = min(x1.min(), x2.min())\n",
    "# xmax = max(x1.max(), x2.max())\n",
    "# x = np.linspace(-15, 35, 100)\n",
    "\n",
    "# pepe_pdf = norm(*pepe_params).pdf(x)\n",
    "# modern_pdf = norm(*modern_params).pdf(x)\n",
    "# y = np.minimum(modern_pdf, pepe_pdf)\n",
    "\n",
    "# fig, ax = plt.subplots()\n",
    "# ax.set_ylim(min(modern_pdf),max(modern_pdf))\n",
    "# ax.axvline(1.96 * (np.std(x)/(np.sqrt(100)-1)) + np.mean(x) , color='red')\n",
    "# ax.plot(x, pepe_pdf, color='blue')\n",
    "# ax.plot(x, modern_pdf, color='orange')\n",
    "# ax.fill_between(x, y, color='red', alpha=0.3)\n",
    "# plt.show()"
   ]
  },
  {
   "cell_type": "markdown",
   "metadata": {},
   "source": [
    "### 3.1.4 4 different decision cases\n",
    "\n",
    "We saw the mention of the significance level $\\alpha$ and confidence level $1-\\alpha$. However, there are two more situations one can land in their decision.\n",
    "\n",
    "One is the probability of failing to reject the null hypothesis $H_0$, when $H_0$ is False-- $\\beta$.\n",
    "\n",
    "> That is, what is the probability of sticking to our ways given that there is statistical evidence an alternative scenario exists?\n",
    "\n",
    "And the last probability to mention is $1-\\beta$, which is the probability of rejecting the null hypothesis $H_0$, when $H_0$ is false. This is called the **power** of a test, and is traditionally expected to be .80.\n",
    "\n",
    "The following is a visual representation:"
   ]
  },
  {
   "cell_type": "markdown",
   "metadata": {},
   "source": [
    "\n",
    "![MDE n'Alpha graph](../Resources/Images/graph_mde_alpha_exp.png)\n",
    "\n",
    "[Source](https://blog.twitter.com/engineering/en_us/a/2016/power-minimal-detectable-effect-and-bucket-size-estimation-in-ab-tests.html)"
   ]
  },
  {
   "cell_type": "markdown",
   "metadata": {},
   "source": [
    "In matrix form,\n",
    "\n",
    "![AB Testing Decisions](../Resources/Images/ab_testing_choices.png)\n",
    "\n",
    "[Source](https://www.abtasty.com/blog/type-1-and-type-2-errors/)"
   ]
  },
  {
   "cell_type": "markdown",
   "metadata": {},
   "source": [
    "### 3.2.5 Basic Assumptions <span style='color:red'>*</span>\n",
    "\n",
    "From the collected samples for this type of targeted data, we assume the following conditions:\n",
    "\n",
    "* Each click event is independent from one another\n",
    "\n",
    "* We have a Simple Random Sample\n",
    "\n",
    "* A user either clicks or does not click (leaves an impression) for an ad\n",
    "\n",
    "* Assumption of Central Limit Theorem for normal distribution\n",
    "\n",
    "    * With an appropriate traffic size, the binomial-like distribution of this scenario reaches a Standard Normal (Gaussian) Distribution\n",
    "\n",
    "* Our invariants metrics, metrics not affected by the experiment, are the numbers of users "
   ]
  },
  {
   "cell_type": "markdown",
   "metadata": {},
   "source": [
    "#### 3.3.3 Data Transformation"
   ]
  },
  {
   "cell_type": "code",
   "execution_count": 95,
   "metadata": {},
   "outputs": [
    {
     "name": "stdout",
     "output_type": "stream",
     "text": [
      "DataFrame Schema:\n",
      "['Date', 'Campaign', 'Click', 'No Click']\n"
     ]
    }
   ],
   "source": [
    "# # Confirm Dataset Schema\n",
    "print(f'DataFrame Schema:\\n{campaign1.columns.tolist()}')"
   ]
  },
  {
   "cell_type": "markdown",
   "metadata": {},
   "source": [
    "We observe that the dataframe contains dimension information, along with measures like Clicks and No Clicks.\n",
    "\n",
    "However, none of these are not the CTR metric of choice.\n",
    "\n",
    "**Question**\n",
    "\n",
    "Recall the CTR formula from before. \n",
    "\n",
    "Create a column 'CTR' in the both dataframe's _campaign1_ and _campaign2_\n",
    "\n",
    "**CTR** $:= \\tfrac{\\text{?}_1}{\\text{?}_2}$\n",
    "\n",
    "Hint: Metric of Choice"
   ]
  },
  {
   "cell_type": "code",
   "execution_count": 96,
   "metadata": {},
   "outputs": [],
   "source": [
    "# Calculate the CTR for Dataframe column campaign1['CTR']\n",
    "campaign1['CTR'] = campaign1['Click'] / (campaign1['No Click'] + campaign1['Click'])\n",
    "\n",
    "# Calculate the CTR for Dataframe column campaign2['CTR']\n",
    "campaign2['CTR'] = campaign2['Click'] / (campaign2['No Click'] + campaign2['Click']) "
   ]
  },
  {
   "cell_type": "markdown",
   "metadata": {},
   "source": [
    "The Daily distribution of the CTR calculations are as followed"
   ]
  },
  {
   "cell_type": "code",
   "execution_count": 97,
   "metadata": {},
   "outputs": [
    {
     "data": {
      "image/png": "[encoded data removed]",
      "text/plain": [
       "<Figure size 432x288 with 1 Axes>"
      ]
     },
     "metadata": {},
     "output_type": "display_data"
    },
    {
     "data": {
      "image/png": "[encoded data removed]",
      "text/plain": [
       "<Figure size 432x288 with 1 Axes>"
      ]
     },
     "metadata": {},
     "output_type": "display_data"
    }
   ],
   "source": [
    "# First Distribution\n",
    "distribution_plot(series = campaign1, name_of_campaign= campaign1_name)\n",
    "\n",
    "# Second Distribution\n",
    "distribution_plot(series = campaign2, name_of_campaign= campaign2_name)"
   ]
  },
  {
   "cell_type": "code",
   "execution_count": 98,
   "metadata": {},
   "outputs": [],
   "source": [
    "# Proportion Calculations\n",
    "\n",
    "n1 = (campaign1['No Click'].sum() + campaign1['Click'].sum())\n",
    "p1 = campaign1['Click'].sum() / n1\n",
    "\n",
    "n2 = (campaign2['No Click'].sum() + campaign2['Click'].sum())\n",
    "p2 = campaign2['Click'].sum() / n2"
   ]
  },
  {
   "cell_type": "code",
   "execution_count": 99,
   "metadata": {},
   "outputs": [
    {
     "name": "stdout",
     "output_type": "stream",
     "text": [
      "Campaign 1: CTR = 0.483125 and Total Impressions are 1600.0\n",
      "Campaign 1: CTR = 0.528125 and Total Impressions are 1600.0\n"
     ]
    }
   ],
   "source": [
    "print(f'Campaign 1: CTR = {p1} and Total Impressions are {n1}')\n",
    "\n",
    "print(f'Campaign 1: CTR = {p2} and Total Impressions are {n2}')"
   ]
  },
  {
   "cell_type": "markdown",
   "metadata": {},
   "source": [
    "## 3.4 Analyze The Results <span style='color:red'>*</span>\n",
    "\n",
    "Recall that our test statistic is using the $t$ statistic defined as \n",
    "\n",
    "$t= \\tfrac{ \\hat{p_1} - \\hat{p_2} - 0 }{SE}$, \n",
    "\n",
    "where the standard error $SE = \\sqrt{(\\tfrac{\\hat{p_1} (1-\\hat{p_1})}{n_1}) + (\\tfrac{\\hat{p_2} (1-\\hat{p_2})}{n_2})}$\n",
    "\n",
    "> Note: When comparing between two groups, the notation $d:=\\hat{p_1} - \\hat{p_2}$ is introduced to simplify formula\n",
    "> This is considered a independent t-test with equal variance, and not a dependent t-test w or without equal metrics\n",
    "\n",
    "Moreover, our degrees of freedom for these two variants is defined as $DoF := (n_1 + n_2 -2)$"
   ]
  },
  {
   "cell_type": "markdown",
   "metadata": {},
   "source": [
    "### 3.4.1 Manual Approach\n",
    "\n",
    "For the following function, calculate the difference d, standard error, and t-statistic"
   ]
  },
  {
   "cell_type": "code",
   "execution_count": 100,
   "metadata": {},
   "outputs": [],
   "source": [
    "def ind_t_test(group1,group2, alpha, output_bool=False, state_conclusion =False, express=False):\n",
    "    \n",
    "    \n",
    "    '''\n",
    "    1. Take the proportions of provided datasets\n",
    "    2. get delta of two proportions\n",
    "    3. Obtain the Standard Deviation\n",
    "        - Combined group Standard errors\n",
    "    4. t-statistic\n",
    "    5. Calculating p-value\n",
    "    6. Statemtent of declaration\n",
    "    7. Decision\n",
    "    '''\n",
    "    \n",
    "    # Proportion Calculations.\n",
    "    n1 = (group1['No Click'].sum() + group1['Click'].sum())\n",
    "    p1 = group1['Click'].sum() / float(n1)\n",
    "\n",
    "    n2 = (group2['No Click'].sum() + group2['Click'].sum())\n",
    "    p2 = group2['Click'].sum()  / float(n2)\n",
    "    d= (p2-p1)\n",
    "    \n",
    "    # Standard Error of Proportions Calculations.\n",
    "    p_overall = (group1['Click'].sum() + group2['Click'].sum() )/ (n1+n2)\n",
    "    ## Term 1\n",
    "    ### Calculate the first term p_1 * (1-p_1) /n_1\n",
    "    se1 = (p_overall * (1- p_overall))/n1\n",
    "    \n",
    "    ## Term 2\n",
    "    ### Calculate the first term p_2 * (1-p_2) /n_2\n",
    "    se2 = (p_overall * (1- p_overall))/n2\n",
    "    \n",
    "    ##### Terms being squared for final result.\n",
    "    ####### sqrt( SE_1 + SE_2)\n",
    "    standardError = np.sqrt(float(se1) + float(se2))\n",
    "    standardError2 = np.sqrt( (p_overall * (1-p_overall))* (1/n1 + 1/n2) )\n",
    "    print('SE 1:', standardError)\n",
    "    print('SE 2:', standardError2)\n",
    "\n",
    "    # T statistic calculation.\n",
    "    ### d / Standard Error, where d:= p2-p1\n",
    "    tStatistic = (d) / standardError2 \n",
    "\n",
    "    # Degrees of Freedom\n",
    "    ### (n_1-1) + (n_2-1) = (n_1 + n_2 -2)\n",
    "    dof = (n1 + n2- 2.0)\n",
    "    \n",
    "    \n",
    "    # Critical T Value Test Statistic\n",
    "    criticalValue = scipy.stats.t.ppf(1.0 - alpha, df = dof)\n",
    "\n",
    "\n",
    "    # Confidence Interval\n",
    "    ### Tip: We'd like to avoid value of 0 in this CI\n",
    "    confInt = [d - (criticalValue * standardError), d + (criticalValue * standardError)]\n",
    "\n",
    "    \n",
    "    # Second type of decision criteria: |t| >= |t^*|.\n",
    "\n",
    "    # Two Sided P Value, P( |t| >= |t^*|).\n",
    "    ### Calcualte the p-value using a Cumulative Density function\n",
    "    ### from Scipy's stats.t.cdf(t-test, DoF) function\n",
    "    \n",
    "    p_val = (1 - scipy.stats.t.cdf(abs(tStatistic), df \\\n",
    "                                   = (n1 + n2-2)) ) * 2.0\n",
    "    \n",
    "    if output_bool is True:\n",
    "        print('Analysis:\\n\\n')\n",
    "        print(f'Campaign {group1.Campaign[0]}\\'s CTR: {round(p1,4)}' \\\n",
    "              + f' with Standard Error {se1}.')\n",
    "        print(f'Campaign {group2.Campaign[3]}\\'s CTR: {round(p2,4)}' \\\n",
    "              + f' with Standard Error {se2}.\\n')\n",
    "        \n",
    "        print(f\"Confidence Interval {confInt}\")\n",
    "        print(f'T Statistic: {round(tStatistic, 2)}\\n')\n",
    "        \n",
    "        print(f'We have critical value t^* at {round(criticalValue, 2)}' + \\\n",
    "              f'\\nand p-value of {round(p_val, 2)}')\n",
    "        \n",
    "        print(f'\\n\\nComponents for variants Campaign {group1.Campaign[0]}\\'s \\n& ' + \\\n",
    "              f'Campaign {group2.Campaign[3]}\\'s, respectively:')\n",
    "        \n",
    "        print(f'Difference d: {d}')\n",
    "        \n",
    "        print(f'SE terms within SE calculation: {[se1,se2]}')\n",
    "        print(f'SE: {standardError}')\n",
    "        \n",
    "        print(f'Calcualted T-statistic: {tStatistic}')\n",
    "        print(f'T critical value: {criticalValue}')\n",
    "        \n",
    "    if state_conclusion is True:\n",
    "        if express is False:\n",
    "            # Restate our decision process\n",
    "            print('Conclusion:\\n\\n')\n",
    "\n",
    "            print(f'If the p-value is less than our defined alpha = {alpha}, then we' +\\\n",
    "                  ' reject the null hypothesis H_0.\\nIf not, then we fail to reject the' +\\\n",
    "                  ' null hypothesis H_0.')\n",
    "\n",
    "            print(f'Confidence Interval: {confInt}')\n",
    "            print(f'P-value: {p_val}')\n",
    "            print(f'Alpha: {alpha}')\n",
    "        \n",
    "        if p_val < alpha:\n",
    "            print('\\nWe reject the Null Hypothesis H_0')\n",
    "            print('Therefore, we can say that there is a statistical ' + \\\n",
    "            'difference between the two campaigns.')\n",
    "\n",
    "        else:\n",
    "            print('\\nWe fail to reject the Null Hypothesis H_0')\n",
    "            print('\\nTherefore, we can say that there is no statistical' + \\\n",
    "            ' significant difference between the two campaigns.')\n",
    "    return([p1,p2], [n1,n2], \\\n",
    "           [se1,se2], standardError, \\\n",
    "           tStatistic, criticalValue, \\\n",
    "           confInt, p_val)"
   ]
  },
  {
   "cell_type": "markdown",
   "metadata": {},
   "source": [
    "If the calculated t-statistic $t$ > critical value $t^*$, then we reject the null hypothesis $H_0$, and accept the alternative hypothesis $H_1$.\n",
    "\n",
    "\n",
    "> Equivalently, if $p < \\alpha$, then we  reject the null hypothesis $H_0$. \n",
    "\n",
    ">> P-value is the probability of obtaining an effect at least as extreme as the one in your sample data, assuming null hypothesis is true.\n",
    "\n",
    "It does not measure support for alternative hypothesis\n",
    "\n",
    "If not, then we fail to reject the null hypothesis $H_0$. "
   ]
  },
  {
   "cell_type": "code",
   "execution_count": 101,
   "metadata": {},
   "outputs": [
    {
     "name": "stdout",
     "output_type": "stream",
     "text": [
      "SE 1: 0.017676550829241265\n",
      "SE 2: 0.017676550829241265\n",
      "Analysis:\n",
      "\n",
      "\n",
      "Campaign PersonDoe-Campaign2019-1's CTR: 0.4831 with Standard Error 0.000156230224609375.\n",
      "Campaign PersonDoe-Campaign2019-2's CTR: 0.5281 with Standard Error 0.000156230224609375.\n",
      "\n",
      "Confidence Interval [0.015916236355190388, 0.07408376364480947]\n",
      "T Statistic: 2.55\n",
      "\n",
      "We have critical value t^* at 1.65\n",
      "and p-value of 0.01\n",
      "\n",
      "\n",
      "Components for variants Campaign PersonDoe-Campaign2019-1's \n",
      "& Campaign PersonDoe-Campaign2019-2's, respectively:\n",
      "Difference d: 0.04499999999999993\n",
      "SE terms within SE calculation: [0.000156230224609375, 0.000156230224609375]\n",
      "SE: 0.017676550829241265\n",
      "Calcualted T-statistic: 2.5457455153275212\n",
      "T critical value: 1.645330241502658\n",
      "Conclusion:\n",
      "\n",
      "\n",
      "If the p-value is less than our defined alpha = 0.05, then we reject the null hypothesis H_0.\n",
      "If not, then we fail to reject the null hypothesis H_0.\n",
      "Confidence Interval: [0.015916236355190388, 0.07408376364480947]\n",
      "P-value: 0.010951006847192302\n",
      "Alpha: 0.05\n",
      "\n",
      "We reject the Null Hypothesis H_0\n",
      "Therefore, we can say that there is a statistical difference between the two campaigns.\n"
     ]
    }
   ],
   "source": [
    "ctr, samples, \\\n",
    "sample_se, SE, \\\n",
    "tStat, tCrit, \\\n",
    "confidence_interval, p_val = ind_t_test(group1 = campaign1,\n",
    "                                        group2= campaign2, \\\n",
    "                                        alpha = alpha,\\\n",
    "                                        output_bool=True, \\\n",
    "                                        state_conclusion=True)\n"
   ]
  },
  {
   "cell_type": "markdown",
   "metadata": {},
   "source": [
    "### 3.4.2 StatModels Approach\n",
    "\n",
    "We use StatModel's [Proportion Z-Test](https://tedboy.github.io/statsmodels_doc/doc/generated/statsmodels.stats.proportion.proportions_ztest.html) with with an assumed equal variance between both samples."
   ]
  },
  {
   "cell_type": "code",
   "execution_count": 102,
   "metadata": {},
   "outputs": [
    {
     "name": "stdout",
     "output_type": "stream",
     "text": [
      "StatModels's Calculated t-statistic is -2.5457 and p-value is 0.010904465205068903\n"
     ]
    }
   ],
   "source": [
    "# Try out the Proportion Z-Test from the StatModel library \n",
    "# statsmodels.stats.proportion.proportions_ztest()\n",
    "\n",
    "from statsmodels.stats.proportion import proportions_ztest\n",
    "\n",
    "\n",
    "trial_successes = np.array([campaign1['Click'].sum()  , \\\n",
    "              campaign2['Click'].sum()])\n",
    "total = np.array([campaign1['No Click'].sum() + campaign1['Click'].sum(), \\\n",
    "              campaign2['No Click'].sum() + campaign2['Click'].sum()])\n",
    "\n",
    "zTest_statistic, zTest_pval = proportions_ztest(trial_successes, total, value=0, alternative='two-sided')\n",
    "\n",
    "print(f'StatModels\\'s Calculated t-statistic is {round(zTest_statistic,4)}' + \\\n",
    "      f' and p-value is {zTest_pval}')"
   ]
  },
  {
   "cell_type": "markdown",
   "metadata": {},
   "source": [
    "That's it, that's the test.\n",
    "\n",
    "![Awk](../Resources/Images/awkward_meme.png)\n",
    "\n",
    "Oh, but we should still respectively state our conclusion (for respect of the test)..."
   ]
  },
  {
   "cell_type": "code",
   "execution_count": 104,
   "metadata": {},
   "outputs": [
    {
     "name": "stdout",
     "output_type": "stream",
     "text": [
      "\n",
      "We reject the Null Hypothesis H_0\n",
      "Therefore, we can say that there is a statistical difference between the two campaigns.\n"
     ]
    }
   ],
   "source": [
    "if zTest_pval < alpha:\n",
    "    print('\\nWe reject the Null Hypothesis H_0')\n",
    "    print('Therefore, we can say that there is a statistical ' + \\\n",
    "    'difference between the two campaigns.')\n",
    "\n",
    "else:\n",
    "    print('\\nWe fail to reject the Null Hypothesis H_0')\n",
    "    print('\\nTherefore, we can say that there is no statistical' + \\\n",
    "    ' significant difference between the two campaigns.')"
   ]
  },
  {
   "cell_type": "markdown",
   "metadata": {},
   "source": [
    "However, there may be some error in setup, rounding, or another type of error in the Manual approach.\n",
    "\n",
    "With that being said, remember...\n",
    "\n",
    "\n",
    "![Always be Testing](../Resources/Images/always_be_testing.png)\n"
   ]
  },
  {
   "cell_type": "markdown",
   "metadata": {},
   "source": [
    "Or to others...\n",
    "\n",
    "![A/B testing, here we go again](../Resources/Images/here_we_go_again.png)\n"
   ]
  },
  {
   "cell_type": "markdown",
   "metadata": {},
   "source": [
    "# 4.0 Remarks and Considerations <span style='color:red'>*</span>\n",
    "\n",
    "[“Ignorance more frequently begets confidence than does knowledge”](https://www.goodreads.com/quotes/24141-ignorance-more-frequently-begets-confidence-than-does-knowledge-it-is)\n",
    "\n",
    "― Charles Darwin, The Descent of Man"
   ]
  },
  {
   "cell_type": "markdown",
   "metadata": {},
   "source": [
    "### 3.2.6 Segmentation\n",
    "\n",
    "The type of users we are interested in depends on who our targeted audience is for this testing. \n",
    "(e.g. Do we simply sample from the overall population of this test, or are we evaluating performance between a particular group? \n",
    "\n",
    "From our previous mention of keywords, Google Ads enables us to selectively target our ads in a bid for certain types of keywords. If we win the bid, our ad is shown related to that keyword. \n",
    "\n",
    "> Note: If our segmentation is too specific, we lead into the impliciation of incorrectly rejecting our existing, null, hypothesis for another--something called the **Simpson's Paradox**. This is because the more refined our segmentation is, we target a specific case or decrease our # of observations such that we lead to those results.\n",
    "\n",
    "> Luckily, to best audit that one can identify if the culmination of different segments have the same results as the total sample "
   ]
  },
  {
   "cell_type": "markdown",
   "metadata": {},
   "source": [
    "That is, identify if segments $A_n$, where $n \\in {1,2,...n}$'s overall results hold true for sample $A$\n",
    "\n",
    "![Simpon's Paradox Example](../Resources/Images/simpons_paradox_example.png)"
   ]
  },
  {
   "cell_type": "markdown",
   "metadata": {},
   "source": [
    "### 3.2.7 Minimum Detectable Effect, Sample Size, and Duration\n",
    "\n",
    "#### 3.2.7.1 MDE \n",
    "\n",
    "Assume the original ad's daily CTR performance was, on average, ~50%. That being said, we have a basis for what we know previous to doing anything in the test. \n",
    "> I.e. we have a basis measure to compare this baseline measure of an estimated ~50% CTR \n",
    "\n",
    "Originally, we would like to evaluate if there is a statistical significant difference in the ads performance, under assumption of the baseline measure. \n",
    "\n",
    "And hypothetically say we reject the original assumption $H_0$, such that we decide to commit to shifting to the new ad campaign, regardless of if it is statistically significantly different. Depending on the nature of the experimentation setup, business logic, costs, and so much more, is this a practical significance in realistically moving to a new implementation? The measuring criteria for this **practical significance** is understanding our **Minimum Dectable Effect (MDE)** for us to consider the new implementation.\n",
    "\n",
    "> An example of MDE is the consideration of cost of investment, change management, or risk.\n",
    "\n",
    "The MDE calculation for our case is defined as \n",
    "\n",
    "$\\text{MDE}:=t^* \\sqrt{\\tfrac{\\hat{p}_1(1-\\hat{p}_1)}{n_1}+\\tfrac{\\hat{p}_1(1-\\hat{p}_2)}{n_2}}$\n",
    "\n",
    "Notice that with the Minimum Detectable Difference in mind, we need to have a few other considerations in our testing:\n",
    "\n",
    "1. Sample Size n\n",
    "    * Duration\n",
    "2. CTR, $\\hat{p}$\n",
    "\n",
    "Though we do not have this measure calculated for us, we can establish what is considered a MDE value for the test. Moreover, we can have a baseline measure $\\hat{p_A}$, from our CTR from campaign A. \n",
    "\n",
    "So, where does that leave the sample size? Given the above, we can still calculate that value + understand the time to reach that # of samples for the campaigns!"
   ]
  },
  {
   "cell_type": "markdown",
   "metadata": {},
   "source": [
    "#### 3.2.7.2 Sample Size \n",
    "\n",
    "\n",
    "![Samples!](../Resources/Images/costco_samples.jpg)\n",
    "\n",
    "\n",
    "Assuming the two samples have an estimated equal amount of observations & CTR $\\hat{p}_1$ & $\\hat{p}_2$, We can compute variant A's sample size n to reach MDE as\n",
    "\n",
    "\n",
    "$\\text{MDE} =t^*  \\sqrt{\\tfrac{\\hat{p}_1(1-\\hat{p}_1)}{n_1}+\\tfrac{\\hat{p}_2(1-\\hat{p}_2)}{n_2}} \\implies$\n",
    "\n",
    "$ t^*  \\sqrt{\\tfrac{\\hat{p}(1-\\hat{p})}{n}+\\tfrac{\\hat{p}(1-\\hat{p})}{n}} =$\n",
    "\n",
    "$t^*  \\sqrt{2\\tfrac{\\hat{p}(1-\\hat{p})}{n}}$\n",
    "\n",
    "Re-formulating to solve for n, \n",
    "\n",
    "$ \\text{MDE} = t^*  \\sqrt{2\\tfrac{\\hat{p}(1-\\hat{p})}{n}} \\implies $ \n",
    "\n",
    "$(\\tfrac{\\text{MDE}}{t^*})^2   = 2\\tfrac{\\hat{p}(1-\\hat{p})}{n} \\implies $\n",
    "\n",
    "$n= 2 \\hat{p}(1-\\hat{p})(\\tfrac{t^* }{\\text{MDE}})^2$\n",
    "\n",
    "\n",
    "\n",
    "Remember, we have two variants A & B. Therefore, thet total numner of samples need is \n",
    "\n",
    "$n = n_1 + n_2 = (2 \\hat{p}(1-\\hat{p})(\\tfrac{t^* }{\\text{MDE}})^2) + (2 \\hat{p}(1-\\hat{p})(\\tfrac{t^* }{\\text{MDE}})^2) $\n",
    "\n",
    "$=4 \\hat{p}(1-\\hat{p})(\\tfrac{t^* }{\\text{MDE}})^2 $"
   ]
  },
  {
   "cell_type": "markdown",
   "metadata": {},
   "source": [
    "\n",
    "##### Example \n",
    "\n",
    "Let t = 1.96, $\\hat{p} = .51$, and MDE = .05 What would the hypothetical MDE be?"
   ]
  },
  {
   "cell_type": "code",
   "execution_count": 93,
   "metadata": {},
   "outputs": [
    {
     "name": "stdout",
     "output_type": "stream",
     "text": [
      "Example's Estimated MDE is: 1536.0\n"
     ]
    }
   ],
   "source": [
    "t_est = 1.96 #{Enter value here}\n",
    "p_est = .51 #{Enter value here}\n",
    "mde = .05 #{Enter value here}\n",
    "\n",
    "# Construct the estimated sample size n_mde, from the formula above \n",
    "n_mde = (4) * (p_est * (1- p_est)) * (t_est/.05)**2\n",
    "\n",
    "print(f'Example\\'s Estimated MDE is: {round(n_mde, 0)}')"
   ]
  },
  {
   "cell_type": "markdown",
   "metadata": {},
   "source": [
    "\n",
    "Keep in mind of the following:\n",
    "\n",
    "* Sampling is not linear. So if we want to detect an effect by some other MDE, we have to consider adding a multiple of 4 total observations into data collection.\n",
    "\n",
    "* Tests with smaller sample size can have lower power (I.e.. Tests with lower sample size can only detect large impact)\n",
    "\n",
    "* Also...there are tools out there to calcualted estimated sample size, like Evan Miller's calculator [here](http://www.evanmiller.org/ab-testing/sample-size.html#!51;80;5;5;0)\n",
    "    * E.g. This link will land us to the results for a sample size to be an estimated ~1,600 rows-- Close enough! ;D"
   ]
  },
  {
   "cell_type": "code",
   "execution_count": 94,
   "metadata": {},
   "outputs": [],
   "source": [
    "size = 1600"
   ]
  },
  {
   "cell_type": "markdown",
   "metadata": {},
   "source": [
    "#### 3.2.7.3 Duration\n",
    "\n",
    "For duration, we identify it based on previous traffic history.\n",
    "\n",
    "> As an example, if we needed a combined 20,000 total observations for both groups, and we know we have 4,000 unique users search per week, then we would have to wait 5 weeks for our test to run, assuming traffic flow is at a steady stream\n"
   ]
  },
  {
   "cell_type": "markdown",
   "metadata": {},
   "source": [
    "### 3.3 Data Collection\n",
    "\n",
    "#### 3.3.1 System Setup\n",
    "\n",
    "Assume 3.2.7 assumptions hold true. Moreover, assume that our data collection and experiment would be run fairly from system  setup for the experiment.\n",
    "\n",
    "* In particular,  we are using the Goodle Ads system, and is currently known for being reliable. But how do we know no performance downgrade has occurred (and all hell breaks loose on the internet with a P0 to the next available engineer #HugOps)?\n",
    "\n",
    "#### 3.3.2 Fairness, and A/A Testing\n",
    "\n",
    "To test if our system is set up correctly, either in procedures, allocation of assignments, or other reasons, a tatic used to test if a tool runs experiments fairly is called **A/A testing**. \n",
    "\n",
    "\n",
    "![A, it's A!](../Resources/Images/a_a_test_meme.png)\n",
    "\n",
    "A/A Test tests two identical versions of a page against each other. In an this same-group comparison, the nature of the tool or other factors should show no difference in conversions between the two variant/groups. \n",
    "\n",
    "If there is a statistical significance in this tool, then something is afoot, and your actual implementation increases chances of having incorrect conclusions!"
   ]
  },
  {
   "cell_type": "markdown",
   "metadata": {},
   "source": [
    "## 4.1 P-Hacking\n",
    "\n",
    "* Be weary on being incentivized to prove something is different\n",
    "    * Don't shape results, after the fact\n",
    "* During the test\n",
    "    * Don't peek\n",
    "        * Avoid t-test timelines, though some companies may have that option\n",
    "    * Refrain from stopping test at point of first statistical difference result"
   ]
  },
  {
   "cell_type": "markdown",
   "metadata": {},
   "source": [
    "## 4.2 Sample Size Matters\n",
    "\n",
    "Here’s how small effect sizes can still produce tiny p-values:\n",
    "\n",
    "You have a very large sample size. As the sample size increases, the hypothesis test gains greater statistical power to detect small effects. With a large enough sample size, the hypothesis test can detect an effect that is so miniscule that it is meaningless in a practical sense.\n",
    "\n",
    "The sample variability is very low. When your sample data have low variability, hypothesis tests can produce more precise estimates of the population’s effect. This precision allows the test to detect tiny effects."
   ]
  },
  {
   "cell_type": "markdown",
   "metadata": {},
   "source": [
    "## 4.3 Interpreting the probability $\\alpha$"
   ]
  },
  {
   "cell_type": "code",
   "execution_count": 37,
   "metadata": {},
   "outputs": [
    {
     "name": "stdout",
     "output_type": "stream",
     "text": [
      "SE 1: 0.012906225887790229\n",
      "SE 2: 0.012906225887790229\n",
      "\n",
      "We reject the Null Hypothesis H_0\n",
      "Therefore, we can say that there is a statistical difference between the two campaigns.\n",
      "SE 1: 0.012902034723251988\n",
      "SE 2: 0.012902034723251988\n",
      "\n",
      "We reject the Null Hypothesis H_0\n",
      "Therefore, we can say that there is a statistical difference between the two campaigns.\n",
      "SE 1: 0.012900455777190947\n",
      "SE 2: 0.012900455777190947\n",
      "\n",
      "We reject the Null Hypothesis H_0\n",
      "Therefore, we can say that there is a statistical difference between the two campaigns.\n",
      "SE 1: 0.012895677570410947\n",
      "SE 2: 0.012895677570410947\n",
      "\n",
      "We fail to reject the Null Hypothesis H_0\n",
      "\n",
      "Therefore, we can say that there is no statistical significant difference between the two campaigns.\n",
      "SE 1: 0.012902184713077487\n",
      "SE 2: 0.012902184713077487\n",
      "\n",
      "We reject the Null Hypothesis H_0\n",
      "Therefore, we can say that there is a statistical difference between the two campaigns.\n",
      "SE 1: 0.012904638844373123\n",
      "SE 2: 0.012904638844373123\n",
      "\n",
      "We fail to reject the Null Hypothesis H_0\n",
      "\n",
      "Therefore, we can say that there is no statistical significant difference between the two campaigns.\n",
      "SE 1: 0.012903332902781358\n",
      "SE 2: 0.012903332902781358\n",
      "\n",
      "We fail to reject the Null Hypothesis H_0\n",
      "\n",
      "Therefore, we can say that there is no statistical significant difference between the two campaigns.\n",
      "SE 1: 0.012902333265874963\n",
      "SE 2: 0.012902333265874963\n",
      "\n",
      "We fail to reject the Null Hypothesis H_0\n",
      "\n",
      "Therefore, we can say that there is no statistical significant difference between the two campaigns.\n",
      "SE 1: 0.012905237954670447\n",
      "SE 2: 0.012905237954670447\n",
      "\n",
      "We fail to reject the Null Hypothesis H_0\n",
      "\n",
      "Therefore, we can say that there is no statistical significant difference between the two campaigns.\n",
      "SE 1: 0.012900289976643218\n",
      "SE 2: 0.012900289976643218\n",
      "\n",
      "We reject the Null Hypothesis H_0\n",
      "Therefore, we can say that there is a statistical difference between the two campaigns.\n"
     ]
    }
   ],
   "source": [
    "# Demo on Alpha value\n",
    "\n",
    "for i in range(10):\n",
    "    expressCamp1, expressCamp2 = express_campaign_df_generator([campaign1_name,campaign2_name], \\\n",
    "                                      weightMatrix = [[.5, .5],[.53, .47]],\\\n",
    "                                      sample_size = 3000)\n",
    "    ind_t_test(group1 = expressCamp1, \\\n",
    "               group2 = expressCamp2, \\\n",
    "               alpha=0.05, \\\n",
    "               output_bool=False, \\\n",
    "               state_conclusion=True, \\\n",
    "              express = True)"
   ]
  },
  {
   "cell_type": "markdown",
   "metadata": {},
   "source": [
    "## 4.4 Practical vs Significance\n",
    "\n",
    "Statistical significance indicates only that you have sufficient evidence to conclude that an effect exists. It is a mathematical definition that does not know anything about the subject area and what constitutes an important effect."
   ]
  },
  {
   "cell_type": "markdown",
   "metadata": {},
   "source": [
    "## 4.5 Central Limit Theorem"
   ]
  },
  {
   "cell_type": "markdown",
   "metadata": {},
   "source": [
    "The Central Limit Theorem (CLT) implies a sample of independent random variables, their sums tends towards to a normal distribution even if the original variables themselves aren't normally distributed, also the sample mean tends towards to a normal distribution (sum and mean are equivalent).\n",
    "\n",
    "\n",
    "That is, For large values of n, the distributions of the count $X$ and the sample proportion are approximately normal due to the Central Limit Theorem, as it approximates the normal distribution like \n",
    "\n",
    "$\\bar{X}$ ~ $N(\\tfrac{np}{p},\\tfrac{np(1-p)}{n^2}) = N(n, \\tfrac{p(1-p)}{n})$"
   ]
  },
  {
   "cell_type": "markdown",
   "metadata": {},
   "source": [
    "## 4.6 More on timing\n",
    "\n",
    "* When is the best time to run the experiment? (e.g. running on Holidays, weekends, weekdays, etc?)\n",
    "* If there is a new change, there may be a learning effect, and then behaviour can become stable again (leading to a false positive)\n",
    "    * Recommendation to avoid a Learning Effect is running experiment on smaller group of users for an extended time period.\n",
    "    \n",
    "## 4.7 More on Simpson's Paradox\n",
    " \n",
    " \n",
    "* Mind the possibility of the Simpson's Paradox\n",
    "    * Segmentation of groups in thus reducing sampling creates significance, but not from other groups from data before segmentation. Best way to validate this doesn't exist is to do the same test for combined groups.\n",
    "        * E.g. Splitting between new users and existing users\n",
    "* $\\alpha$ percent of the time, you'll reach significance due to chance \n",
    "    * You are running a tests with 20 variants, and you test each hypothesis separately:\n",
    "        * P(one significant result) = 1−P(no significant results) \n",
    "        * P(one significant result) = 1−(1−0.05)^20 = 0.64\n",
    "    * Avoid this by the Bonferroni Correction\n",
    "\n",
    "## 4.8 On the note of the Decision Tree image...\n",
    "\n",
    "Differences between z & t tests:\n",
    "\n",
    "* z-test: A z-test assumes observations are independently drawn from Normal Distribution with unknown mean and known variance. Z-test is used when we have quantitative data.\n",
    "\n",
    "* t-test: a t-test assumes observations are independently drawn from Normal distribution with unknown mean and unknown variance. With a t-test, we do not know the population variance.\n",
    "\n",
    "## 4.9 Other\n",
    "\n",
    "* Ethics\n",
    "    * Do your users know about being tested on?\n",
    "    * Privacy concerns \n",
    "    * Post-testing effects on participants\n",
    "        * IRB (Institutional Review Board) is not necessary unless farmful actions happen to test participants\n",
    "        * Formal and regulated tests require knowledge of privacy, choice, risk, and informed consent\n",
    "    \n",
    "    \n",
    "* Novelty Effect or Change Aversion: Post-test Cohort analysis may be helpful in evaluation if testing was valid for users, after some timeframe after the test.\n",
    "\n",
    "### 4.9.1 Other: Welche's T-test (T test with unequal variance or observations)\n",
    "\n",
    "Equal or unequal sample sizes, unequal variances\n",
    "This test, also known as Welch's t-test, is used only when two population variances are not assumed to be equal (the two sample sizes may or may not be equal) and hence must be estimated seperately. The t-stat to test whether population means are different is\n",
    "\n",
    "$t= \\tfrac{\\bar{X}_1 - \\bar{X}_2}{s_{\\bar{\\Delta}}}$\n",
    "\n",
    "where $s_{\\bar{\\Delta}} = \\sqrt{\\tfrac{s^2_1}{n_1} + \\tfrac{s^2_2}{n_2}}$\n",
    "\n",
    "d.f. = $\\tfrac{(\\tfrac{s^2_1}{n_1} + \\tfrac{s^2_2}{n_2})^2}{\\tfrac{(\\tfrac{s^2_1}{n_1})^2}{n_1 - 1} + \\tfrac{(\\tfrac{s^2_2}{n_2})^2}{n_2 - 1}}$\n",
    "\n",
    "This d.f. is known as the Welch-Satterthwaite equation."
   ]
  },
  {
   "cell_type": "markdown",
   "metadata": {},
   "source": [
    "<a id='appendix-chi-square-test'></a>\n",
    "\n",
    "\n",
    "\n",
    "# 5.0 The Chai-err umm....Chi-Squared Test! [Optional]\n",
    "\n",
    "\n",
    "## 5.1 $\\chi^2$ Testing [Optional]\n",
    "\n",
    "\n",
    "* Chi-Square Goodness of Fit Test\n",
    "    * $\\chi^2$ Test that determines if a sample data matches a population. For more details on this type, see: Goodness of Fit Test.\n",
    "\n",
    "* Chi-Square Test for Independence\n",
    "\n",
    "    * $\\chi^2$ Test that compares two variables in a contingency table to see if they are related. In a more general sense, it tests to see whether distributions of categorical variables differ from each another.\n",
    "    \n",
    "> Note: Chi Square is cool because it works with more than 2 samples\n",
    "\n",
    "> Note: If we have a  small sample size, then Chi Square may have more errors, and thus one would have to work with a Fischer's Exact Test\n",
    "\n",
    "\n"
   ]
  },
  {
   "cell_type": "markdown",
   "metadata": {},
   "source": [
    "## 5.2 Applying the $\\chi^2$ Test \n",
    "\n",
    "### 5.2.1 The Manual Approach\n",
    "Equivalently, we can use a similiar process and test statistic in evaluation of proportions, seen in section 3.0+. \n",
    "\n",
    "Let us have a 2x2 frequency table where columns are two groups of respondents and rows are the two responses \"Clicks\" (our successes) and \"No Clicks\". \n",
    "\n",
    "\n",
    "|    _    | Click | No Click | \n",
    "|--------|--------|-------------|\n",
    "| Test 1 | X_1    | Y_1         |\n",
    "| Test 2 | X_2    | Y_2         |\n",
    "| Total  | x      | x           | "
   ]
  },
  {
   "cell_type": "markdown",
   "metadata": {},
   "source": [
    "State the Hypothesis:\n",
    "\n",
    "$H_0: \\bar{p_1} - \\bar{p_2} = 0$ \n",
    "\n",
    "$H_1: \\bar{p_1} - \\bar{p_2} \\neq 0$\n",
    "\n",
    "Degrees of freedom = $(x_1 - 1) * (x_2 - 1)$\n",
    "\n",
    "Test Statistic:\n",
    "\n",
    "$\\chi^2= \\tfrac{(O-E)^2}{E}$, \n",
    "\n",
    "where $O$ are the Observed values and $E$ are the Expected values.\n",
    "\n",
    "> Note:\n",
    "Expected values are calculated as such:\n",
    "> For the top left region, it would be $\\tfrac{( x_{Clicks} * (X_1 + Y_1)}{x_T }$\n",
    "\n",
    "|    _    | Clicks | No Clicks | Total (Impressions) |\n",
    "|--------|--------|-------------|-----|\n",
    "| Test 1 | $Y_1$    | $Y_1$         | $X_1 + Y_1$  | \n",
    "| Test 2 | $X_2 $   | $Y_2 $        | $X_2 + Y_2 $  |\n",
    "| Total  | $x_{Clicks}$      | $x_{No Clicks}$        | $x_T$   | "
   ]
  },
  {
   "cell_type": "code",
   "execution_count": 38,
   "metadata": {},
   "outputs": [],
   "source": [
    "df = [ [campaign1['Click'].sum(), \\\n",
    "        campaign1['No Click'].sum(),\\\n",
    "        campaign1['No Click'].sum()+campaign1['Click'].sum()], \\\n",
    "      [campaign2['Click'].sum(), \\\n",
    "       campaign2['No Click'].sum(), \\\n",
    "        campaign2['No Click'].sum()+campaign2['Click'].sum()] ]\n"
   ]
  },
  {
   "cell_type": "code",
   "execution_count": 39,
   "metadata": {},
   "outputs": [],
   "source": [
    "twoByTwo_df = pd.DataFrame(df,index=['Campaign 1', 'Campaign 2'] ,\\\n",
    "                           columns=['Click','No Click','Impressions'])"
   ]
  },
  {
   "cell_type": "code",
   "execution_count": 40,
   "metadata": {},
   "outputs": [
    {
     "data": {
      "text/html": [
       "<div>\n",
       "<style scoped>\n",
       "    .dataframe tbody tr th:only-of-type {\n",
       "        vertical-align: middle;\n",
       "    }\n",
       "\n",
       "    .dataframe tbody tr th {\n",
       "        vertical-align: top;\n",
       "    }\n",
       "\n",
       "    .dataframe thead th {\n",
       "        text-align: right;\n",
       "    }\n",
       "</style>\n",
       "<table border=\"1\" class=\"dataframe\">\n",
       "  <thead>\n",
       "    <tr style=\"text-align: right;\">\n",
       "      <th></th>\n",
       "      <th>Click</th>\n",
       "      <th>No Click</th>\n",
       "      <th>Impressions</th>\n",
       "    </tr>\n",
       "  </thead>\n",
       "  <tbody>\n",
       "    <tr>\n",
       "      <th>Campaign 1</th>\n",
       "      <td>827.0</td>\n",
       "      <td>773.0</td>\n",
       "      <td>1600.0</td>\n",
       "    </tr>\n",
       "    <tr>\n",
       "      <th>Campaign 2</th>\n",
       "      <td>861.0</td>\n",
       "      <td>739.0</td>\n",
       "      <td>1600.0</td>\n",
       "    </tr>\n",
       "  </tbody>\n",
       "</table>\n",
       "</div>"
      ],
      "text/plain": [
       "            Click  No Click  Impressions\n",
       "Campaign 1  827.0     773.0       1600.0\n",
       "Campaign 2  861.0     739.0       1600.0"
      ]
     },
     "execution_count": 40,
     "metadata": {},
     "output_type": "execute_result"
    }
   ],
   "source": [
    "twoByTwo_df"
   ]
  },
  {
   "cell_type": "code",
   "execution_count": 41,
   "metadata": {},
   "outputs": [],
   "source": [
    "expectedClicksSeries = (twoByTwo_df['Impressions']/twoByTwo_df['Impressions'].sum()) * twoByTwo_df['Click'].sum() \n",
    "\n",
    "expectedNonClicksSeries = (twoByTwo_df['Impressions']/twoByTwo_df['Impressions'].sum()) * twoByTwo_df['No Click'].sum() \n",
    "\n",
    "expectedDf = pd.concat([expectedClicksSeries,expectedNonClicksSeries],axis=1)"
   ]
  },
  {
   "cell_type": "code",
   "execution_count": 42,
   "metadata": {},
   "outputs": [
    {
     "data": {
      "text/html": [
       "<div>\n",
       "<style scoped>\n",
       "    .dataframe tbody tr th:only-of-type {\n",
       "        vertical-align: middle;\n",
       "    }\n",
       "\n",
       "    .dataframe tbody tr th {\n",
       "        vertical-align: top;\n",
       "    }\n",
       "\n",
       "    .dataframe thead th {\n",
       "        text-align: right;\n",
       "    }\n",
       "</style>\n",
       "<table border=\"1\" class=\"dataframe\">\n",
       "  <thead>\n",
       "    <tr style=\"text-align: right;\">\n",
       "      <th></th>\n",
       "      <th>Click</th>\n",
       "      <th>No Click</th>\n",
       "    </tr>\n",
       "  </thead>\n",
       "  <tbody>\n",
       "    <tr>\n",
       "      <th>Campaign 1</th>\n",
       "      <td>844.0</td>\n",
       "      <td>756.0</td>\n",
       "    </tr>\n",
       "    <tr>\n",
       "      <th>Campaign 2</th>\n",
       "      <td>844.0</td>\n",
       "      <td>756.0</td>\n",
       "    </tr>\n",
       "  </tbody>\n",
       "</table>\n",
       "</div>"
      ],
      "text/plain": [
       "            Click  No Click\n",
       "Campaign 1  844.0     756.0\n",
       "Campaign 2  844.0     756.0"
      ]
     },
     "execution_count": 42,
     "metadata": {},
     "output_type": "execute_result"
    }
   ],
   "source": [
    "expectedDf.columns =['Click', 'No Click']\n",
    "expectedDf\n"
   ]
  },
  {
   "cell_type": "code",
   "execution_count": 43,
   "metadata": {},
   "outputs": [],
   "source": [
    "chiSquareStatistic = ((twoByTwo_df[['Click','No Click']]-expectedDf)**2 / expectedDf).values.sum()"
   ]
  },
  {
   "cell_type": "code",
   "execution_count": 44,
   "metadata": {},
   "outputs": [
    {
     "data": {
      "text/plain": [
       "1.4493843877730135"
      ]
     },
     "execution_count": 44,
     "metadata": {},
     "output_type": "execute_result"
    }
   ],
   "source": [
    "chiSquareStatistic"
   ]
  },
  {
   "cell_type": "markdown",
   "metadata": {},
   "source": [
    "### 5.2.2 The SciPy Approach"
   ]
  },
  {
   "cell_type": "code",
   "execution_count": 45,
   "metadata": {},
   "outputs": [
    {
     "name": "stdout",
     "output_type": "stream",
     "text": [
      "Expected Table: \n",
      " [[ 844.  756. 1600.]\n",
      " [ 844.  756. 1600.]] \n",
      "\n",
      "Degrees of Freedom: 2\n",
      "\n",
      "probability=0.95, critical=5.99, stat=0.05 \n",
      "\n",
      "Decision:\n",
      "For significance level 0.05,\n",
      "\n",
      "We fail to reject the Null Hypothesis, H_0\n",
      "\n",
      "for p = 0.95 < 5.991464547107979.\n"
     ]
    }
   ],
   "source": [
    "chiSquareStat, pVal, dof, expected = scipy.stats.chi2_contingency(twoByTwo_df)\n",
    "\n",
    "print('Expected Table: \\n',expected,'\\n')\n",
    "\n",
    "# interpret test-statistic\n",
    "prob = 0.95\n",
    "alpha = 1.0 - prob\n",
    "\n",
    "criticalVal = scipy.stats.chi2.ppf(prob, dof)\n",
    "\n",
    "print(f'Degrees of Freedom: {dof}\\n')\n",
    "print('probability=%.2f, critical=%.2f, stat=%.2f \\n' % (prob, criticalVal, alpha))\n",
    "\n",
    "print('Decision:')\n",
    "print(f'For significance level {round(alpha,2)},\\n')\n",
    "\n",
    "if abs(chiSquareStat) >= criticalVal:\n",
    "    print('We reject the Null Hypothesis, H_0\\n')\n",
    "    print(f'for p = {prob} >= {criticalVal}.')\n",
    "else:\n",
    "    print('We fail to reject the Null Hypothesis, H_0\\n')\n",
    "    print(f'for p = {prob} < {criticalVal}.')\n",
    "\n",
    "    \n",
    "### Alternatively can say:    \n",
    "# if p <= alpha:\n",
    "#     print('We reject the Null Hypothesis, H_0.')\n",
    "#     print(f'for p = {p} >= {alpha}.')\n",
    "\n",
    "# else:\n",
    "#     print('We fail to reject the Null Hypothesis, H_0.')\n",
    "#     print(f'for p = {p} < {alpha}.')"
   ]
  },
  {
   "cell_type": "markdown",
   "metadata": {},
   "source": [
    "# 6.0 Resources\n",
    "\n",
    "* https://byrony.github.io/understanding-ab-testing-and-statistics-behind.html\n",
    "    \n",
    "* https://www.dataquest.io/blog/a-b-testing-the-definitive-guide-to-improving-your-product/\n",
    "\n",
    "* https://docs.google.com/presentation/d/1k_zR5IkHaIpA6fbTDoa48Gh_LodY7Mjbf56zLro5Uus/edit#slide=id.g31d3c8507d_0_177\n",
    "        \n",
    "        \n",
    "* https://stats.stackexchange.com/questions/76875/what-is-the-difference-between-mcnemars-test-and-the-chi-squared-test-and-how/141450#141450\n",
    "\n",
    "* https://github.com/scipy/scipy/blob/v0.14.0/scipy/stats/stats.py#L3114\n",
    "\n",
    "* https://help.optimizely.com/Analyze_Results/How_long_to_run_an_experiment#Baseline_Conversion_Rate\n",
    "\n",
    "* [“Ignorance more frequently begets confidence than does knowledge”](https://www.goodreads.com/quotes/24141-ignorance-more-frequently-begets-confidence-than-does-knowledge-it-is)\n",
    "\n",
    "* https://blog.twitter.com/engineering/en_us/a/2016/power-minimal-detectable-effect-and-bucket-size-estimation-in-ab-tests.html\n",
    "\n",
    "* https://stackoverflow.com/questions/1720421/how-do-i-concatenate-two-lists-in-python\n",
    "\n",
    "\n",
    "* [Hypothesis Testing: Assumptions & Conditions + More](https://www.b-g.k12.ky.us/userfiles/1525/Classes/33386/Conditions%20of%20Tests.08-09%20rev%201.pdf?source=post_page---------------------------)\n",
    "\n",
    "\n",
    "* [What's up with the N-1 for the denominator in sample calculations?](https://en.wikipedia.org/wiki/Bessel%27s_correction)"
   ]
  },
  {
   "cell_type": "markdown",
   "metadata": {},
   "source": [
    "## [Thoughts]: Proposed Alternatives"
   ]
  }
 ],
 "metadata": {
  "kernelspec": {
   "display_name": "Python (DataScienceKernel)",
   "language": "python",
   "name": "datasciencekernel"
  },
  "language_info": {
   "codemirror_mode": {
    "name": "ipython",
    "version": 3
   },
   "file_extension": ".py",
   "mimetype": "text/x-python",
   "name": "python",
   "nbconvert_exporter": "python",
   "pygments_lexer": "ipython3",
   "version": "3.7.2"
  }
 },
 "nbformat": 4,
 "nbformat_minor": 2
}
