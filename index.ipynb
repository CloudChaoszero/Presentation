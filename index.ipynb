{
 "cells": [
  {
   "cell_type": "markdown",
   "metadata": {
    "slideshow": {
     "slide_type": "slide"
    }
   },
   "source": [
    "# <center> Presentations </center>\n",
    "<img src=\"Resources/PresentationGif-Raul.gif\" alt=\"Presentation\" height=\"400\" width=\"400\">\n",
    "\n",
    "\n",
    "The following are a list of presentation slide decks & videos I have done in the past. "
   ]
  },
  {
   "cell_type": "markdown",
   "metadata": {
    "slideshow": {
     "slide_type": "subslide"
    }
   },
   "source": [
    "\n",
    "## Slide decks\n",
    "\n",
    "\n",
    "### 2020\n",
    "\n",
    "* [SF Python 2020: A Primer on Prefect](https://raulingaverage.dev/Presentations/SF-Python/Prefect-Overview)\n",
    "\n",
    "* [BayPiggies 2020: Survival Analysis w/Lifelines](https://raulingaverage.dev/Presentations/BayPiggies/Survival-Analysis/#/)\n",
    "\n",
    "### 2019\n",
    "\n",
    "* [PyData LA 2019: AB Testing in Python](PyData-LA/AB-Testing-Python)\n",
    "\n",
    "    * [Video](https://www.youtube.com/watch?v=r6Z8FyCJ1g8)\n",
    "    \n",
    "* [PyBay 2019: AB Testing in Python](PyBayTalks/2019/AB-Testing-Python)\n",
    "    * [Video](https://www.youtube.com/watch?v=QWeMYnlNtzY)"
   ]
  },
  {
   "cell_type": "markdown",
   "metadata": {
    "slideshow": {
     "slide_type": "subslide"
    }
   },
   "source": [
    "### 2018\n",
    "\n",
    "* [PyBay 2018: Flask and SQLAlchemy Demonstration Lightning Talk](SF-Python/Flask-SQLAlchemy-Demo/)\n",
    "    * [Video](https://youtu.be/XUsx9odu94Y?t=372)\n",
    "\n",
    "* [PyBay 2018: Proto Buffs VS JSON structures Lightning Talk](PyBayTalks/2018/Lightning-Talk-ProtosAndJSON)\n",
    "\n",
    "* [SF Python 2018: Takes Two to Data Clean Lightning Talk](SF-Python/TakesTwoToDatclean/)\n",
    "    * [Video](https://www.youtube.com/watch?v=OjT7mT5Ydw0&t=11s)\n"
   ]
  }
 ],
 "metadata": {
  "kernelspec": {
   "display_name": "Python (DataScienceKernel)",
   "language": "python",
   "name": "datasciencekernel"
  },
  "language_info": {
   "codemirror_mode": {
    "name": "ipython",
    "version": 3
   },
   "file_extension": ".py",
   "mimetype": "text/x-python",
   "name": "python",
   "nbconvert_exporter": "python",
   "pygments_lexer": "ipython3",
   "version": "3.7.2"
  }
 },
 "nbformat": 4,
 "nbformat_minor": 4
}
