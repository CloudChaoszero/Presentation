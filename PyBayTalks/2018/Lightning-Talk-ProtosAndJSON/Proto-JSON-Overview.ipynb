{
 "cells": [
  {
   "cell_type": "markdown",
   "metadata": {
    "slideshow": {
     "slide_type": "slide"
    }
   },
   "source": [
    "# Protos, JSON,...or?\n",
    "\n",
    "<div align=\"center\">\n",
    "  By Raul Maldonado\n",
    "</div>\n",
    "\n",
    "<div align=\"right\">\n",
    "  PyBay 2018, Lightning Talk: @Cloud_Chaoszero\n",
    "</div>"
   ]
  },
  {
   "cell_type": "markdown",
   "metadata": {
    "slideshow": {
     "slide_type": "slide"
    }
   },
   "source": [
    "## Motivation\n"
   ]
  },
  {
   "cell_type": "markdown",
   "metadata": {
    "slideshow": {
     "slide_type": "fragment"
    }
   },
   "source": [
    "We would like to serialize structured data to transmit information over networks to avoid intensive cpu executions and related risks.\n",
    "So, we use a serialization mechanism to enable faster* data transfer of platform independence, data interexchange over heterogeneous distributed systems, and more\n"
   ]
  },
  {
   "cell_type": "markdown",
   "metadata": {
    "slideshow": {
     "slide_type": "subslide"
    }
   },
   "source": [
    "```\n",
    "syntax = \"proto2\";\n",
    "package tutorial;\n",
    "message Person {\n",
    "required string name = 1;\n",
    "required int32 id = 2;  optional string email = 3;\n",
    "enum PhoneType { MOBILE = 0;\n",
    "HOME = 1;  WORK = 2;  }\n",
    "\n",
    "message PhoneNumber {\n",
    "\n",
    "required string number = 1;\n",
    "optional PhoneType type = 2 [default = HOME];\n",
    "}repeated PhoneNumber phones = 4;\u000b",
    "}\n",
    "\n",
    "```"
   ]
  },
  {
   "cell_type": "markdown",
   "metadata": {
    "slideshow": {
     "slide_type": "slide"
    }
   },
   "source": [
    "# Protocol Buffer"
   ]
  },
  {
   "cell_type": "markdown",
   "metadata": {
    "slideshow": {
     "slide_type": "fragment"
    }
   },
   "source": [
    "* Created by Google, Protocol Buffers are a binary encoding format of data into efficient and extensible format.\n",
    "\n",
    "* Facts\n",
    "    * Schema declaration for over-the-wire data transfer to/from services. Ensure signals are valid\n",
    "    * Backward Compatible for older datatypes\n",
    "        * New fields could be introduced, and in-between servers need not inspect data\n",
    "        * Validations: required, optional, repeeated keywords\n",
    "        * Ease of Language Interpretability \n",
    "\n"
   ]
  },
  {
   "cell_type": "markdown",
   "metadata": {
    "slideshow": {
     "slide_type": "subslide"
    }
   },
   "source": [
    "![Encoder Message](encoder-message.png)"
   ]
  },
  {
   "cell_type": "markdown",
   "metadata": {
    "slideshow": {
     "slide_type": "slide"
    }
   },
   "source": [
    "# Json"
   ]
  },
  {
   "cell_type": "markdown",
   "metadata": {
    "slideshow": {
     "slide_type": "fragment"
    }
   },
   "source": [
    "* Javascript Object Notation (JSON) is a minimal format for structuring data. \n",
    "* Use of Keys and Values\n",
    "* Built on two structures\n",
    "    * Collection of name/value pairs\n",
    "    * Ordered list of values\n",
    "* Javascript object is not  JSON, and JSON is not a Javascript only object\n"
   ]
  },
  {
   "cell_type": "markdown",
   "metadata": {
    "slideshow": {
     "slide_type": "subslide"
    }
   },
   "source": [
    "![JSON](json-obj.png)"
   ]
  },
  {
   "cell_type": "markdown",
   "metadata": {
    "slideshow": {
     "slide_type": "subslide"
    }
   },
   "source": [
    "```python\n",
    "{\"firstName\": \"John\",\n",
    "\"lastName\": \"Smith\", \"isAlive\": true,\n",
    " \"age\": 27,\n",
    " \"address\": { \"streetAddress\": \"21 2nd Street\", \"city\": \"New York\", \"state\": \"NY\", \"postalCode\": \"10021-3100\"\n",
    "            },\n",
    " \"phoneNumbers\": [ {\n",
    "     \"type\": \"home\",   \"number\": \"212 555-1234\" }, {\n",
    "     \"type\": \"office\",   \"number\": \"646 555-4567\" }, {\n",
    "     \"type\": \"mobile\",   \"number\": \"123 456-7890\" }\n",
    "}\n",
    "\n",
    "\n",
    "```"
   ]
  },
  {
   "cell_type": "markdown",
   "metadata": {
    "slideshow": {
     "slide_type": "slide"
    }
   },
   "source": [
    "# XML\n"
   ]
  },
  {
   "cell_type": "markdown",
   "metadata": {
    "slideshow": {
     "slide_type": "fragment"
    }
   },
   "source": [
    "eXtensible Markup Language (XML)\n",
    "Tags and Attributes\n"
   ]
  },
  {
   "cell_type": "markdown",
   "metadata": {
    "slideshow": {
     "slide_type": "subslide"
    }
   },
   "source": [
    "![xml](xml.png)"
   ]
  },
  {
   "cell_type": "markdown",
   "metadata": {
    "slideshow": {
     "slide_type": "slide"
    }
   },
   "source": [
    "## Compare & Contrast"
   ]
  },
  {
   "cell_type": "markdown",
   "metadata": {
    "slideshow": {
     "slide_type": "fragment"
    }
   },
   "source": [
    "* Protocol Buffer\n",
    "    * Dense and small output, memory saver\n",
    "    * Hard to decode without knowing schema (in the case of security meausres)\n",
    "    * Fast Processing\n"
   ]
  },
  {
   "cell_type": "markdown",
   "metadata": {
    "slideshow": {
     "slide_type": "fragment"
    }
   },
   "source": [
    "* JSON\n",
    "    * Human Readible\n",
    "    * Can be parsed without knowing schema in advance\n",
    "    * Somewhat verbose\n",
    "    * Not Doc. Markup Language\n",
    "\n"
   ]
  },
  {
   "cell_type": "markdown",
   "metadata": {
    "slideshow": {
     "slide_type": "fragment"
    }
   },
   "source": [
    "* XML\n",
    "    * Human, but verbose, Readible\n",
    "    * Parsed without knowing schema in advance\n",
    "    * Standard for SOAP and other implementations\n",
    "    * Document Markup Language"
   ]
  },
  {
   "cell_type": "markdown",
   "metadata": {
    "slideshow": {
     "slide_type": "slide"
    }
   },
   "source": [
    "## Other Tools"
   ]
  },
  {
   "cell_type": "markdown",
   "metadata": {
    "slideshow": {
     "slide_type": "fragment"
    }
   },
   "source": [
    "* Apache Thrift\n",
    "* eProsima Fast Buffers\n",
    "* SGML\n"
   ]
  },
  {
   "cell_type": "markdown",
   "metadata": {
    "slideshow": {
     "slide_type": "slide"
    }
   },
   "source": [
    "# Resources"
   ]
  },
  {
   "cell_type": "markdown",
   "metadata": {
    "slideshow": {
     "slide_type": "fragment"
    }
   },
   "source": [
    "\n",
    "* [Protocol Buffers (Python)](https://developers.google.com/protocol-buffers/docs/pythontutorial)\n",
    "* [Protocol Buffer Overview](https://www.quora.com/What-is-a-Protocol-Buffer-in-laymans-terms)\n",
    "* [5 Reasons to use Protocol Buffers](https://codeclimate.com/blog/choose-protocol-buffers/)\n"
   ]
  }
 ],
 "metadata": {
  "kernelspec": {
   "display_name": "Python (DataScienceKernel)",
   "language": "python",
   "name": "datasciencekernel"
  },
  "language_info": {
   "codemirror_mode": {
    "name": "ipython",
    "version": 3
   },
   "file_extension": ".py",
   "mimetype": "text/x-python",
   "name": "python",
   "nbconvert_exporter": "python",
   "pygments_lexer": "ipython3",
   "version": "3.7.2"
  }
 },
 "nbformat": 4,
 "nbformat_minor": 4
}
