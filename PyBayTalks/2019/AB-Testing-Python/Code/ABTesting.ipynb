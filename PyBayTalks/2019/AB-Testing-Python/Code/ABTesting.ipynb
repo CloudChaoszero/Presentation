{
 "cells": [
  {
   "cell_type": "markdown",
   "metadata": {},
   "source": [
    "\n",
    "<img src=\"../Resources/Images/Slides-Logo.png\" alt=\"Drawing\" style=\"width: 400px;\"/>\n",
    "\n",
    "<center> <a href='https://www.linkedin.com/in/raulm8/'>by Raul Maldonado</a></center>"
   ]
  },
  {
   "cell_type": "markdown",
   "metadata": {},
   "source": [
    "# 1.0 Overview\n",
    "\n",
    "## 1.1 Introduction\n",
    "\n",
    "\n",
    "This document is designated for my PyBay 2019 talk on an (frequentist) approach to A/B Testing, in Python. \n",
    "\n",
    "> Note: There are A/B testing proprietary solutions like [Optimizely](https://www.optimizely.com/), [VWO](https://vwo.com/campaign/get-started/?utm_source=google&utm_medium=paid&utm_campaign=mof_search_brand_vwo_brand&utm_content=308583203468&utm_term=vwo&gclid=Cj0KCQjwv8nqBRDGARIsAHfR9wD7uaDnZRUDFKrXDtcn8jCv4v_dNhSRxzWsddKQAo0WuREO4phZ1PQaAopsEALw_wcB), [AB Tasty](https://www.abtasty.com/), [Google Optimize](https://optimize.google.com/optimize/home/), etc.\n",
    "\n",
    "[You can find the Slide Deck for this presentation here](https://docs.google.com/presentation/d/1nr8O-hS070yhBZoc5KtMQgEdremG0-oZP0ujUnocELc/edit?usp=sharing).\n",
    "\n",
    "Enjoy! :D"
   ]
  },
  {
   "cell_type": "markdown",
   "metadata": {},
   "source": [
    "\n",
    "## 1.2 AB Testing\n",
    "\n",
    "### 1.2.1 Theory +more\n",
    "\n",
    "A/B Testing is \"[a randomized experiment of two variants, A and B.]((https://en.wikipedia.org/wiki/A/B_testing))” This test quantitatively compares two versions with a single variable to compare what & if a variant was effective.\n",
    "\n",
    "For example, let's say we ran a digital ad campaign, with the following text. \n",
    "\n",
    "Using that text script, we want an engaging background behind us to get a higher % of clicks, Click Through Rate (CTR), between two backgrounds, see below.\n",
    "\n",
    "What is a better background to run this ad campaign on? Moreover, is it better than the other option--that is, is it more significant than the original/control option to switch to a different background, the variant option?"
   ]
  },
  {
   "cell_type": "markdown",
   "metadata": {},
   "source": [
    "# 2.0 The Format\n",
    "\n",
    "## 2.1 Abstract\n",
    "\n",
    "Generally, A/B tests are abstractly in the form of the following format:\n",
    "\n",
    "![AB Testing Format](../Resources/Images/ABTesting-Format.PNG)\n",
    "\n",
    "(Source: [“Probably Overthinking It” by Allen Downey](http://allendowney.blogspot.com/2016/06/there-is-still-only-one-test.html))\n",
    "\n",
    "0. State your assumptions, segments, and metric of change\n",
    "1. Define and collect control group information\n",
    "2. Identify you Minimum Detectable difference, sample size, and significance level\n",
    "3. State your Hypothesis\n",
    "4. Analyze\n",
    "5. Conclusion"
   ]
  },
  {
   "cell_type": "markdown",
   "metadata": {},
   "source": [
    "____\n",
    "In the statistics world, \"Hypotheses tests\", or in industry A/B tests, individuals are taught the following structure for determining your assumptions and calculations in your test:\n",
    "\n",
    "![AB-Testing-Choices-Tree](../Resources/Images/AB-Testing-Choices-Tree.png)\n",
    "[Source](https://bloomingtontutors.com/blog/when-to-use-the-z-test-versus-t-test)"
   ]
  },
  {
   "cell_type": "markdown",
   "metadata": {},
   "source": [
    "## 2.2 The Format: Selecting the right Test Statistic \n",
    "\n",
    "The decision tree (not the ML one haha) of statistical computations is a particular approach to A/B Testing, with respect of question developed, data, and number of samples considered.\n",
    "\n",
    "That being said, one has to be careful on what test type to choose from, based on the assumptions and question being asked. \n",
    "\n",
    "The following are some examples of different tests with respective to assumptions like:\n",
    "\n",
    "![AB-Testing-Choices-Tree](../Resources/Images/Test-Choice-Wiki.png)\n",
    "\n",
    "\n",
    "In the previously mentioned tree, some of the questions that lead us down that avenue may be:\n",
    "\n",
    "1. I am comparing one sample to an observed case or two samples against one another\n",
    "2. My data types for calculations are similar\n",
    "3. What's the size of my dataset?\n",
    "4. Do I know my standard deviation?\n",
    "> Note: More on the comparisons between Z-test & T-test are covered in the Appendix section."
   ]
  },
  {
   "cell_type": "markdown",
   "metadata": {},
   "source": [
    "Once selecting the appropriate test statistic and having the right assumptions, we can go more deeply into the calculations. \n",
    "\n",
    "![AB-Testing-Choices-Tree](../Resources/Images/Test-Choice-Current-Scenario.png)\n"
   ]
  },
  {
   "cell_type": "markdown",
   "metadata": {},
   "source": [
    "## 2.3 The Format: Test of Proportions\n",
    "\n",
    "Now here...we get a bit more specific, particularly for a t-test calculation\n",
    "\n",
    "> For more about different types of t-tests, see [the Appendix section](#appendix)\n",
    "\n",
    "Think of a specific question, and determine what the scenario you want to observe and specifically identify. Collect data, identify your metric of choice, and consider other assumptions from said collected data.\n",
    "\n",
    "Define a significance level $\\alpha$.\n",
    "\n",
    "Let the proportion $p_i$ be defined as $p_i =\\tfrac{x_i}{n_i}$, \n",
    "\n",
    "where \n",
    "\n",
    "$x_i$ are the successes \n",
    "& \n",
    "$n_i$ is the total count of each sample."
   ]
  },
  {
   "cell_type": "markdown",
   "metadata": {},
   "source": [
    "**State the Hypothesis:**\n",
    "\n",
    "There are three types of statements to consider when conducting a test, seen below.\n",
    "\n",
    "![Types of Test](../Resources/Images/two_tailed_test.png)\n",
    "[Source](https://www.fromthegenesis.com/difference-between-one-tail-test-and-two-tail-test/)\n",
    "\n",
    "\n",
    "In this case, we'll continue this example with the \"two-tail\" approach\n",
    "\n",
    "$H_0: \\bar{p_1} - \\bar{p_2} = 0$\n",
    "\n",
    "$H_1: \\bar{p_1} - \\bar{p_2} \\neq 0$\n",
    "\n",
    "And this is similar to asking is there a observed difference, in any direction, between two samples $\\bar{p_1}$ and $\\bar{x_2}$\n",
    "\n",
    "After defining our hypothesis, we calculate the test statistic $t$."
   ]
  },
  {
   "cell_type": "markdown",
   "metadata": {},
   "source": [
    "\n",
    "**Test Statistic:**\n",
    "\n",
    "$t= \\tfrac{ \\bar{p_1} - \\bar{p_2} - 0 }{SE}$, \n",
    "\n",
    "where the standard error $SE = \\sqrt{(\\tfrac{p_1 (1-p_1)}{n_1}) + (\\tfrac{p_2 (1-p_2)}{n_2})}$\n",
    "\n",
    "Thereafter, we calculate or find our referred critical test statistic $t^*$, related to our problem statement.\n",
    "\n",
    "Lastly, a conclusion would be made for this specific test."
   ]
  },
  {
   "cell_type": "markdown",
   "metadata": {},
   "source": [
    "\n",
    "### 2.4 The Format: Chi Square Test (Optional)\n",
    "\n",
    "This test can equivalently be done by using another test framework & calculation. You can find the details of this example [in the Appendix section](#appendix-chi-square-test)."
   ]
  },
  {
   "cell_type": "markdown",
   "metadata": {},
   "source": [
    "# 3.0 Always Be Testing Time"
   ]
  },
  {
   "cell_type": "markdown",
   "metadata": {},
   "source": [
    "## 3.1 Preface\n",
    "\n",
    "We define our variant groups to be Google Ad Campaigns promoting our portfolio in Google Search. The original variant, control, will have one type of \"Call to Action\", while the other has a different type of **\"Call to Action\"**\n",
    "\n",
    "> Example of a Call of Action: \"Sign Up for a free trial here!\"\n",
    "\n",
    "**Existing process:**\n",
    "\n",
    "Users use Search for navigating in searches. User typically will see a list of responses for popular terms or keywords. When they query “data” or something related to our career, they will see an add. Moreover, they will see our add, if we win a bid on Google Ads.\n",
    "\n",
    "**Experiment Goals:** Observe if our new campaign will drive a performance increase performance in clicks."
   ]
  },
  {
   "cell_type": "code",
   "execution_count": 1,
   "metadata": {},
   "outputs": [],
   "source": [
    "import os\n",
    "import warnings\n",
    "warnings.filterwarnings(\"ignore\")\n",
    "\n",
    "import pandas as pd\n",
    "import numpy as np\n",
    "\n",
    "from scipy.stats import ttest_ind\n",
    "import scipy\n",
    "import seaborn as sns\n",
    "sns.set_style(\"dark\")\n",
    "\n",
    "import matplotlib.pyplot as plt"
   ]
  },
  {
   "cell_type": "code",
   "execution_count": 2,
   "metadata": {},
   "outputs": [],
   "source": [
    "fileName = 'DataAnalystCampaignDailyStats-2019.csv'\n",
    "filePath = os.path.join('..','Resources','Data',fileName)"
   ]
  },
  {
   "cell_type": "markdown",
   "metadata": {},
   "source": [
    "## 3.1 Data Collection"
   ]
  },
  {
   "cell_type": "markdown",
   "metadata": {},
   "source": [
    "**Randomized**\n",
    "\n",
    "The Goodle Ads system will display ads for certain keywords, geo, or another segmentation, assuming several other considerations (e.g. bids). Moreover, we assume that our targeted audiences to be randomly selected between the two experiments.\n",
    "\n",
    "> Note: There are actions to take in evaluating the underlying test structure is affected, as opposed to the data being influenced by something other than our experiment, e.g. system itself--AA Testing.\n",
    "\n",
    "**Segmentation**\n",
    "\n",
    "Our target audience is for individuals that search for key terms related to data, technology, or job descriptions for a career, via Google Ads. This is our demographic.\n",
    "\n",
    "We assume a random data collection based on that segmentation of our experiment since the platform provides that. "
   ]
  },
  {
   "cell_type": "code",
   "execution_count": 35,
   "metadata": {},
   "outputs": [],
   "source": [
    "campaignsDf = pd.read_csv(filePath,skiprows=2)"
   ]
  },
  {
   "cell_type": "markdown",
   "metadata": {},
   "source": [
    "## 3.2 State your Assumptions, Metric of Change, Sample Size & More\n",
    "\n",
    "### 3.2.1 Assumptions\n",
    "\n",
    "* Each event is independent from one another\n",
    "\n",
    "* Sampling is a simple random sample.\n",
    "\n",
    "* A user either clicks or does not click (an impression) for an ad\n",
    "\n",
    "* Application of the Central Limit Theorem for normal distribution\n",
    "\n",
    "* With an appropriate traffic size, the binomial-like distribution of this scenario reaches a Standard Normal (Gaussian) Distribution\n",
    "\n",
    "* Our invariants metrics, metrics not affected by the experiment, are the numbers of users "
   ]
  },
  {
   "cell_type": "markdown",
   "metadata": {},
   "source": [
    "### 3.2.2 Metric Of Choice\n",
    "\n",
    "We determine what is our metric of choice for our test, aligned with our objectives. Now, we want users to reach out to us, after reviewing our portfolio--seeing an impact for our visibility objective.\n",
    "\n",
    "However, the tracking for that is not set up in our system. Moreover, this ad campaign is an evaluation of the effective usability of the call to action we are implementing. \n",
    "\n",
    "Aligned with our objective to see what ad works for usability between the two variants, we select the Click Through Rate as our metric of choice.\n",
    "\n",
    "\n",
    "![AB-Testing-Choices-Tree](../Resources/Images/pyBay_click.gif)"
   ]
  },
  {
   "cell_type": "markdown",
   "metadata": {},
   "source": [
    "### 3.2.3 Sample Size, Minimum Detectable Effect, and Duration\n",
    "\n",
    "\n",
    "Assume the pre-test ad's CTR performance was, on average, 1%. This baseline CTR measure is the prefacing measure that occurs before this experiment setup.\n",
    "\n",
    "As we recall, we would want to see if there is a significant difference in the ads performance. Moreover, to consider our commitment into the consideration of a new ad campaign, regardless of if it is significantly different, we have a **minimum dectable effect (MDE)** for us to consider if this too was significantly different for us.\n",
    "\n",
    "> An example of this is the consideration of cost of investment, change management, or risk.\n",
    "\n",
    "**MDE** is defined as \n",
    "\n",
    "$\\text{MDE}:=z \\sqrt{\\tfrac{p_1(1-p_1)}{n_1}+\\tfrac{p_1(1-p_2)}{n_2}}$\n",
    "\n",
    "With the Minimum Detectable difference in mind, we need to have a few other considerations in our testing:\n",
    "1. Sample Size\n",
    "2. Duration\n",
    "\n",
    "Assuming the two samples have an estimated equal amount of observations with an estimate of $p_1$ & $p_2$, We can compute one variant's sample size to reach MDE as\n",
    "\n",
    "\n",
    "$\\text{MDE}:=z \\sqrt{\\tfrac{p_1(1-p_1)}{n_1}+\\tfrac{p_2(1-p_2)}{n_2}} \\implies z \\sqrt{\\tfrac{p(1-p)}{n}+\\tfrac{p(1-p)}{n}}\\implies$\n",
    "\n",
    "$n= 2 p(1-p)(\\tfrac{z}{\\text{MDE}})^2$\n",
    "\n",
    "Remember though, we have two variants. Therefore, thet total numner of samples neeed is \n",
    "\n",
    "$n = n_1 + n_2 = 4 p(1-p)(\\tfrac{z}{\\text{MDE}})^2 $\n",
    "\n",
    "\n",
    "For duration, we identify it based on previous traffic history.\n",
    "\n",
    "> As an example, if I need 1,000 total observations of the two groups, and I know I have 200 unique users search per week, then we would have to wait 5 weeks for our test to run, assuming same traffic flows through."
   ]
  },
  {
   "cell_type": "markdown",
   "metadata": {},
   "source": [
    "With all that being said, we have two collected samples for both respective variants, seen in the DataFrame below.\n"
   ]
  },
  {
   "cell_type": "code",
   "execution_count": 36,
   "metadata": {},
   "outputs": [
    {
     "data": {
      "text/html": [
       "<div>\n",
       "<style scoped>\n",
       "    .dataframe tbody tr th:only-of-type {\n",
       "        vertical-align: middle;\n",
       "    }\n",
       "\n",
       "    .dataframe tbody tr th {\n",
       "        vertical-align: top;\n",
       "    }\n",
       "\n",
       "    .dataframe thead th {\n",
       "        text-align: right;\n",
       "    }\n",
       "</style>\n",
       "<table border=\"1\" class=\"dataframe\">\n",
       "  <thead>\n",
       "    <tr style=\"text-align: right;\">\n",
       "      <th></th>\n",
       "      <th>Day</th>\n",
       "      <th>Campaign</th>\n",
       "      <th>Currency</th>\n",
       "      <th>Clicks</th>\n",
       "      <th>Impressions</th>\n",
       "      <th>Cost</th>\n",
       "      <th>CTR</th>\n",
       "    </tr>\n",
       "  </thead>\n",
       "  <tbody>\n",
       "    <tr>\n",
       "      <th>0</th>\n",
       "      <td>2019-07-02</td>\n",
       "      <td>Data Analyst #3</td>\n",
       "      <td>USD</td>\n",
       "      <td>0</td>\n",
       "      <td>6</td>\n",
       "      <td>0.00</td>\n",
       "      <td>0.00%</td>\n",
       "    </tr>\n",
       "    <tr>\n",
       "      <th>1</th>\n",
       "      <td>2019-07-02</td>\n",
       "      <td>Data Analyst #2</td>\n",
       "      <td>USD</td>\n",
       "      <td>0</td>\n",
       "      <td>13</td>\n",
       "      <td>0.00</td>\n",
       "      <td>0.00%</td>\n",
       "    </tr>\n",
       "    <tr>\n",
       "      <th>2</th>\n",
       "      <td>2019-07-03</td>\n",
       "      <td>Data Analyst #3</td>\n",
       "      <td>USD</td>\n",
       "      <td>3</td>\n",
       "      <td>312</td>\n",
       "      <td>3.82</td>\n",
       "      <td>0.96%</td>\n",
       "    </tr>\n",
       "    <tr>\n",
       "      <th>3</th>\n",
       "      <td>2019-07-03</td>\n",
       "      <td>Data Analyst #2</td>\n",
       "      <td>USD</td>\n",
       "      <td>8</td>\n",
       "      <td>346</td>\n",
       "      <td>8.18</td>\n",
       "      <td>2.31%</td>\n",
       "    </tr>\n",
       "    <tr>\n",
       "      <th>4</th>\n",
       "      <td>2019-07-04</td>\n",
       "      <td>Data Analyst #3</td>\n",
       "      <td>USD</td>\n",
       "      <td>8</td>\n",
       "      <td>376</td>\n",
       "      <td>8.61</td>\n",
       "      <td>2.13%</td>\n",
       "    </tr>\n",
       "  </tbody>\n",
       "</table>\n",
       "</div>"
      ],
      "text/plain": [
       "          Day         Campaign Currency  Clicks  Impressions  Cost    CTR\n",
       "0  2019-07-02  Data Analyst #3      USD       0            6  0.00  0.00%\n",
       "1  2019-07-02  Data Analyst #2      USD       0           13  0.00  0.00%\n",
       "2  2019-07-03  Data Analyst #3      USD       3          312  3.82  0.96%\n",
       "3  2019-07-03  Data Analyst #2      USD       8          346  8.18  2.31%\n",
       "4  2019-07-04  Data Analyst #3      USD       8          376  8.61  2.13%"
      ]
     },
     "execution_count": 36,
     "metadata": {},
     "output_type": "execute_result"
    }
   ],
   "source": [
    "campaignsDf.head()"
   ]
  },
  {
   "cell_type": "markdown",
   "metadata": {},
   "source": [
    "We observe that the data contains dimension information, along with Clicks and Impressions features--none of these are not the CTR metric of choice.\n",
    "\n",
    "Recall that CTR is calculated by the percentage of clicks to successes\n",
    "$\\text{CTR} := \\tfrac{\\text{Clicks}}{\\text{Impressions}}$\n",
    "\n",
    "Thus,"
   ]
  },
  {
   "cell_type": "code",
   "execution_count": 62,
   "metadata": {},
   "outputs": [],
   "source": [
    "# CTR Calculation, and segmentation between two Ad Campaigns.\n",
    "campaignsDf['CTR'] = campaignsDf['Clicks'] \\\n",
    "                    / campaignsDf['Impressions']\n",
    "\n",
    "campaign1Conditional = campaignsDf['Campaign'] == \\\n",
    "                            'Data Analyst #2'\n",
    "campaign2Conditional = campaignsDf['Campaign'] == \\\n",
    "                           'Data Analyst #3'\n",
    "campaign1_Df = campaignsDf[campaign1Conditional] \n",
    "campaign2_Df = campaignsDf[campaign2Conditional]"
   ]
  },
  {
   "cell_type": "code",
   "execution_count": 64,
   "metadata": {},
   "outputs": [],
   "source": [
    "# #1st Campaign's Distribution\n",
    "# campaign1_Df['CTR'].plot(kind='hist')\n",
    "# plt.title('Campaign #1 CTR Distribution')\n",
    "# plt.xlabel('CTR (%)')\n",
    "# plt.show()"
   ]
  },
  {
   "cell_type": "code",
   "execution_count": 65,
   "metadata": {},
   "outputs": [],
   "source": [
    "# #2nd Campaign's Distribution\n",
    "# campaign2_Df['CTR'].plot(kind='hist')\n",
    "# plt.title('Campaign #2 CTR Distribution')\n",
    "# plt.xlabel('CTR (%)')\n",
    "# plt.show()"
   ]
  },
  {
   "cell_type": "markdown",
   "metadata": {},
   "source": [
    "## 3.3 Hypothesis"
   ]
  },
  {
   "cell_type": "markdown",
   "metadata": {},
   "source": [
    "We say our \"**level of significance**\", $\\alpha$, is set to be $\\alpha = .10$.\n",
    "\n",
    "> This significance level $\\alpha$ is the probability of rejecting the null hypothesis $H_0$, when it is true."
   ]
  },
  {
   "cell_type": "code",
   "execution_count": 66,
   "metadata": {},
   "outputs": [],
   "source": [
    "alpha = 0.10"
   ]
  },
  {
   "cell_type": "markdown",
   "metadata": {},
   "source": [
    "![Distribution](../Resources/Images/cutOff-Distribution.png)\n",
    "\n",
    "[Source](http://www.math.armstrong.edu/statsonline/5/5.3.2.html)"
   ]
  },
  {
   "cell_type": "markdown",
   "metadata": {},
   "source": [
    "Our goal is to compare the means of two Ad groups and evaluate if there is a significant difference their average CTR performance. \n",
    "\n",
    "That is,"
   ]
  },
  {
   "cell_type": "markdown",
   "metadata": {},
   "source": [
    "$H_0: \\bar{p_1} - \\bar{p_2} = 0$\n",
    "\n",
    "> (i.e. There is no significant difference between the two campaigns)\n",
    "\n",
    "\n",
    "$H_1: \\bar{p_1} - \\bar{p_2} \\neq 0$\n",
    "\n",
    "> (i.e. There is a significant difference between the two campaigns)\n",
    "\n",
    "**Note:** We are not trying to prove that there is a significant differ. Rather, observing is this is the case. The implication of being rewarded for proving something other than the existing process leads to the dissalusion of proving ones self right, when that's not the case."
   ]
  },
  {
   "cell_type": "markdown",
   "metadata": {},
   "source": [
    "## 3.4 Analyze The Results\n",
    "\n",
    "Recall that our test statistic is using the $t$ statistic defined as \n",
    "\n",
    "$t= \\tfrac{ \\bar{p_1} - \\bar{p_2} - 0 }{SE}$, \n",
    "\n",
    "where the standard error $SE = \\sqrt{(\\tfrac{\\bar{p_1} (1-\\bar{p_1})}{n_1}) + (\\tfrac{\\bar{p_2} (1-\\bar{p_2})}{n_2})}$\n",
    "\n",
    "> Note: When comparing between two groups, the notation $d:=\\bar{p_1} - \\bar{p_2}$ is introduced to simplify formula\n",
    "\n",
    "Moreover, our degrees of freedom for these two variants is defined as $DoF := (n_1 + n_2 -2)$"
   ]
  },
  {
   "cell_type": "code",
   "execution_count": 67,
   "metadata": {},
   "outputs": [],
   "source": [
    "# Proportion Calculations\n",
    "n1 = campaign1_Df['Impressions'].sum()\n",
    "p1 = campaign1_Df['Clicks'].sum() / campaign1_Df['Impressions'].sum()\n",
    "\n",
    "n2 = campaign2_Df['Impressions'].sum()\n",
    "p2 = campaign2_Df['Clicks'].sum() / campaign2_Df['Impressions'].sum()"
   ]
  },
  {
   "cell_type": "markdown",
   "metadata": {},
   "source": [
    "We observe the means $\\bar{p_1}$ & $\\bar{p_2}$  "
   ]
  },
  {
   "cell_type": "code",
   "execution_count": 68,
   "metadata": {},
   "outputs": [
    {
     "name": "stdout",
     "output_type": "stream",
     "text": [
      "Group 1's Average CTR: 0.02\n",
      "Group 2's Average CTR: 0.01\n"
     ]
    }
   ],
   "source": [
    "print(f\"Group 1's Average CTR: {round(p1,2)}\")\n",
    "\n",
    "print(f\"Group 2's Average CTR: {round(p2,2)}\")"
   ]
  },
  {
   "cell_type": "markdown",
   "metadata": {},
   "source": [
    "\n",
    "And standard errors SE"
   ]
  },
  {
   "cell_type": "code",
   "execution_count": 69,
   "metadata": {},
   "outputs": [],
   "source": [
    "# Standard Error of Proportions Calculations\n",
    "## Term 1\n",
    "se1 = (p1 * (1- p1))/n1\n",
    "\n",
    "## Term 2\n",
    "se2 = (p2 * (1- p2))/n2\n",
    "\n",
    "\n",
    "## Terms being squared for final result\n",
    "standardError = np.sqrt(se1 + se2)"
   ]
  },
  {
   "cell_type": "code",
   "execution_count": 70,
   "metadata": {},
   "outputs": [
    {
     "name": "stdout",
     "output_type": "stream",
     "text": [
      "The Standard Error is calculated as: 0.003086\n"
     ]
    }
   ],
   "source": [
    "print(f\"The Standard Error is calculated as: {round(standardError,6)}\")"
   ]
  },
  {
   "cell_type": "code",
   "execution_count": 71,
   "metadata": {},
   "outputs": [],
   "source": [
    "# T test statistic\n",
    "\n",
    "tStatistic = (abs(p1-p2) - 0) / standardError"
   ]
  },
  {
   "cell_type": "code",
   "execution_count": 72,
   "metadata": {},
   "outputs": [
    {
     "name": "stdout",
     "output_type": "stream",
     "text": [
      "Campaign 1 CTR: 0.0166 with Standard Error 4.458492047466517e-06.\n",
      "Campaign 2 CTR: 0.0134 with Standard Error 5.065161388057818e-06.\n",
      "\n",
      "T Statistic: 1.05\n"
     ]
    }
   ],
   "source": [
    "print(f'Campaign 1 CTR: {round(p1,4)}' + f' with Standard Error {se1}.')\n",
    "print(f'Campaign 2 CTR: {round(p2,4)}' + f' with Standard Error {se2}.\\n')\n",
    "\n",
    "print(f'T Statistic: {round(tStatistic,2)}')"
   ]
  },
  {
   "cell_type": "code",
   "execution_count": 73,
   "metadata": {},
   "outputs": [],
   "source": [
    "# Critical T Value Test Statistic\n",
    "criticalValue = scipy.stats.t.ppf(1.0 - 0.05, (n1 + n2-2))\n",
    "\n",
    "#Two Sided P Value\n",
    "one_side = 1 - scipy.stats.norm(loc = 0, scale = 1).cdf(tStatistic)\n",
    "pValue = one_side * 2"
   ]
  },
  {
   "cell_type": "code",
   "execution_count": 74,
   "metadata": {},
   "outputs": [
    {
     "name": "stdout",
     "output_type": "stream",
     "text": [
      "We have critical value t^* at 1.65\n",
      "and p-value of 0.3\n"
     ]
    }
   ],
   "source": [
    "print(f'We have critical value t^* at {round(criticalValue,2)}\\nand p-value of {round(pValue,2)}')"
   ]
  },
  {
   "cell_type": "markdown",
   "metadata": {},
   "source": [
    "## 3.5 Conclusions"
   ]
  },
  {
   "cell_type": "markdown",
   "metadata": {},
   "source": [
    "If the calculated t-statistic $t$ > critical value $t^*$, then we reject the null hypothesis $H_0$, and accept the alternative hypothesis $H_1$. \n",
    "> Equivalently, if $p < \\alpha$, then we  reject the null hypothesis $H_0$. \n",
    "\n",
    "If not, then we fail to reject the null hypothesis $H_0$. "
   ]
  },
  {
   "cell_type": "code",
   "execution_count": 75,
   "metadata": {},
   "outputs": [
    {
     "name": "stdout",
     "output_type": "stream",
     "text": [
      "We fail to reject the Null Hypothesis H_0\n"
     ]
    }
   ],
   "source": [
    "if pValue < alpha:\n",
    "    print(\"We reject the Null Hypothesis H_0\")\n",
    "else:\n",
    "    print(\"We fail to reject the Null Hypothesis H_0\")"
   ]
  },
  {
   "cell_type": "markdown",
   "metadata": {},
   "source": [
    "Therefore, we can say that there is no significant difference between the two campaigns."
   ]
  },
  {
   "cell_type": "markdown",
   "metadata": {},
   "source": [
    "# 4.0 +More! [Optional]\n",
    "\n",
    "## 4.1 The Chai -err umm....Chi-Squared Test"
   ]
  },
  {
   "cell_type": "code",
   "execution_count": 21,
   "metadata": {},
   "outputs": [],
   "source": [
    "df = [ [campaign1_Df['Clicks'].sum(), campaign1_Df['Impressions'].sum()- campaign1_Df['Clicks'].sum(),campaign1_Df['Impressions'].sum()], \\\n",
    "      [campaign2_Df['Clicks'].sum(), campaign2_Df['Impressions'].sum() -campaign2_Df['Clicks'].sum(), campaign2_Df['Impressions'].sum()] ]"
   ]
  },
  {
   "cell_type": "code",
   "execution_count": 22,
   "metadata": {},
   "outputs": [],
   "source": [
    "from scipy import stats\n",
    "\n",
    "twoByTwo_df = pd.DataFrame(df,index=['Campaign 1', 'Campaign 2'] ,columns=['Clicks','No Clicks','Impressions'])\n",
    "# stats.chi2_contingency(twoByTwo_df)"
   ]
  },
  {
   "cell_type": "code",
   "execution_count": 23,
   "metadata": {},
   "outputs": [
    {
     "data": {
      "text/html": [
       "<div>\n",
       "<style scoped>\n",
       "    .dataframe tbody tr th:only-of-type {\n",
       "        vertical-align: middle;\n",
       "    }\n",
       "\n",
       "    .dataframe tbody tr th {\n",
       "        vertical-align: top;\n",
       "    }\n",
       "\n",
       "    .dataframe thead th {\n",
       "        text-align: right;\n",
       "    }\n",
       "</style>\n",
       "<table border=\"1\" class=\"dataframe\">\n",
       "  <thead>\n",
       "    <tr style=\"text-align: right;\">\n",
       "      <th></th>\n",
       "      <th>Clicks</th>\n",
       "      <th>No Clicks</th>\n",
       "      <th>Impressions</th>\n",
       "    </tr>\n",
       "  </thead>\n",
       "  <tbody>\n",
       "    <tr>\n",
       "      <th>Campaign 1</th>\n",
       "      <td>61</td>\n",
       "      <td>3607</td>\n",
       "      <td>3668</td>\n",
       "    </tr>\n",
       "    <tr>\n",
       "      <th>Campaign 2</th>\n",
       "      <td>35</td>\n",
       "      <td>2576</td>\n",
       "      <td>2611</td>\n",
       "    </tr>\n",
       "  </tbody>\n",
       "</table>\n",
       "</div>"
      ],
      "text/plain": [
       "            Clicks  No Clicks  Impressions\n",
       "Campaign 1      61       3607         3668\n",
       "Campaign 2      35       2576         2611"
      ]
     },
     "execution_count": 23,
     "metadata": {},
     "output_type": "execute_result"
    }
   ],
   "source": [
    "twoByTwo_df"
   ]
  },
  {
   "cell_type": "code",
   "execution_count": 24,
   "metadata": {},
   "outputs": [],
   "source": [
    "expectedClicksSeries = (twoByTwo_df['Impressions']/twoByTwo_df['Impressions'].sum()) * twoByTwo_df['Clicks'].sum() \n",
    "\n",
    "expectedNonClicksSeries = (twoByTwo_df['Impressions']/twoByTwo_df['Impressions'].sum()) * twoByTwo_df['No Clicks'].sum() \n",
    "\n",
    "expectedDf = pd.concat([expectedClicksSeries,expectedNonClicksSeries],axis=1)"
   ]
  },
  {
   "cell_type": "code",
   "execution_count": 25,
   "metadata": {},
   "outputs": [
    {
     "data": {
      "text/html": [
       "<div>\n",
       "<style scoped>\n",
       "    .dataframe tbody tr th:only-of-type {\n",
       "        vertical-align: middle;\n",
       "    }\n",
       "\n",
       "    .dataframe tbody tr th {\n",
       "        vertical-align: top;\n",
       "    }\n",
       "\n",
       "    .dataframe thead th {\n",
       "        text-align: right;\n",
       "    }\n",
       "</style>\n",
       "<table border=\"1\" class=\"dataframe\">\n",
       "  <thead>\n",
       "    <tr style=\"text-align: right;\">\n",
       "      <th></th>\n",
       "      <th>Clicks</th>\n",
       "      <th>No Clicks</th>\n",
       "    </tr>\n",
       "  </thead>\n",
       "  <tbody>\n",
       "    <tr>\n",
       "      <th>Campaign 1</th>\n",
       "      <td>56.080268</td>\n",
       "      <td>3611.919732</td>\n",
       "    </tr>\n",
       "    <tr>\n",
       "      <th>Campaign 2</th>\n",
       "      <td>39.919732</td>\n",
       "      <td>2571.080268</td>\n",
       "    </tr>\n",
       "  </tbody>\n",
       "</table>\n",
       "</div>"
      ],
      "text/plain": [
       "               Clicks    No Clicks\n",
       "Campaign 1  56.080268  3611.919732\n",
       "Campaign 2  39.919732  2571.080268"
      ]
     },
     "execution_count": 25,
     "metadata": {},
     "output_type": "execute_result"
    }
   ],
   "source": [
    "expectedDf.columns =['Clicks', 'No Clicks']\n",
    "expectedDf\n"
   ]
  },
  {
   "cell_type": "code",
   "execution_count": 26,
   "metadata": {},
   "outputs": [],
   "source": [
    "chiSquareStatistic = ((twoByTwo_df[['Clicks','No Clicks']]-expectedDf)**2 / expectedDf).values.sum()"
   ]
  },
  {
   "cell_type": "code",
   "execution_count": 27,
   "metadata": {},
   "outputs": [
    {
     "data": {
      "text/plain": [
       "1.0540173010700733"
      ]
     },
     "execution_count": 27,
     "metadata": {},
     "output_type": "execute_result"
    }
   ],
   "source": [
    "((twoByTwo_df[['Clicks','No Clicks']]-expectedDf)**2 / expectedDf).values.sum()"
   ]
  },
  {
   "cell_type": "code",
   "execution_count": 31,
   "metadata": {},
   "outputs": [
    {
     "name": "stdout",
     "output_type": "stream",
     "text": [
      "Expected Table: \n",
      " [[  56.08026756 3611.91973244 3668.        ]\n",
      " [  39.91973244 2571.08026756 2611.        ]] \n",
      "\n",
      "Degrees of Freedom: 2\n",
      "\n",
      "probability=0.95, critical=5.99, stat=0.05 \n",
      "\n",
      "Decision:\n",
      "For significance level 0.05,\n",
      "\n",
      "We fail to reject the Null Hypothesis, H_0\n",
      "\n",
      "for p = 0.95 < 5.991464547107979.\n"
     ]
    }
   ],
   "source": [
    "chiSquareStat, pVal, dof, expected = stats.chi2_contingency(twoByTwo_df)\n",
    "\n",
    "print('Expected Table: \\n',expected,'\\n')\n",
    "\n",
    "# interpret test-statistic\n",
    "prob = 0.95\n",
    "alpha = 1.0 - prob\n",
    "\n",
    "criticalVal = stats.chi2.ppf(prob, dof)\n",
    "\n",
    "print(f'Degrees of Freedom: {dof}\\n')\n",
    "print('probability=%.2f, critical=%.2f, stat=%.2f \\n' % (prob, criticalVal, alpha))\n",
    "\n",
    "print('Decision:')\n",
    "print(f'For significance level {round(alpha,2)},\\n')\n",
    "if abs(chiSquareStat) >= criticalVal:\n",
    "    print('We reject the Null Hypothesis, H_0\\n')\n",
    "    print(f'for p = {prob} >= {criticalVal}.')\n",
    "else:\n",
    "    print('We fail to reject the Null Hypothesis, H_0\\n')\n",
    "    print(f'for p = {prob} < {criticalVal}.')\n",
    "\n",
    "    \n",
    "### Alternatively can say:    \n",
    "# if p <= alpha:\n",
    "#     print('We reject the Null Hypothesis, H_0.')\n",
    "#     print(f'for p = {p} >= {alpha}.')\n",
    "\n",
    "# else:\n",
    "#     print('We fail to reject the Null Hypothesis, H_0.')\n",
    "#     print(f'for p = {p} < {alpha}.')"
   ]
  },
  {
   "cell_type": "markdown",
   "metadata": {},
   "source": [
    "# 5.0 Remarks & Random Notes"
   ]
  },
  {
   "cell_type": "markdown",
   "metadata": {},
   "source": [
    "Prerequisite knowledge: Central Limit Theorem\n",
    "The Central Limit Theorem (CLT) implies a sample of independent random variables, their sums tends towards to a normal distribution even if the original variables themselves aren't normally distributed, also the sample mean tends towards to a normal distribution (sum and mean are equivalent)."
   ]
  },
  {
   "cell_type": "markdown",
   "metadata": {},
   "source": [
    "\n",
    "\n",
    "## 5.1 Chi Square Testing\n",
    "\n",
    "* Chi-Square Goodness of Fit Test\n",
    "    * $\\chi^2$ Test that determines if a sample data matches a population. For more details on this type, see: Goodness of Fit Test.\n",
    "\n",
    "* Chi-Square Test for Independence\n",
    "\n",
    "    * $\\chi^2$ Test that compares two variables in a contingency table to see if they are related. In a more general sense, it tests to see whether distributions of categorical variables differ from each another.\n",
    "    \n",
    "> Note: Chi Square is cool because it works with more than 2 samples\n",
    "\n",
    "> Note: If we have a  small sample size, then Chi Square may have more errors, and thus one would have to work with a Fischer's Exact Test\n",
    "\n",
    "## 5.2 Testing considerations\n",
    "\n",
    "* Ethics\n",
    "    * Risk, Benefits, and Privacy for participants\n",
    "    \n",
    "* Hyperfocusing on specific metric selections, rather than macro ones. (e.g. Wanting to increase Revenue is a goal, but what is the specific issue that you are tackling, to downstream speaking increase that)\n",
    "\n",
    "* If you test on a smaller sample, realize test will have lower power, and thus is constrainted for detecting larger impacts \n",
    "\n",
    "* Keep in mind\n",
    "    * when is the best time to run the experiment (e.g. running on Holidays, weekends?)\n",
    "    * If there is a new change, there may be a learning effect, and then behaviour can become stable again (leading to a false positive)\n",
    "        * Recommendation to avoid a Learning Effect is running experiment on smaller group of users, for longer period of time.\n",
    "* Mind the possibility of the Simpson's Paradox\n",
    "    * Segmentation of groups in thus reducing sampling creates significance, but not from other groups from data before segmentation. Best way to validate this doesn't exist is to do the same test for combined groups.\n",
    "        * E.g. Splitting between new users and existing users\n",
    "* $\\alpha$ percent of the time, you'll reach significance due to chance \n",
    "    * You are running a tests with 20 variants, and you test each hypothesis separately:\n",
    "        * P(one significant result) = 1−P(no significant results) \n",
    "        * P(one significant result) = 1−(1−0.05)^20 = 0.64\n",
    "    * Avoid this by the Bonferroni Correction\n",
    "    \n",
    "* Novelty Effect or Change Aversion: cohort analysis may be helpful.\n",
    "\n"
   ]
  },
  {
   "cell_type": "markdown",
   "metadata": {},
   "source": [
    "<a id='appendix'></a>\n",
    "\n",
    "## 5.3 Appendix"
   ]
  },
  {
   "cell_type": "markdown",
   "metadata": {},
   "source": [
    "### P-Hacking\n"
   ]
  },
  {
   "cell_type": "markdown",
   "metadata": {},
   "source": [
    "### Tukey's Range Test (Optional) [WIP]"
   ]
  },
  {
   "cell_type": "markdown",
   "metadata": {},
   "source": [
    "### 5.3.1 Data Collection Section"
   ]
  },
  {
   "cell_type": "markdown",
   "metadata": {},
   "source": [
    "#### 5.3.1.1 Uniform Distribution"
   ]
  },
  {
   "cell_type": "code",
   "execution_count": 20,
   "metadata": {},
   "outputs": [],
   "source": [
    "n = 400\n",
    "uniformDist = np.random.rand(n)\n",
    "# [0.0, 1.0) distribution set"
   ]
  },
  {
   "cell_type": "code",
   "execution_count": 27,
   "metadata": {},
   "outputs": [
    {
     "name": "stdout",
     "output_type": "stream",
     "text": [
      "[0.03403842 0.84005661 0.5416037  0.15702651]\n"
     ]
    }
   ],
   "source": [
    "print(uniformDist[:4])"
   ]
  },
  {
   "cell_type": "code",
   "execution_count": 23,
   "metadata": {},
   "outputs": [
    {
     "data": {
      "image/png": "[encoded data removed]",
      "text/plain": [
       "<Figure size 432x288 with 1 Axes>"
      ]
     },
     "metadata": {
      "needs_background": "light"
     },
     "output_type": "display_data"
    }
   ],
   "source": [
    "plt.hist(uniformDist)\n",
    "plt.title(f'Uniform Distribution of Sample Size {n}')\n",
    "plt.xlabel('Frequency')\n",
    "plt.xlabel('Value Range')\n",
    "plt.show()"
   ]
  },
  {
   "cell_type": "markdown",
   "metadata": {},
   "source": [
    "#### 5.3.1.2 Standard Normal Distribution"
   ]
  },
  {
   "cell_type": "code",
   "execution_count": 26,
   "metadata": {},
   "outputs": [
    {
     "data": {
      "image/png": "[encoded data removed]",
      "text/plain": [
       "<Figure size 432x288 with 1 Axes>"
      ]
     },
     "metadata": {
      "needs_background": "light"
     },
     "output_type": "display_data"
    }
   ],
   "source": [
    "normalDist = np.random.randn(n)\n",
    "# Mean 0 and Variance 1 Distribution Set\n",
    "print(uniformDist[:4])\n",
    "\n",
    "plt.hist(normalDist)\n",
    "plt.title(f'Standard Normal Distribution of Sample Size {n}')\n",
    "plt.xlabel('Frequency')\n",
    "plt.xlabel('Value Range')\n",
    "plt.show()"
   ]
  },
  {
   "cell_type": "markdown",
   "metadata": {},
   "source": [
    "#### 5.3.2.2 Proportion: Normal Approximation\n",
    "\n",
    "For large values of n, the distributions of the count $X$ and the sample proportion are approximately normal due to the Central Limit Theorem, as it approximates the normal distribution like \n",
    "\n",
    "$\\bar{X}$ ~ $N(\\tfrac{np}{p},\\tfrac{np(1-p)}{n^2}) = N(n, \\tfrac{p(1-p)}{n})$"
   ]
  },
  {
   "cell_type": "markdown",
   "metadata": {},
   "source": [
    "<a id='appendix-chi-square-test'></a>\n",
    "\n",
    "### Chi Square Test (Optional)\n",
    "Equivalently, we can use a similiar process and test statistic in evaluation of proportions. \n",
    "\n",
    "Let us have a 2x2 frequency table where columns are two groups of respondents and rows are the two responses \"successes\" and \"failures\". \n",
    "\n",
    "\n",
    "|    _    | Clicks | No Clicks | Total (Impressions) |\n",
    "|--------|--------|-------------|-----|\n",
    "| Test 1 | X_1    | Y_1         | X_1 + Y_1  | \n",
    "| Test 2 | X_2    | Y_2         | X_2 + Y_2   |\n",
    "| Total  | x      | x           | x   | "
   ]
  },
  {
   "cell_type": "markdown",
   "metadata": {},
   "source": [
    "Then we can provide an equivalent A/B test for the upcoming CTR metric as followed:\n",
    "\n",
    "\n",
    "State the Hypothesis:\n",
    "\n",
    "$H_0: \\bar{p_1} - \\bar{p_2} = 0$ (Independent)\n",
    "\n",
    "$H_1: \\bar{p_1} - \\bar{p_2} \\neq 0$ (Not Independent)\n",
    "\n",
    "DF = $(x_1 - 1) * (x_2 - 1)$\n",
    "\n",
    "Test Statistic:\n",
    "\n",
    "$\\chi^2= \\tfrac{(O-E)^2}{E}$, \n",
    "\n",
    "where $O$ are the Observed values and $E$ are the Expected values.\n",
    "\n",
    "> Note:\n",
    "Expected values are calculated as such:\n",
    "> For the top left region, it would be $\\tfrac{( x_{Clicks} * (X_1 + Y_1)}{x_T }$\n",
    "\n",
    "|    _    | Clicks | No Clicks | Total (Impressions) |\n",
    "|--------|--------|-------------|-----|\n",
    "| Test 1 | $Y_1$    | $Y_1$         | $X_1 + Y_1$  | \n",
    "| Test 2 | $X_2 $   | $Y_2 $        | $X_2 + Y_2 $  |\n",
    "| Total  | $x_{Clicks}$      | $x_{No Clicks}$        | $x_T$   | "
   ]
  },
  {
   "cell_type": "markdown",
   "metadata": {},
   "source": [
    "### 5.3.3 Data Collection Section\n",
    "\n",
    "#### 5.3.3.1 Basesline Conversion Rate\n",
    "\n",
    "Known in conversion-related AB testing calcilatsion, **baseline conversion rate** is the current conversion rate for the variant you’re testing.\n",
    "\n",
    "> Conversion rate is the number of conversions divided by the total number of visitors."
   ]
  },
  {
   "cell_type": "markdown",
   "metadata": {},
   "source": [
    "## Definitions & Terminology\n",
    "\n",
    "* Null Hypothesis\n",
    "\n",
    "\n",
    "* Alternative Hypthesis\n",
    "\n",
    "\n",
    "![Null Hypothesis Comment](../Resources/Images/null_hypothesis_xkcd.png)\n",
    "\n",
    "[Source](https://xkcd.com/892/)\n",
    "\n",
    "* \"Test of Proportion\" is also seen as the 2-sample independent t-test\n",
    "\n",
    "* Standard Deviation\n",
    "\n",
    "* Mean \n",
    "\n",
    "* Variance\n",
    "\n",
    "* Bi-modal\n",
    "\n",
    "* Signifiance\n",
    "\n",
    "* P-value\n",
    "\n",
    "* Chi = $\\chi^2$\n",
    "\n",
    "* Central Limit Theorem: Sample of independent random variables from an unknown population that is non-normal. This sample's mean tends towards to a normal distribution, as the size $n$ becomes larger\n",
    "\n",
    "* Normal\n",
    "\n",
    "* Standard Normal"
   ]
  },
  {
   "cell_type": "markdown",
   "metadata": {},
   "source": [
    "# 6.0 Resources\n",
    "\n",
    "* https://byrony.github.io/understanding-ab-testing-and-statistics-behind.html\n",
    "    \n",
    "* https://www.dataquest.io/blog/a-b-testing-the-definitive-guide-to-improving-your-product/\n",
    "\n",
    "* https://docs.google.com/presentation/d/1k_zR5IkHaIpA6fbTDoa48Gh_LodY7Mjbf56zLro5Uus/edit#slide=id.g31d3c8507d_0_177\n",
    "        \n",
    "        \n",
    "* https://stats.stackexchange.com/questions/76875/what-is-the-difference-between-mcnemars-test-and-the-chi-squared-test-and-how/141450#141450"
   ]
  },
  {
   "cell_type": "code",
   "execution_count": 3,
   "metadata": {},
   "outputs": [],
   "source": [
    "def campaign_period(startDate,endDate):\n",
    "    from datetime import datetime,timedelta\n",
    "    endDate_dt = datetime.strptime(endDate, '%m-%d-%Y')\n",
    "    startDate_dt = datetime.strptime(startDate,'%m-%d-%Y')\n",
    "    numberOfDays = (endDate_dt - startDate_dt).days\n",
    "    date_list = [endDate_dt - timedelta(days=x) for x in range(numberOfDays)]\n",
    "    date_list.append(startDate_dt)\n",
    "    return(date_list)\n",
    "    #Inspiration via  https://stackoverflow.com/questions/993358/creating-a-range-of-dates-in-python\n",
    "\n",
    "def campaign_dataset_generator(campaignName = 'PersonDoe-Campaign2019-1' , weightArray=[.5,.5], sample_size = 100, timeframe = ['7-1-2019', '8-18-2019']):\n",
    "    import random\n",
    "    from faker import Faker\n",
    "    faker = Faker()\n",
    "    actions = ['Click','Impression']\n",
    "    campaignActions = random.choices(actions,\\\n",
    "                        weights=weightArray,\\\n",
    "                        k=sample_size)\n",
    "    campaignTimeFrame = campaign_period(timeframe[0],timeframe[1])\n",
    "    generatedScenario = [[random.choice(campaignTimeFrame), campaignName, faker.email(), i] for i in campaignActions]\n",
    "    return(generatedScenario)\n",
    "\n"
   ]
  },
  {
   "cell_type": "code",
   "execution_count": 4,
   "metadata": {},
   "outputs": [],
   "source": [
    "def campaign_df_generator(matrix,columns):\n",
    "    campaignsDataset = pd.DataFrame(matrix,\\\n",
    "                                columns = columns)\n",
    "    campaignsDataset.sort_values(by='Date',\\\n",
    "                             ascending=True, inplace = True)\n",
    "    campaignsDataset = campaignsDataset.pivot_table(index=['Date','Campaign'],\\\n",
    "                                                columns='Action',\\\n",
    "                                                aggfunc='size',\\\n",
    "                                                fill_value=0).reset_index(drop=False)\n",
    "\n",
    "    campaignsDataset.rename_axis(None,axis=1,inplace=True)\n",
    "    uniqueCamp =campaignsDataset['Campaign'].unique()\n",
    "    returnedObjects = []\n",
    "    for element in uniqueCamp:\n",
    "        returnedObjects.append(campaignsDataset[campaignsDataset['Campaign'] == element])\n",
    "    return(returnedObjects)"
   ]
  },
  {
   "cell_type": "code",
   "execution_count": 5,
   "metadata": {},
   "outputs": [],
   "source": [
    "def distribution_plot(series, name):\n",
    "    series.plot(kind='hist')\n",
    "    plt.title(f'Campaign {name}\\'s Success Distribution ')\n",
    "    plt.show()"
   ]
  },
  {
   "cell_type": "code",
   "execution_count": 8,
   "metadata": {},
   "outputs": [
    {
     "data": {
      "image/png": "[encoded data removed]",
      "text/plain": [
       "<Figure size 432x288 with 1 Axes>"
      ]
     },
     "metadata": {
      "needs_background": "light"
     },
     "output_type": "display_data"
    },
    {
     "data": {
      "image/png": "[encoded data removed]",
      "text/plain": [
       "<Figure size 432x288 with 1 Axes>"
      ]
     },
     "metadata": {
      "needs_background": "light"
     },
     "output_type": "display_data"
    }
   ],
   "source": [
    "size = 10000\n",
    "\n",
    "firstCampaign = campaign_dataset_generator(campaignName = 'PersonDoe-Campaign2019-1',\\\n",
    "                                           weightArray = [.5,.5], \\\n",
    "                                           sample_size = size)\n",
    "\n",
    "secondCampaign = campaign_dataset_generator(campaignName = 'PersonDoe-Campaign2019-2',\\\n",
    "                                            weightArray = [.65,.35], \\\n",
    "                                            sample_size = size)\n",
    "\n",
    "combinedCampaigns = [*firstCampaign, *secondCampaign]\n",
    "# https://stackoverflow.com/questions/1720421/how-do-i-concatenate-two-lists-in-python\n",
    "\n",
    "columns = ['Date','Campaign','User_ID','Action']\n",
    "\n",
    "\n",
    "dfs = campaign_df_generator(combinedCampaigns, columns)\n",
    "campaign1 = dfs[0]\n",
    "campaign2 = dfs[1]\n",
    "\n",
    "distribution_plot(campaign1['Click'], 'PersonDoe-Campaign2019-1')\n",
    "distribution_plot(campaign2['Click'], 'PersonDoe-Campaign2019-2')\n"
   ]
  }
 ],
 "metadata": {
  "kernelspec": {
   "display_name": "Python (DataScienceKernel)",
   "language": "python",
   "name": "datasciencekernel"
  },
  "language_info": {
   "codemirror_mode": {
    "name": "ipython",
    "version": 3
   },
   "file_extension": ".py",
   "mimetype": "text/x-python",
   "name": "python",
   "nbconvert_exporter": "python",
   "pygments_lexer": "ipython3",
   "version": "3.7.2"
  }
 },
 "nbformat": 4,
 "nbformat_minor": 2
}
