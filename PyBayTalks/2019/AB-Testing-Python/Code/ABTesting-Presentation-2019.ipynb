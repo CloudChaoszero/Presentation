{
 "cells": [
  {
   "cell_type": "markdown",
   "metadata": {},
   "source": [
    "\n",
    "<img src=\"../Resources/Images/Slides-Logo.png\" alt=\"Drawing\" style=\"width: 500px;\"/>\n",
    "\n",
    "<center> <a href='https://www.linkedin.com/in/raulm8/'>by Raul Maldonado</a></center>"
   ]
  },
  {
   "cell_type": "markdown",
   "metadata": {},
   "source": [
    "# 1.0 The Overview\n",
    "\n",
    "## 1.1 Introduction\n",
    "\n",
    "\n",
    "This document is designated for my PyBay 2019 talk on an (frequentist) approach to A/B Testing, in Python.\n",
    "\n",
    "\n",
    "[You can find more information in the Slide Deck for this presentation here](https://docs.google.com/presentation/d/1nr8O-hS070yhBZoc5KtMQgEdremG0-oZP0ujUnocELc/edit?usp=sharing).\n",
    "\n",
    "Enjoy! :D"
   ]
  },
  {
   "cell_type": "markdown",
   "metadata": {},
   "source": [
    "## 1.2 Concept <span style='color:red'>*</span>\n",
    "\n",
    "A/B Testing is \"[a randomized experiment of two variants, A and B.](https://en.wikipedia.org/wiki/A/B_testing)” This test quantitatively compares two variants/samples with a single \"metric of choice\" in evaluation if there exists a statistical significance between said groups.\n",
    "\n",
    "\n",
    "For example, let's say we ran a digital ad campaign A, with a Call to Action caption 'Click here, please!' \n",
    "\n",
    "Also, let's say we have an alternative ad campaign B with slight modification from A, being the change in the Call to Action to \"Learn more here!\". \n",
    "\n",
    "This in mind, our goal is to decide to see if there is a difference in the campaign's Click Through Rate (CTR) performance such that we increase our engagement.\n",
    "\n",
    "> We define $CTR := \\tfrac{\\text{Total Number of Successes}}{\\text{Total Number of Events}}$\n",
    "\n",
    "That is, Considering two ad Campaigns A & B, each with it's unique distinction, we want to evaluate if there is a difference, a statistical difference in fact, in CTR performance."
   ]
  },
  {
   "cell_type": "markdown",
   "metadata": {},
   "source": [
    "## 1.3 Background/History\n",
    "\n",
    "Allen Downey once simplified A/B tests, more generally hypothesis tests, in the following steps:\n",
    "\n",
    "\n",
    "![AB Testing Format](../Resources/Images/ABTesting-Format.PNG)\n",
    "\n",
    "(Source: [“Probably Overthinking It” by Allen Downey](http://allendowney.blogspot.com/2016/06/there-is-still-only-one-test.html))\n"
   ]
  },
  {
   "cell_type": "markdown",
   "metadata": {},
   "source": [
    "BUT what are Hypothesis Tests? These tests essentially the prior/less modern statistical experimental design framework of A/B tests. That being said, some people believe to see that A/B tests were borrowed/taken from the Statistics world, and labeled an edgy/cool name to distinguish iteself.\n",
    "\n",
    "![Not Lame](../Resources/Images/not_lame_meme.PNG)\n",
    "    "
   ]
  },
  {
   "cell_type": "markdown",
   "metadata": {},
   "source": [
    "### 1.3.1 Stats 101?"
   ]
  },
  {
   "cell_type": "markdown",
   "metadata": {},
   "source": [
    "With the above being said, some of you may recall your introduction to Statistics, particularly Hypothesis tests...\n",
    "\n",
    "![Maths!](https://media.giphy.com/media/xY4GnaH8P3fc4/source.gif)\n",
    "\n",
    "\n",
    "Statistics students are typically introduced to the following methodology and decisions when proceeding in Hypothesis tests. \n",
    "\n",
    "Similarly, we'll go through this decision tree (\\*slaps knee\\*) to determine what assumptions and calculations are needed for the provided data\n",
    "\n",
    "![Tree](../Resources/Images/AB-Testing-Choices-Tree.png)\n",
    "\n",
    "[Source](https://bloomingtontutors.com/blog/when-to-use-the-z-test-versus-t-test)"
   ]
  },
  {
   "cell_type": "markdown",
   "metadata": {},
   "source": [
    "As a note,\n",
    "\n",
    "the above is just one particular decision approach for your test statistic calculation in Hypothesis Testing. It considers both the data distribution, data type, and assumption of having a population standard deviation. However, there are other types of questions besides ones related to a t-test or z-test methodology.\n",
    "\n",
    "Considering the question in mind, data & it's type, and more , here are some examples of different tests with respective to assumptions like:\n",
    "\n",
    "![AB-Testing-Choices-Tree](../Resources/Images/Test-Choice-Wiki.png)\n",
    "________"
   ]
  },
  {
   "cell_type": "markdown",
   "metadata": {},
   "source": [
    "\n",
    "![AB-Testing-Choices-Tree](../Resources/Images/Test-Choice-Current-Scenario.png)\n",
    "\n"
   ]
  },
  {
   "cell_type": "markdown",
   "metadata": {},
   "source": [
    "In the previously mentioned tree, some of the questions that lead us down that avenue may be:\n",
    "\n",
    "1. I am comparing one sample to an observed case or two samples against one another\n",
    "2. My data types for calculations are similar\n",
    "3. What's the size of my dataset?\n",
    "4. Do I know my standard deviation?\n",
    "\n",
    ">  Other mentions or comparisons between Z-test & T-test, $\\chi^2$ test, and other items from the above are covered in the Appendix section. \n",
    "> But **unfortunately**, we will not cover additional methodologies in this session."
   ]
  },
  {
   "cell_type": "markdown",
   "metadata": {},
   "source": [
    "# 2.0 The Format\n",
    "\n",
    "## 2.1 Abstraction\n",
    "\n",
    "Let's disgress from the brief background, and head back to the general overview intially seen in 1.3:\n",
    "\n",
    "![AB Testing Format](../Resources/Images/ABTesting-Format.PNG)\n",
    "\n",
    "(Source: [“Probably Overthinking It” by Allen Downey](http://allendowney.blogspot.com/2016/06/there-is-still-only-one-test.html))\n"
   ]
  },
  {
   "cell_type": "markdown",
   "metadata": {},
   "source": [
    "When implementing the A/B testing procedure in production, we keep in mind of the following steps to ensure a resound test:\n",
    "\n",
    "1. State your Hypothesis \n",
    "2. Statistical Assumptions\n",
    "3. Define and collect control group information\n",
    "4. Identify you Minimum Detectable Effect, Sample Size, and more\n",
    "5. Analyze\n",
    "6. Conclusion"
   ]
  },
  {
   "cell_type": "markdown",
   "metadata": {},
   "source": [
    "# 3.0 Testing, Testing..1,2,3."
   ]
  },
  {
   "cell_type": "markdown",
   "metadata": {},
   "source": [
    "## 3.1 State your Hypothesis"
   ]
  },
  {
   "cell_type": "markdown",
   "metadata": {},
   "source": [
    "### 3.1.1 Types of Hypothesis Declarations\n",
    "\n",
    "In general, there are 3 types of hypotheses to consider in your tests, seen below"
   ]
  },
  {
   "cell_type": "markdown",
   "metadata": {},
   "source": [
    "![Types of Test](../Resources/Images/two_tailed_test.png)\n",
    "\n",
    "[Source](https://www.fromthegenesis.com/difference-between-one-tail-test-and-two-tail-test/)\n"
   ]
  },
  {
   "cell_type": "markdown",
   "metadata": {},
   "source": [
    "### 3.1.2 The Statement <span style='color:red'>*</span>"
   ]
  },
  {
   "cell_type": "markdown",
   "metadata": {},
   "source": [
    "We say our **Level of Significance**, $\\alpha$, is set to be $\\alpha = .05$. \n",
    "\n",
    "> This significance level $\\alpha$ is the probability of rejecting the null hypothesis $H_0$, when $H_0$ is true.\n",
    "\n",
    "> > I.e. P(Rejecting $H_0$ | $H_0$ is true)"
   ]
  },
  {
   "cell_type": "code",
   "execution_count": 1,
   "metadata": {},
   "outputs": [],
   "source": [
    "alpha = 0.05"
   ]
  },
  {
   "cell_type": "markdown",
   "metadata": {},
   "source": [
    "Our goal is to compare the means of two Ad groups and evaluate if there is a significant difference their average CTR performance. \n",
    "\n",
    "That is,"
   ]
  },
  {
   "cell_type": "markdown",
   "metadata": {},
   "source": [
    "$H_0: \\bar{p_1} - \\bar{p_2} = 0$\n",
    "\n",
    "> (i.e. There is no significant difference between the two campaigns)\n",
    "\n",
    "\n",
    "$H_1: \\bar{p_1} - \\bar{p_2} \\neq 0$\n",
    "\n",
    "> (i.e. There is a significant difference between the two campaigns)"
   ]
  },
  {
   "cell_type": "markdown",
   "metadata": {},
   "source": [
    "### 3.1.3 Statement Implications <span style='color:red'>*</span>\n",
    "\n",
    "It should be noted here that we are not trying to prove that there is a significant difference. We are rather observing from the standpoint of no difference to see if one exists.\n",
    "\n",
    "> Imagine being in a state of being leanient until proven guilty, compared to innocent until proven so. The incentive to not be within a neutral standpoint may lead to the illusion of proving or justifying the interest of yourself or another party's agenda, when that's not the case.\n",
    "\n",
    "\n",
    "![Court](../Resources/Images/innocent_court.gif)\n",
    "\n",
    "More simply,\n",
    "\n",
    "[“Ignorance more frequently begets confidence than does knowledge: it is those who know little, not those who know much, who so positively assert that this or that problem will never be solved by science.”](https://www.goodreads.com/quotes/24141-ignorance-more-frequently-begets-confidence-than-does-knowledge-it-is)\n",
    "\n",
    "― Charles Darwin, The Descent of Man"
   ]
  },
  {
   "cell_type": "markdown",
   "metadata": {},
   "source": [
    "## 3.2 Statistical Assumptions\n",
    "\n"
   ]
  },
  {
   "cell_type": "markdown",
   "metadata": {},
   "source": [
    "### 3.2.1 Existing Process\n",
    "\n",
    "A user searches for information in Google Search. The user typically will see a list of responses for popular terms or keywords. From their inquiry, depending on what they searched for, they receive an ad at the top of the rankings as a paid recommendation related to their search.\n",
    "\n",
    "\n",
    "### 3.2.2 The Scenario\n",
    "\n",
    "Let's say we have an existing variant group A to be Google Ad Campaign promoting our portfolio in Google Search. The original variant A, the control group, will have one type of **Call to Action**, while the another variant group B, the experimental, has a different type of \"Call to Action\"\n",
    "\n",
    "Each ad's activity from a user is logged either as a \"Click\" or an \"No Click\", like so\n",
    "\n",
    "| Date     | User Email            | Action     |\n",
    "|----------|-----------------------|------------|\n",
    "| 1/1/1900 | fake.email@comcast.net   | No Click |\n",
    "| 1/1/1900 | real.email@goog1e.com | Click      |"
   ]
  },
  {
   "cell_type": "markdown",
   "metadata": {},
   "source": [
    "### 3.2.3 Basic Assumptions <span style='color:red'>*</span>\n",
    "\n",
    "From the collected samples for this type of targed data/iformation, we assume the following conditions\n",
    "\n",
    "* Each event is independent from one another\n",
    "\n",
    "* Sampling is a simple random sample.\n",
    "\n",
    "* A user either clicks or does not click (an impression) for an ad\n",
    "\n",
    "* Application of the Central Limit Theorem for normal distribution\n",
    "\n",
    "    * With an appropriate traffic size, the binomial-like distribution of this scenario reaches a Standard Normal (Gaussian) Distribution\n",
    "\n",
    "* Our invariants metrics, metrics not affected by the experiment, are the numbers of users "
   ]
  },
  {
   "cell_type": "markdown",
   "metadata": {},
   "source": [
    "### 3.2.4 Segmentation\n",
    "\n",
    "The type of users we are interested in depends on who our targeted audience is for this testing. \n",
    "(e.g. Do we simply sample form on the overall population of this test, or are we evaluating performance between a particular group? \n",
    "\n",
    "From our previous mention of keywords, Google Ads enables us to selectively target our ads in a bid for certain types of keywords. If we win the bid, our ad is shown related to that keyword. \n",
    "\n",
    "> Note: If our segmentation is too specific, we lead into the impliciation of incorrectly rejecting our existing, null, hypothesis for another--something called the **Simpson's Paradox**. This is because the more refined our segmentation is, we target a specific case or decrease our # of observations such that we lead to those results.\n",
    "\n",
    "> Luckily, to best audit that one can identify if the culmination of different segments have the same results as the total sample "
   ]
  },
  {
   "cell_type": "markdown",
   "metadata": {},
   "source": [
    "That is, identify if segments $A_n$, where $n \\in {1,2,...n}$'s overall results hold true for sample $A$\n",
    "\n",
    "![Simpon's Paradox Example](../Resources/Images/simpons_paradox_example.png)"
   ]
  },
  {
   "cell_type": "markdown",
   "metadata": {},
   "source": [
    "### 3.2.5 Experiment Goals \n",
    "\n",
    "\n",
    "Observe if our new campaign will drive a change in CTR performance.\n",
    "\n",
    "### 3.2.6 Metric Of Choice <span style='color:red'>*</span>\n",
    "\n",
    "We determine what is our metric of choice for our test, aligned with our existing objectives. Now, we want users to reach out to us, after reviewing our portfolio--seeing an impact for our visibility objective.\n",
    "\n",
    "However, the tracking for that is not set up in our system. Moreover, this ad campaign is an evaluation of the effective usability of the call to action we are implementing. \n",
    "\n",
    "Aligned with our objective to see what ad works for usability between the two variants, we select the Click Through Rate (CTR) as our Metric of Choice.\n",
    "\n",
    "Moreover, let the CTR proportion $p_i$ be defined as $p_i = \\tfrac{x_i}{n_i}$, \n",
    "\n",
    "where \n",
    "\n",
    "$x_i$ are the successes \n",
    "& \n",
    "$n_i$ is the total count of each sample.\n",
    "\n",
    "![Click gif](../Resources/Images/pyBay_click.gif)"
   ]
  },
  {
   "cell_type": "code",
   "execution_count": 2,
   "metadata": {},
   "outputs": [],
   "source": [
    "import os\n",
    "import warnings\n",
    "warnings.filterwarnings(\"ignore\")\n",
    "\n",
    "import pandas as pd\n",
    "import numpy as np\n",
    "\n",
    "from scipy.stats import ttest_ind\n",
    "import scipy\n",
    "import seaborn as sns\n",
    "sns.set_style(\"dark\")\n",
    "\n",
    "import matplotlib.pyplot as plt"
   ]
  },
  {
   "cell_type": "markdown",
   "metadata": {},
   "source": [
    "### 3.2.7 Minimum Detectable Effect, Sample Size, and Duration\n",
    "\n",
    "\n",
    "Assume the original ad's daily CTR performance was, on average, ~1%. That being said, we have a basis for what we know previous to doing anything in the test. \n",
    "> I.e. we have a basis measure to compare this baseline measure of an estimated ~1% CTR \n",
    "\n",
    "We would like to evaluate if there is a significant difference in the ads performance, under assumption of the baseline measure. Moreover, to consider our commitment into the consideration of a new ad campaign, regardless of if it is statistically significantly different, we have a **Minimum Dectable Effect (MDE)** for us to consider.\n",
    "\n",
    "> An example of this is the consideration of cost of investment, change management, or risk.\n",
    "\n",
    "The **MDE** calculation for our case is defined as \n",
    "\n",
    "$\\text{MDE}:=t^* \\sqrt{\\tfrac{p_1(1-p_1)}{n_1}+\\tfrac{p_1(1-p_2)}{n_2}}$\n",
    "\n",
    "With the Minimum Detectable difference in mind, we need to have a few other considerations in our testing:\n",
    "\n",
    "1. Sample Size\n",
    "2. Duration\n",
    "\n",
    "We don't have either. However, we can have the idea of what we feel is a MDE from the baseline measure. MOreover, since we have that, we can re-work the formula above to at least calcualte the sample size and estimate a time duration.\n"
   ]
  },
  {
   "cell_type": "markdown",
   "metadata": {},
   "source": [
    "### 3.2.8 Sample Size\n",
    "\n",
    "Assuming the two samples have an estimated equal amount of observations with an estimate of $p_1$ & $p_2$, We can compute one variant's sample size to reach MDE as\n",
    "\n",
    "\n",
    "$\\text{MDE}:=t^*  \\sqrt{\\tfrac{p_1(1-p_1)}{n_1}+\\tfrac{p_2(1-p_2)}{n_2}} \\implies t^*  \\sqrt{\\tfrac{p(1-p)}{n}+\\tfrac{p(1-p)}{n}}\\implies$\n",
    "\n",
    "> Going forward, for a $\\alpha=0.05$, $t=1.96$~2.\n",
    "\n",
    "$n= 2 p(1-p)(\\tfrac{t^* }{\\text{MDE}})^2$\n",
    "\n",
    "Remember though, we have two variants. Therefore, thet total numner of samples neeed is \n",
    "\n",
    "$n = n_1 + n_2 = 4 p(1-p)(\\tfrac{t^* }{\\text{MDE}})^2 $\n",
    "\n",
    "\n",
    "For duration, we identify it based on previous traffic history.\n",
    "\n",
    "> As an example, if I need 1,000 total observations of the two groups, and I know I have 200 unique users search per week, then we would have to wait 5 weeks for our test to run, assuming same traffic flows through."
   ]
  },
  {
   "cell_type": "markdown",
   "metadata": {},
   "source": [
    "From [this website](http://www.evanmiller.org/ab-testing/sample-size.html#!1.02;80;5;0.1;0), we find our sample size to be an estimated ~160,000 rows"
   ]
  },
  {
   "cell_type": "code",
   "execution_count": 3,
   "metadata": {},
   "outputs": [],
   "source": [
    "size = 1600"
   ]
  },
  {
   "cell_type": "markdown",
   "metadata": {},
   "source": [
    "### 3.3 Data Collection\n",
    "\n",
    "Assume 3.2.7 assumptions hold true. Moreover, assume that our data collection and experiment would be run fairly from system  setup for the experiment.\n",
    "\n",
    "* In particular,  we are using the Goodle Ads system, and is currently known for being reliable. But how do we know no performance downgrade has occurred (and all hell breaks loose on the internet with a P0 to the next available engineer #HugOps)?\n",
    "\n",
    "A tatic used to test if a tool, like Google Ads, is being used to run experiments fairly is called **A/A testing**. What **A/A Testing** does is tests two identical versions of a page against each other. In an A/A test, the tool should report no difference in conversions between the two variant/groups. \n",
    "\n",
    "![A, it's A!](../Resources/Images/a_a_test_meme.png)\n",
    "\n",
    "If there is a statistical significance in this tool, then something is afoot, and your actual implementation increases chances of having incorrect conclusions!"
   ]
  },
  {
   "cell_type": "code",
   "execution_count": 55,
   "metadata": {},
   "outputs": [],
   "source": [
    "def campaign_period(startDate,endDate):\n",
    "    from datetime import datetime,timedelta\n",
    "    endDate_dt = datetime.strptime(endDate, '%m-%d-%Y')\n",
    "    startDate_dt = datetime.strptime(startDate,'%m-%d-%Y')\n",
    "    numberOfDays = (endDate_dt - startDate_dt).days\n",
    "    date_list = [endDate_dt - timedelta(days=x) for x in range(numberOfDays)]\n",
    "    date_list.append(startDate_dt)\n",
    "    return(date_list)\n",
    "    #Inspiration via  https://stackoverflow.com/questions/993358/creating-a-range-of-dates-in-python\n",
    "    \n",
    "def campaign_dataset_generator(campaignName = 'PersonDoe-Campaign2019-n', \\\n",
    "                               weightArray=[.5,.5], sample_size = 100, \\\n",
    "                               timeframe = ['7-1-2019', '8-18-2019']):\n",
    "    import random\n",
    "    from faker import Faker\n",
    "    faker = Faker()\n",
    "    actions = ['Click','No Click']\n",
    "    campaignActions = random.choices(actions,\\\n",
    "                        weights=weightArray,\\\n",
    "                        k=sample_size)\n",
    "    campaignTimeFrame = campaign_period(timeframe[0],timeframe[1])\n",
    "    generatedScenario = [[random.choice(campaignTimeFrame), campaignName, faker.email(), i] for i in campaignActions]\n",
    "    return(generatedScenario)\n",
    "\n",
    "def campaign_df_generator(matrix,columns):\n",
    "    campaignsDataset = pd.DataFrame(matrix,\\\n",
    "                                columns = columns)\n",
    "    \n",
    "    campaignsDataset.sort_values(by='Date',\\\n",
    "                             ascending=True, inplace = True)\n",
    "    campaignsDataset = campaignsDataset.pivot_table(index=['Date','Campaign'],\\\n",
    "                                                columns='Action',\\\n",
    "                                                aggfunc='size',\\\n",
    "                                                fill_value=0).reset_index(drop=False)\n",
    "    campaignsDataset[['Click','No Click']] = campaignsDataset[['Click','No Click']].astype(float)\n",
    "\n",
    "    campaignsDataset.rename_axis(None,axis=1,inplace=True)\n",
    "    uniqueCamp =campaignsDataset['Campaign'].unique()\n",
    "    returnedObjects = []\n",
    "    for element in uniqueCamp:\n",
    "        returnedObjects.append(campaignsDataset[campaignsDataset['Campaign'] == element])\n",
    "    return(returnedObjects)\n",
    "\n",
    "def express_campaign_df_generator(campaignList,weightMatrix, sample_size):\n",
    "    firstCamp = campaign_dataset_generator(campaignList[0],weightMatrix[0], sample_size)\n",
    "    secondCamp = campaign_dataset_generator(campaignList[1],weightMatrix[1], sample_size)\n",
    "    combinedCampaigns = [*firstCamp, *secondCamp]\n",
    "    # https://stackoverflow.com/questions/1720421/how-do-i-concatenate-two-lists-in-python\n",
    "    \n",
    "    columns = ['Date','Campaign','User_ID','Action']\n",
    "\n",
    "    dfs = campaign_df_generator(combinedCampaigns, columns)\n",
    "    return(dfs)"
   ]
  },
  {
   "cell_type": "code",
   "execution_count": 56,
   "metadata": {},
   "outputs": [],
   "source": [
    "size = 1600"
   ]
  },
  {
   "cell_type": "code",
   "execution_count": 57,
   "metadata": {},
   "outputs": [],
   "source": [
    "campaign1_name = 'PersonDoe-Campaign2019-1'\n",
    "campaign2_name = 'PersonDoe-Campaign2019-2'\n",
    "\n",
    "firstCampaign_ds = campaign_dataset_generator(campaignName = campaign1_name, \\\n",
    "                                           weightArray = [.5, .5], \\\n",
    "                                           sample_size = size)\n",
    "\n",
    "secondCampaign_ds = campaign_dataset_generator(campaignName = campaign2_name, \\\n",
    "                                            weightArray = [.53, .47], \\\n",
    "                                            sample_size = size)\n",
    "combinedCampaigns = [*firstCampaign_ds, *secondCampaign_ds]\n",
    "# https://stackoverflow.com/questions/1720421/how-do-i-concatenate-two-lists-in-python\n",
    "\n",
    "columns = ['Date','Campaign','User_ID','Action']\n",
    "\n",
    "\n",
    "dfs = campaign_df_generator(combinedCampaigns, columns)\n",
    "\n",
    "campaign1 = dfs[0]\n",
    "campaign2 = dfs[1]"
   ]
  },
  {
   "cell_type": "code",
   "execution_count": 29,
   "metadata": {},
   "outputs": [
    {
     "data": {
      "text/html": [
       "<div>\n",
       "<style scoped>\n",
       "    .dataframe tbody tr th:only-of-type {\n",
       "        vertical-align: middle;\n",
       "    }\n",
       "\n",
       "    .dataframe tbody tr th {\n",
       "        vertical-align: top;\n",
       "    }\n",
       "\n",
       "    .dataframe thead th {\n",
       "        text-align: right;\n",
       "    }\n",
       "</style>\n",
       "<table border=\"1\" class=\"dataframe\">\n",
       "  <thead>\n",
       "    <tr style=\"text-align: right;\">\n",
       "      <th></th>\n",
       "      <th>Date</th>\n",
       "      <th>Campaign</th>\n",
       "      <th>Click</th>\n",
       "      <th>No Click</th>\n",
       "    </tr>\n",
       "  </thead>\n",
       "  <tbody>\n",
       "    <tr>\n",
       "      <th>0</th>\n",
       "      <td>2019-07-01</td>\n",
       "      <td>PersonDoe-Campaign2019-1</td>\n",
       "      <td>20.0</td>\n",
       "      <td>14.0</td>\n",
       "    </tr>\n",
       "    <tr>\n",
       "      <th>2</th>\n",
       "      <td>2019-07-02</td>\n",
       "      <td>PersonDoe-Campaign2019-1</td>\n",
       "      <td>18.0</td>\n",
       "      <td>18.0</td>\n",
       "    </tr>\n",
       "    <tr>\n",
       "      <th>4</th>\n",
       "      <td>2019-07-03</td>\n",
       "      <td>PersonDoe-Campaign2019-1</td>\n",
       "      <td>27.0</td>\n",
       "      <td>13.0</td>\n",
       "    </tr>\n",
       "  </tbody>\n",
       "</table>\n",
       "</div>"
      ],
      "text/plain": [
       "        Date                  Campaign  Click  No Click\n",
       "0 2019-07-01  PersonDoe-Campaign2019-1   20.0      14.0\n",
       "2 2019-07-02  PersonDoe-Campaign2019-1   18.0      18.0\n",
       "4 2019-07-03  PersonDoe-Campaign2019-1   27.0      13.0"
      ]
     },
     "execution_count": 29,
     "metadata": {},
     "output_type": "execute_result"
    }
   ],
   "source": [
    "campaign1.head(3)"
   ]
  },
  {
   "cell_type": "code",
   "execution_count": 30,
   "metadata": {},
   "outputs": [
    {
     "data": {
      "text/html": [
       "<div>\n",
       "<style scoped>\n",
       "    .dataframe tbody tr th:only-of-type {\n",
       "        vertical-align: middle;\n",
       "    }\n",
       "\n",
       "    .dataframe tbody tr th {\n",
       "        vertical-align: top;\n",
       "    }\n",
       "\n",
       "    .dataframe thead th {\n",
       "        text-align: right;\n",
       "    }\n",
       "</style>\n",
       "<table border=\"1\" class=\"dataframe\">\n",
       "  <thead>\n",
       "    <tr style=\"text-align: right;\">\n",
       "      <th></th>\n",
       "      <th>Date</th>\n",
       "      <th>Campaign</th>\n",
       "      <th>Click</th>\n",
       "      <th>No Click</th>\n",
       "    </tr>\n",
       "  </thead>\n",
       "  <tbody>\n",
       "    <tr>\n",
       "      <th>1</th>\n",
       "      <td>2019-07-01</td>\n",
       "      <td>PersonDoe-Campaign2019-2</td>\n",
       "      <td>20.0</td>\n",
       "      <td>10.0</td>\n",
       "    </tr>\n",
       "    <tr>\n",
       "      <th>3</th>\n",
       "      <td>2019-07-02</td>\n",
       "      <td>PersonDoe-Campaign2019-2</td>\n",
       "      <td>18.0</td>\n",
       "      <td>19.0</td>\n",
       "    </tr>\n",
       "    <tr>\n",
       "      <th>5</th>\n",
       "      <td>2019-07-03</td>\n",
       "      <td>PersonDoe-Campaign2019-2</td>\n",
       "      <td>19.0</td>\n",
       "      <td>11.0</td>\n",
       "    </tr>\n",
       "  </tbody>\n",
       "</table>\n",
       "</div>"
      ],
      "text/plain": [
       "        Date                  Campaign  Click  No Click\n",
       "1 2019-07-01  PersonDoe-Campaign2019-2   20.0      10.0\n",
       "3 2019-07-02  PersonDoe-Campaign2019-2   18.0      19.0\n",
       "5 2019-07-03  PersonDoe-Campaign2019-2   19.0      11.0"
      ]
     },
     "execution_count": 30,
     "metadata": {},
     "output_type": "execute_result"
    }
   ],
   "source": [
    "campaign2.head(3)"
   ]
  },
  {
   "cell_type": "code",
   "execution_count": 31,
   "metadata": {},
   "outputs": [
    {
     "name": "stdout",
     "output_type": "stream",
     "text": [
      "DataFrame Schema:\n",
      "['Date', 'Campaign', 'Click', 'No Click']\n"
     ]
    }
   ],
   "source": [
    "print(f'DataFrame Schema:\\n{campaign1.columns.tolist()}')"
   ]
  },
  {
   "cell_type": "markdown",
   "metadata": {},
   "source": [
    "We observe that the dataframe contains dimension information, along with measures like Clicks and No Clicks.\n",
    "\n",
    "However, none of these are not the CTR metric of choice.\n",
    "\n",
    "**Question**\n",
    "\n",
    "Recall the CTR formula from before. What was it?\n",
    "\n",
    "**CTR** $:= \\tfrac{\\text{?}_1}{\\text{?}_2}$\n",
    "\n",
    "Hint: Metric of Choice"
   ]
  },
  {
   "cell_type": "code",
   "execution_count": 32,
   "metadata": {},
   "outputs": [],
   "source": [
    "campaign1['CTR'] = campaign1['Click'] / (campaign1['No Click']+campaign1['Click'])\n",
    "\n",
    "campaign2['CTR'] = campaign2['Click'] / (campaign2['No Click'] +campaign2['Click'])"
   ]
  },
  {
   "cell_type": "markdown",
   "metadata": {},
   "source": [
    "The Daily distribution of the CTR calculations are as followed"
   ]
  },
  {
   "cell_type": "code",
   "execution_count": 33,
   "metadata": {},
   "outputs": [],
   "source": [
    "def distribution_plot(series, series2=None, name_of_campaign = ''):\n",
    "\n",
    "    sns.distplot( series['CTR'], hist=True, kde=True, \\\n",
    "        kde_kws = {'shade': True, 'linewidth': 3})\n",
    "\n",
    "    plt.title(f'Campaign {name_of_campaign}\\'s Success Distribution')\n",
    "\n",
    "    plt.xlabel(series['CTR'].name)\n",
    "    plt.show()"
   ]
  },
  {
   "cell_type": "code",
   "execution_count": 34,
   "metadata": {},
   "outputs": [
    {
     "data": {
      "image/png": "[encoded data removed]",
      "text/plain": [
       "<Figure size 432x288 with 1 Axes>"
      ]
     },
     "metadata": {
      "needs_background": "light"
     },
     "output_type": "display_data"
    },
    {
     "data": {
      "image/png": "[encoded data removed]",
      "text/plain": [
       "<Figure size 432x288 with 1 Axes>"
      ]
     },
     "metadata": {
      "needs_background": "light"
     },
     "output_type": "display_data"
    }
   ],
   "source": [
    "# First Distribution\n",
    "distribution_plot(series = campaign1, name_of_campaign= campaign1_name)\n",
    "\n",
    "# Second Distribution\n",
    "distribution_plot(series = campaign2, name_of_campaign= campaign2_name)"
   ]
  },
  {
   "cell_type": "code",
   "execution_count": null,
   "metadata": {},
   "outputs": [],
   "source": []
  },
  {
   "cell_type": "code",
   "execution_count": 35,
   "metadata": {},
   "outputs": [],
   "source": [
    "# Proportion Calculations\n",
    "n1 = (campaign1['No Click'].sum() + campaign1['Click'].sum())\n",
    "p1 = campaign1['Click'].sum() / n1\n",
    "\n",
    "n2 = (campaign2['No Click'].sum() + campaign2['Click'].sum())\n",
    "p2 = campaign2['Click'].sum()  / n2"
   ]
  },
  {
   "cell_type": "code",
   "execution_count": 36,
   "metadata": {},
   "outputs": [
    {
     "name": "stdout",
     "output_type": "stream",
     "text": [
      "0.515 1600.0\n",
      "0.5375 1600.0\n"
     ]
    }
   ],
   "source": [
    "print(p1,n1)\n",
    "print(p2,n2)"
   ]
  },
  {
   "cell_type": "markdown",
   "metadata": {},
   "source": [
    "## 3.4 Analyze The Results <span style='color:red'>*</span>\n",
    "\n",
    "Recall that our test statistic is using the $t$ statistic defined as \n",
    "\n",
    "$t= \\tfrac{ \\bar{p_1} - \\bar{p_2} - 0 }{SE}$, \n",
    "\n",
    "where the standard error $SE = \\sqrt{(\\tfrac{\\bar{p_1} (1-\\bar{p_1})}{n_1}) + (\\tfrac{\\bar{p_2} (1-\\bar{p_2})}{n_2})}$\n",
    "\n",
    "> Note: When comparing between two groups, the notation $d:=\\bar{p_1} - \\bar{p_2}$ is introduced to simplify formula\n",
    "\n",
    "Moreover, our degrees of freedom for these two variants is defined as $DoF := (n_1 + n_2 -2)$"
   ]
  },
  {
   "cell_type": "markdown",
   "metadata": {},
   "source": [
    "We observe the difference $d$ = $\\bar{p_1}$ & $\\bar{p_2}$ equal to the following"
   ]
  },
  {
   "cell_type": "code",
   "execution_count": 49,
   "metadata": {},
   "outputs": [],
   "source": [
    "def ind_t_test(group1,group2, alpha, output_bool=False):\n",
    "    # Proportion Calculations\n",
    "    n1 = (group1['No Click'].sum() + group1['Click'].sum())\n",
    "    p1 = group1['Click'].sum() / n1\n",
    "\n",
    "    n2 = (group2['No Click'].sum() + group2['Click'].sum())\n",
    "    p2 = group2['Click'].sum()  / n2\n",
    "    \n",
    "    d= p2-p1\n",
    "    # Standard Error of Proportions Calculations\n",
    "\n",
    "    ## Term 1\n",
    "    se1 = (p1 * (1- p1))/n1\n",
    "\n",
    "    ## Term 2\n",
    "    se2 = (p2 * (1- p2))/n2\n",
    "\n",
    "\n",
    "    ## Terms being squared for final result\n",
    "    standardError = np.sqrt(se1 + se2)\n",
    "    tStatistic = (d - 0) / standardError\n",
    "\n",
    "    \n",
    "    # Critical T Value Test Statistic\n",
    "    criticalValue = scipy.stats.t.ppf(1.0 - alpha, df = (n1 + n2-2))\n",
    "\n",
    "\n",
    "    # Confidence Interval\n",
    "    confInt = [d - (criticalValue * standardError), d + (criticalValue * standardError)]\n",
    "\n",
    "    #Two Sided P Value, P( |t| >= |t^*|)\n",
    "\n",
    "    p_val = (1 - scipy.stats.t.cdf(abs(tStatistic), df \\\n",
    "                                   = (n1 + n2-2)) ) * 2.0\n",
    "    if output_bool is True:\n",
    "        print(f'Campaign {group1.Campaign[0]}\\'s CTR: {round(p1,4)}' + f' with Standard Error {se1}.')\n",
    "        print(f'Campaign {group2.Campaign[3]}\\'s CTR: {round(p2,4)}' + f' with Standard Error {se2}.\\n')\n",
    "        print(f\"Confidence Interval {confInt}\")\n",
    "        print(f'T Statistic: {round(tStatistic, 2)}')\n",
    "        print(f'We have critical value t^* at {round(criticalValue, 2)}\\nand p-value of {round(p_val, 2)}')"
   ]
  },
  {
   "cell_type": "code",
   "execution_count": 51,
   "metadata": {},
   "outputs": [
    {
     "name": "stdout",
     "output_type": "stream",
     "text": [
      "Campaign PersonDoe-Campaign2019-1's CTR: 0.515 with Standard Error 0.000156109375.\n",
      "Campaign PersonDoe-Campaign2019-2's CTR: 0.5375 with Standard Error 0.00015537109375.\n",
      "\n",
      "Confidence Interval [-0.00653811962315896, 0.05153811962315889]\n",
      "T Statistic: 1.27\n",
      "We have critical value t^* at 1.65\n",
      "and p-value of 0.2\n"
     ]
    }
   ],
   "source": [
    "ind_t_test(campaign1,campaign2, 0.05, output_bool=True)"
   ]
  },
  {
   "cell_type": "code",
   "execution_count": 37,
   "metadata": {},
   "outputs": [
    {
     "name": "stdout",
     "output_type": "stream",
     "text": [
      "0.022499999999999964\n"
     ]
    }
   ],
   "source": [
    "d = p2-p1\n",
    "\n",
    "print(d)"
   ]
  },
  {
   "cell_type": "markdown",
   "metadata": {},
   "source": [
    "\n",
    "And standard errors SE"
   ]
  },
  {
   "cell_type": "code",
   "execution_count": 38,
   "metadata": {},
   "outputs": [],
   "source": [
    "# Standard Error of Proportions Calculations\n",
    "## Term 1\n",
    "se1 = (p1 * (1- p1))/n1\n",
    "\n",
    "## Term 2\n",
    "se2 = (p2 * (1- p2))/n2\n",
    "\n",
    "\n",
    "## Terms being squared for final result\n",
    "standardError = np.sqrt(se1 + se2)"
   ]
  },
  {
   "cell_type": "code",
   "execution_count": 39,
   "metadata": {},
   "outputs": [
    {
     "name": "stdout",
     "output_type": "stream",
     "text": [
      "Campaign PersonDoe-Campaign2019-1's CTR: 0.515 with Standard Error 0.000156109375.\n",
      "Campaign PersonDoe-Campaign2019-2's CTR: 0.5375 with Standard Error 0.00015537109375.\n",
      "\n"
     ]
    }
   ],
   "source": [
    "print(f'Campaign {campaign1.Campaign[0]}\\'s CTR: {round(p1,4)}' + f' with Standard Error {se1}.')\n",
    "print(f'Campaign {campaign2.Campaign[3]}\\'s CTR: {round(p2,4)}' + f' with Standard Error {se2}.\\n')\n"
   ]
  },
  {
   "cell_type": "code",
   "execution_count": 40,
   "metadata": {},
   "outputs": [
    {
     "name": "stdout",
     "output_type": "stream",
     "text": [
      "T Statistic: 1.27\n"
     ]
    }
   ],
   "source": [
    "# T test statistic\n",
    "\n",
    "tStatistic = (d - 0) / standardError\n",
    "print(f'T Statistic: {round(tStatistic, 2)}')"
   ]
  },
  {
   "cell_type": "markdown",
   "metadata": {},
   "source": [
    "Thereafter, we calculate or find our referred critical test statistic $t^*$, related to our problem statement.\n",
    "\n",
    "Lastly, a conclusion would be made for this specific test."
   ]
  },
  {
   "cell_type": "code",
   "execution_count": 41,
   "metadata": {},
   "outputs": [],
   "source": [
    "# Critical T Value Test Statistic\n",
    "criticalValue = scipy.stats.t.ppf(1.0 - alpha, df = (n1 + n2-2))\n",
    "\n",
    "\n",
    "# Confidence Interval\n",
    "confInt = [d - (criticalValue * standardError), d + (criticalValue * standardError)]\n",
    "\n",
    "#Two Sided P Value, P( |t| >= |t^*|)\n",
    "\n",
    "p_val = (1 - scipy.stats.t.cdf(abs(tStatistic), df \\\n",
    "                               = (n1 + n2-2)) ) * 2.0"
   ]
  },
  {
   "cell_type": "code",
   "execution_count": 42,
   "metadata": {},
   "outputs": [
    {
     "name": "stdout",
     "output_type": "stream",
     "text": [
      "Confidence Interval: [-0.00653811962315896, 0.05153811962315889]\n"
     ]
    }
   ],
   "source": [
    "print(f\"Confidence Interval: {confInt}\")"
   ]
  },
  {
   "cell_type": "code",
   "execution_count": 43,
   "metadata": {},
   "outputs": [
    {
     "name": "stdout",
     "output_type": "stream",
     "text": [
      "We have critical value t^* at 1.65\n",
      "and p-value of 0.2\n"
     ]
    }
   ],
   "source": [
    "print(f'We have critical value t^* at {round(criticalValue, 2)}\\nand p-value of {round(p_val, 2)}')"
   ]
  },
  {
   "cell_type": "markdown",
   "metadata": {},
   "source": [
    "## 3.5 Conclusions <span style='color:red'>*</span>"
   ]
  },
  {
   "cell_type": "markdown",
   "metadata": {},
   "source": [
    "If the calculated t-statistic $t$ > critical value $t^*$, then we reject the null hypothesis $H_0$, and accept the alternative hypothesis $H_1$. \n",
    "> Equivalently, if $p < \\alpha$, then we  reject the null hypothesis $H_0$. \n",
    "\n",
    "If not, then we fail to reject the null hypothesis $H_0$. "
   ]
  },
  {
   "cell_type": "code",
   "execution_count": 44,
   "metadata": {},
   "outputs": [
    {
     "name": "stdout",
     "output_type": "stream",
     "text": [
      "We fail to reject the Null Hypothesis H_0\n",
      "Therefore, we can say that there is no statistical significant difference between the two campaigns.\n"
     ]
    }
   ],
   "source": [
    "if p_val < alpha:\n",
    "    print(\"We reject the Null Hypothesis H_0\")\n",
    "    print(\"Therefore, we can say that there is a statistical difference between the two campaigns.\")\n",
    "\n",
    "else:\n",
    "    print(\"We fail to reject the Null Hypothesis H_0\")\n",
    "    print(\"Therefore, we can say that there is no statistical significant difference between the two campaigns.\")"
   ]
  },
  {
   "cell_type": "markdown",
   "metadata": {},
   "source": [
    "p value discussion\n",
    "\n",
    "practical significance\n",
    "\n",
    " you need to apply your subject area knowledge and expertise to determine whether the effect is big enough to be meaningful in the real world. In other words, is it large enough to care about?"
   ]
  },
  {
   "cell_type": "markdown",
   "metadata": {},
   "source": [
    "Note: it false because conditions other than large effect sizes can produce tiny p-values."
   ]
  },
  {
   "cell_type": "markdown",
   "metadata": {},
   "source": [
    "Here’s how small effect sizes can still produce tiny p-values:\n",
    "\n",
    "You have a very large sample size. As the sample size increases, the hypothesis test gains greater statistical power to detect small effects. With a large enough sample size, the hypothesis test can detect an effect that is so miniscule that it is meaningless in a practical sense.\n",
    "\n",
    "The sample variability is very low. When your sample data have low variability, hypothesis tests can produce more precise estimates of the population’s effect. This precision allows the test to detect tiny effects.\n",
    "\n",
    "Statistical significance indicates only that you have sufficient evidence to conclude that an effect exists. It is a mathematical definition that does not know anything about the subject area and what constitutes an important effect."
   ]
  },
  {
   "cell_type": "code",
   "execution_count": 64,
   "metadata": {},
   "outputs": [
    {
     "name": "stdout",
     "output_type": "stream",
     "text": [
      "Campaign PersonDoe-Campaign2019-1's CTR: 0.5 with Standard Error 0.00017857142857142857.\n",
      "Campaign PersonDoe-Campaign2019-2's CTR: 0.5436 with Standard Error 0.00017721537900874636.\n",
      "\n",
      "Confidence Interval [0.012535410853148295, 0.07460744628970889]\n",
      "T Statistic: 2.31\n",
      "We have critical value t^* at 1.65\n",
      "and p-value of 0.02\n",
      "Campaign PersonDoe-Campaign2019-1's CTR: 0.4864 with Standard Error 0.00017843986880466473.\n",
      "Campaign PersonDoe-Campaign2019-2's CTR: 0.5236 with Standard Error 0.00017817456268221575.\n",
      "\n",
      "Confidence Interval [0.006070762721637722, 0.06821495156407656]\n",
      "T Statistic: 1.97\n",
      "We have critical value t^* at 1.65\n",
      "and p-value of 0.05\n",
      "Campaign PersonDoe-Campaign2019-1's CTR: 0.5014 with Standard Error 0.00017856997084548105.\n",
      "Campaign PersonDoe-Campaign2019-2's CTR: 0.5371 with Standard Error 0.0001775860058309038.\n",
      "\n",
      "Confidence Interval [0.004662170479480709, 0.06676640094909068]\n",
      "T Statistic: 1.89\n",
      "We have critical value t^* at 1.65\n",
      "and p-value of 0.06\n"
     ]
    }
   ],
   "source": [
    "## Demo on P-Hacking\n",
    "# for i in range(3):\n",
    "#     expressCamp1, expressCamp2 = express_campaign_df_generator([campaign1_name,campaign2_name], \\\n",
    "#                               weightMatrix = [[.5, .5],[.53, .47]],\\\n",
    "#                              sample_size = 1400)\n",
    "#     ind_t_test(expressCamp1,expressCamp2, 0.05, output_bool=True)"
   ]
  },
  {
   "cell_type": "markdown",
   "metadata": {},
   "source": [
    "# 4.0 +More! [Optional]\n",
    "\n",
    "## 4.1 The Chai -err umm....Chi-Squared Test\n",
    "\n",
    "This test can equivalently be done by using another test framework & calculation. You can find the details of this example [in the Appendix section](#appendix-chi-square-test)."
   ]
  },
  {
   "cell_type": "code",
   "execution_count": 15,
   "metadata": {},
   "outputs": [],
   "source": [
    "# df = [ [campaign1_Df['Clicks'].sum(), campaign1_Df['Impressions'].sum()- campaign1_Df['Clicks'].sum(),campaign1_Df['Impressions'].sum()], \\\n",
    "#       [campaign2_Df['Clicks'].sum(), campaign2_Df['Impressions'].sum() -campaign2_Df['Clicks'].sum(), campaign2_Df['Impressions'].sum()] ]"
   ]
  },
  {
   "cell_type": "code",
   "execution_count": 16,
   "metadata": {},
   "outputs": [],
   "source": [
    "# from scipy import stats\n",
    "\n",
    "# twoByTwo_df = pd.DataFrame(df,index=['Campaign 1', 'Campaign 2'] ,columns=['Clicks','No Clicks','Impressions'])\n",
    "# # stats.chi2_contingency(twoByTwo_df)"
   ]
  },
  {
   "cell_type": "code",
   "execution_count": 17,
   "metadata": {},
   "outputs": [],
   "source": [
    "# twoByTwo_df"
   ]
  },
  {
   "cell_type": "code",
   "execution_count": 18,
   "metadata": {},
   "outputs": [],
   "source": [
    "# expectedClicksSeries = (twoByTwo_df['Impressions']/twoByTwo_df['Impressions'].sum()) * twoByTwo_df['Clicks'].sum() \n",
    "\n",
    "# expectedNonClicksSeries = (twoByTwo_df['Impressions']/twoByTwo_df['Impressions'].sum()) * twoByTwo_df['No Clicks'].sum() \n",
    "\n",
    "# expectedDf = pd.concat([expectedClicksSeries,expectedNonClicksSeries],axis=1)"
   ]
  },
  {
   "cell_type": "code",
   "execution_count": 19,
   "metadata": {},
   "outputs": [],
   "source": [
    "# expectedDf.columns =['Clicks', 'No Clicks']\n",
    "# expectedDf\n"
   ]
  },
  {
   "cell_type": "code",
   "execution_count": 20,
   "metadata": {},
   "outputs": [],
   "source": [
    "# chiSquareStatistic = ((twoByTwo_df[['Clicks','No Clicks']]-expectedDf)**2 / expectedDf).values.sum()"
   ]
  },
  {
   "cell_type": "code",
   "execution_count": 21,
   "metadata": {},
   "outputs": [],
   "source": [
    "# ((twoByTwo_df[['Clicks','No Clicks']]-expectedDf)**2 / expectedDf).values.sum()"
   ]
  },
  {
   "cell_type": "code",
   "execution_count": 22,
   "metadata": {},
   "outputs": [],
   "source": [
    "# chiSquareStat, pVal, dof, expected = stats.chi2_contingency(twoByTwo_df)\n",
    "\n",
    "# print('Expected Table: \\n',expected,'\\n')\n",
    "\n",
    "# # interpret test-statistic\n",
    "# prob = 0.95\n",
    "# alpha = 1.0 - prob\n",
    "\n",
    "# criticalVal = stats.chi2.ppf(prob, dof)\n",
    "\n",
    "# print(f'Degrees of Freedom: {dof}\\n')\n",
    "# print('probability=%.2f, critical=%.2f, stat=%.2f \\n' % (prob, criticalVal, alpha))\n",
    "\n",
    "# print('Decision:')\n",
    "# print(f'For significance level {round(alpha,2)},\\n')\n",
    "# if abs(chiSquareStat) >= criticalVal:\n",
    "#     print('We reject the Null Hypothesis, H_0\\n')\n",
    "#     print(f'for p = {prob} >= {criticalVal}.')\n",
    "# else:\n",
    "#     print('We fail to reject the Null Hypothesis, H_0\\n')\n",
    "#     print(f'for p = {prob} < {criticalVal}.')\n",
    "\n",
    "    \n",
    "# ### Alternatively can say:    \n",
    "# # if p <= alpha:\n",
    "# #     print('We reject the Null Hypothesis, H_0.')\n",
    "# #     print(f'for p = {p} >= {alpha}.')\n",
    "\n",
    "# # else:\n",
    "# #     print('We fail to reject the Null Hypothesis, H_0.')\n",
    "# #     print(f'for p = {p} < {alpha}.')"
   ]
  },
  {
   "cell_type": "markdown",
   "metadata": {},
   "source": [
    "# 5.0 Remarks & Random Notes"
   ]
  },
  {
   "cell_type": "markdown",
   "metadata": {},
   "source": [
    "Prerequisite knowledge: Central Limit Theorem\n",
    "The Central Limit Theorem (CLT) implies a sample of independent random variables, their sums tends towards to a normal distribution even if the original variables themselves aren't normally distributed, also the sample mean tends towards to a normal distribution (sum and mean are equivalent)."
   ]
  },
  {
   "cell_type": "markdown",
   "metadata": {},
   "source": [
    "\n",
    "\n",
    "## 5.1 Chi Square Testing\n",
    "\n",
    "* Chi-Square Goodness of Fit Test\n",
    "    * $\\chi^2$ Test that determines if a sample data matches a population. For more details on this type, see: Goodness of Fit Test.\n",
    "\n",
    "* Chi-Square Test for Independence\n",
    "\n",
    "    * $\\chi^2$ Test that compares two variables in a contingency table to see if they are related. In a more general sense, it tests to see whether distributions of categorical variables differ from each another.\n",
    "    \n",
    "> Note: Chi Square is cool because it works with more than 2 samples\n",
    "\n",
    "> Note: If we have a  small sample size, then Chi Square may have more errors, and thus one would have to work with a Fischer's Exact Test\n",
    "\n",
    "## 5.2 Testing considerations\n",
    "\n",
    "* Ethics\n",
    "    * Risk, Benefits, and Privacy for participants\n",
    "    \n",
    "* Hyperfocusing on specific metric selections, rather than macro ones. (e.g. Wanting to increase Revenue is a goal, but what is the specific issue that you are tackling, to downstream speaking increase that)\n",
    "\n",
    "* If you test on a smaller sample, realize test will have lower power, and thus is constrainted for detecting larger impacts \n",
    "\n",
    "* Keep in mind\n",
    "    * when is the best time to run the experiment (e.g. running on Holidays, weekends?)\n",
    "    * If there is a new change, there may be a learning effect, and then behaviour can become stable again (leading to a false positive)\n",
    "        * Recommendation to avoid a Learning Effect is running experiment on smaller group of users, for longer period of time.\n",
    "* Mind the possibility of the Simpson's Paradox\n",
    "    * Segmentation of groups in thus reducing sampling creates significance, but not from other groups from data before segmentation. Best way to validate this doesn't exist is to do the same test for combined groups.\n",
    "        * E.g. Splitting between new users and existing users\n",
    "* $\\alpha$ percent of the time, you'll reach significance due to chance \n",
    "    * You are running a tests with 20 variants, and you test each hypothesis separately:\n",
    "        * P(one significant result) = 1−P(no significant results) \n",
    "        * P(one significant result) = 1−(1−0.05)^20 = 0.64\n",
    "    * Avoid this by the Bonferroni Correction\n",
    "    \n",
    "* Novelty Effect or Change Aversion: cohort analysis may be helpful.\n",
    "\n",
    "\n",
    "\n",
    "> Note: Individuals will proceed to perform an A/B test from code. Though note there exists **proprietary** A/B testing solutions like [Optimizely](https://www.optimizely.com/), [VWO](https://vwo.com/campaign/get-started/?utm_source=google&utm_medium=paid&utm_campaign=mof_search_brand_vwo_brand&utm_content=308583203468&utm_term=vwo&gclid=Cj0KCQjwv8nqBRDGARIsAHfR9wD7uaDnZRUDFKrXDtcn8jCv4v_dNhSRxzWsddKQAo0WuREO4phZ1PQaAopsEALw_wcB), [AB Tasty](https://www.abtasty.com/), [Google Optimize](https://optimize.google.com/optimize/home/), etc."
   ]
  },
  {
   "cell_type": "markdown",
   "metadata": {},
   "source": [
    "<a id='appendix'></a>\n",
    "\n",
    "## 5.3 Appendix"
   ]
  },
  {
   "cell_type": "markdown",
   "metadata": {},
   "source": [
    "### P-Hacking\n"
   ]
  },
  {
   "cell_type": "markdown",
   "metadata": {},
   "source": [
    "### Tukey's Range Test (Optional) [WIP]"
   ]
  },
  {
   "cell_type": "markdown",
   "metadata": {},
   "source": [
    "### 5.3.1 Data Collection Section"
   ]
  },
  {
   "cell_type": "markdown",
   "metadata": {},
   "source": [
    "#### 5.3.1.1 Uniform Distribution"
   ]
  },
  {
   "cell_type": "code",
   "execution_count": 20,
   "metadata": {},
   "outputs": [],
   "source": [
    "n = 400\n",
    "uniformDist = np.random.rand(n)\n",
    "# [0.0, 1.0) distribution set"
   ]
  },
  {
   "cell_type": "code",
   "execution_count": 27,
   "metadata": {},
   "outputs": [
    {
     "name": "stdout",
     "output_type": "stream",
     "text": [
      "[0.03403842 0.84005661 0.5416037  0.15702651]\n"
     ]
    }
   ],
   "source": [
    "print(uniformDist[:4])"
   ]
  },
  {
   "cell_type": "code",
   "execution_count": 23,
   "metadata": {},
   "outputs": [
    {
     "data": {
      "image/png": "[encoded data removed]",
      "text/plain": [
       "<Figure size 432x288 with 1 Axes>"
      ]
     },
     "metadata": {
      "needs_background": "light"
     },
     "output_type": "display_data"
    }
   ],
   "source": [
    "plt.hist(uniformDist)\n",
    "plt.title(f'Uniform Distribution of Sample Size {n}')\n",
    "plt.xlabel('Frequency')\n",
    "plt.xlabel('Value Range')\n",
    "plt.show()"
   ]
  },
  {
   "cell_type": "markdown",
   "metadata": {},
   "source": [
    "#### 5.3.1.2 Standard Normal Distribution"
   ]
  },
  {
   "cell_type": "code",
   "execution_count": 26,
   "metadata": {},
   "outputs": [
    {
     "data": {
      "image/png": "[encoded data removed]",
      "text/plain": [
       "<Figure size 432x288 with 1 Axes>"
      ]
     },
     "metadata": {
      "needs_background": "light"
     },
     "output_type": "display_data"
    }
   ],
   "source": [
    "normalDist = np.random.randn(n)\n",
    "# Mean 0 and Variance 1 Distribution Set\n",
    "print(uniformDist[:4])\n",
    "\n",
    "plt.hist(normalDist)\n",
    "plt.title(f'Standard Normal Distribution of Sample Size {n}')\n",
    "plt.xlabel('Frequency')\n",
    "plt.xlabel('Value Range')\n",
    "plt.show()"
   ]
  },
  {
   "cell_type": "markdown",
   "metadata": {},
   "source": [
    "#### 5.3.2.2 Proportion: Normal Approximation\n",
    "\n",
    "For large values of n, the distributions of the count $X$ and the sample proportion are approximately normal due to the Central Limit Theorem, as it approximates the normal distribution like \n",
    "\n",
    "$\\bar{X}$ ~ $N(\\tfrac{np}{p},\\tfrac{np(1-p)}{n^2}) = N(n, \\tfrac{p(1-p)}{n})$"
   ]
  },
  {
   "cell_type": "markdown",
   "metadata": {},
   "source": [
    "<a id='appendix-chi-square-test'></a>\n",
    "\n",
    "### Chi Square Test (Optional)\n",
    "Equivalently, we can use a similiar process and test statistic in evaluation of proportions. \n",
    "\n",
    "Let us have a 2x2 frequency table where columns are two groups of respondents and rows are the two responses \"successes\" and \"failures\". \n",
    "\n",
    "\n",
    "|    _    | Clicks | No Clicks | Total (Impressions) |\n",
    "|--------|--------|-------------|-----|\n",
    "| Test 1 | X_1    | Y_1         | X_1 + Y_1  | \n",
    "| Test 2 | X_2    | Y_2         | X_2 + Y_2   |\n",
    "| Total  | x      | x           | x   | "
   ]
  },
  {
   "cell_type": "markdown",
   "metadata": {},
   "source": [
    "Then we can provide an equivalent A/B test for the upcoming CTR metric as followed:\n",
    "\n",
    "\n",
    "State the Hypothesis:\n",
    "\n",
    "$H_0: \\bar{p_1} - \\bar{p_2} = 0$ (Independent)\n",
    "\n",
    "$H_1: \\bar{p_1} - \\bar{p_2} \\neq 0$ (Not Independent)\n",
    "\n",
    "DF = $(x_1 - 1) * (x_2 - 1)$\n",
    "\n",
    "Test Statistic:\n",
    "\n",
    "$\\chi^2= \\tfrac{(O-E)^2}{E}$, \n",
    "\n",
    "where $O$ are the Observed values and $E$ are the Expected values.\n",
    "\n",
    "> Note:\n",
    "Expected values are calculated as such:\n",
    "> For the top left region, it would be $\\tfrac{( x_{Clicks} * (X_1 + Y_1)}{x_T }$\n",
    "\n",
    "|    _    | Clicks | No Clicks | Total (Impressions) |\n",
    "|--------|--------|-------------|-----|\n",
    "| Test 1 | $Y_1$    | $Y_1$         | $X_1 + Y_1$  | \n",
    "| Test 2 | $X_2 $   | $Y_2 $        | $X_2 + Y_2 $  |\n",
    "| Total  | $x_{Clicks}$      | $x_{No Clicks}$        | $x_T$   | "
   ]
  },
  {
   "cell_type": "markdown",
   "metadata": {},
   "source": [
    "### 5.3.3 Data Collection Section\n",
    "\n",
    "#### 5.3.3.1 Basesline Conversion Rate\n",
    "\n",
    "Known in conversion-related AB testing calcilatsion, **baseline conversion rate** is the current conversion rate for the variant you’re testing.\n",
    "\n",
    "> Conversion rate is the number of conversions divided by the total number of visitors."
   ]
  },
  {
   "cell_type": "markdown",
   "metadata": {},
   "source": [
    "## Definitions & Terminology\n",
    "\n",
    "* Null Hypothesis\n",
    "\n",
    "\n",
    "* Alternative Hypthesis\n",
    "\n",
    "\n",
    "![Null Hypothesis Comment](../Resources/Images/null_hypothesis_xkcd.png)\n",
    "\n",
    "[Source](https://xkcd.com/892/)\n",
    "\n",
    "* \"Test of Proportion\" is also seen as the 2-sample independent t-test\n",
    "\n",
    "* Standard Deviation\n",
    "\n",
    "* Mean \n",
    "\n",
    "* Variance\n",
    "\n",
    "* Bi-modal\n",
    "\n",
    "* Signifiance\n",
    "\n",
    "* P-value\n",
    "\n",
    "* Chi = $\\chi^2$\n",
    "\n",
    "* Central Limit Theorem: Sample of independent random variables from an unknown population that is non-normal. This sample's mean tends towards to a normal distribution, as the size $n$ becomes larger\n",
    "\n",
    "* Normal\n",
    "\n",
    "* Standard Normal"
   ]
  },
  {
   "cell_type": "markdown",
   "metadata": {},
   "source": [
    "# 6.0 Resources\n",
    "\n",
    "* https://byrony.github.io/understanding-ab-testing-and-statistics-behind.html\n",
    "    \n",
    "* https://www.dataquest.io/blog/a-b-testing-the-definitive-guide-to-improving-your-product/\n",
    "\n",
    "* https://docs.google.com/presentation/d/1k_zR5IkHaIpA6fbTDoa48Gh_LodY7Mjbf56zLro5Uus/edit#slide=id.g31d3c8507d_0_177\n",
    "        \n",
    "        \n",
    "* https://stats.stackexchange.com/questions/76875/what-is-the-difference-between-mcnemars-test-and-the-chi-squared-test-and-how/141450#141450"
   ]
  }
 ],
 "metadata": {
  "kernelspec": {
   "display_name": "Python (DataScienceKernel)",
   "language": "python",
   "name": "datasciencekernel"
  },
  "language_info": {
   "codemirror_mode": {
    "name": "ipython",
    "version": 3
   },
   "file_extension": ".py",
   "mimetype": "text/x-python",
   "name": "python",
   "nbconvert_exporter": "python",
   "pygments_lexer": "ipython3",
   "version": "3.7.2"
  }
 },
 "nbformat": 4,
 "nbformat_minor": 2
}
