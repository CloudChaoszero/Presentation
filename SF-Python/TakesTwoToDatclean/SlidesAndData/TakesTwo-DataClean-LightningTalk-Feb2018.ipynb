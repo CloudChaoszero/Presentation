{
 "cells": [
  {
   "cell_type": "markdown",
   "metadata": {
    "nbpresent": {
     "id": "e49744c4-d569-4500-abcc-1ae4aef62b8c"
    },
    "slideshow": {
     "slide_type": "slide"
    }
   },
   "source": [
    "# Takes two to Data Clean\n",
    "\n",
    "by [Raul Maldonado](https://www.linkedin.com/in/raulm8/)"
   ]
  },
  {
   "cell_type": "markdown",
   "metadata": {
    "nbpresent": {
     "id": "7365aeaa-4460-48a3-a223-4cc181e31e6f"
    },
    "slideshow": {
     "slide_type": "slide"
    }
   },
   "source": [
    "## <center>Have You Asked This Question Before?</center>\n",
    "\n",
    "1. Why does my forecasting model underperform from expected test results? \n",
    "\n",
    "2. What's this random  <font color = \"red\">TypeError: Can't convert 'bytes' object to str implicitly</font> error I keep seeing?\n",
    "\n",
    "3. Why didn't my workflow fire? or WHY THE HECK DID MY WORFLOW FIRE?\n",
    "\n",
    "4. What in the heck is this **nÃ„Ã–ÃœÃ¤Ã¶Ã¼ÃŸ**?\n",
    "\n",
    "\n",
    "It's not you, it's the data---or you too. Regardless, it's time to do some \"spring cleaning!\"\n"
   ]
  },
  {
   "cell_type": "markdown",
   "metadata": {
    "nbpresent": {
     "id": "7ae3110d-9d37-4f67-b848-5660a0239024"
    },
    "slideshow": {
     "slide_type": "slide"
    }
   },
   "source": [
    "## <center>You, Yourself, and Data</center>\n",
    "\n",
    "I can discuss what Data Cleaning is and how it is important, but I will not do that. Rather, I would like to present some approaches to keep in mind as you clean production information originating through data wrangling or had delivered through some data vendor. \n",
    "\n",
    "Coming into data cleaning, you may not only need your team, but you need two perspectives of the data cleaning process. Data professionals must have **business/domain** knowledge and **technical** knowledge.\n"
   ]
  },
  {
   "cell_type": "markdown",
   "metadata": {
    "nbpresent": {
     "id": "a6318909-1a2b-4365-84c6-a4403d6bec92"
    },
    "slideshow": {
     "slide_type": "slide"
    }
   },
   "source": [
    "## <center> Well, That's Trivial </center>\n",
    "\n",
    "You may think having business and technical knowledge may be trivial, but let's consider some of the issues from our questions earlier:"
   ]
  },
  {
   "cell_type": "markdown",
   "metadata": {
    "nbpresent": {
     "id": "74b32b99-5aa4-47d9-9a58-520bcd14377c"
    },
    "slideshow": {
     "slide_type": "slide"
    }
   },
   "source": [
    "### 1. Why does my forecasting model underperform from expected test results? "
   ]
  },
  {
   "cell_type": "code",
   "execution_count": 1,
   "metadata": {
    "nbpresent": {
     "id": "866868ab-c300-4984-afc4-3cb64f4091e0"
    },
    "slideshow": {
     "slide_type": "fragment"
    }
   },
   "outputs": [
    {
     "name": "stdout",
     "output_type": "stream",
     "text": [
      "6    1\n",
      "Name: ACTIVE_TWITTER_LAST_YEAR, dtype: int64\n",
      "6    0\n",
      "Name: ACTIVE_TWITTER_LAST_YEAR, dtype: int64\n"
     ]
    }
   ],
   "source": [
    "import pandas as pd\n",
    "import numpy as np\n",
    "import matplotlib.pyplot as plt\n",
    "import datetime\n",
    "import sklearn as sk\n",
    "from sklearn import datasets, linear_model\n",
    "from sklearn.linear_model import LinearRegression\n",
    "#Import Same datasets for both bad and good NBA information\n",
    "nba_df = pd.read_csv(\"nba_2016_2017_playerData.csv\")\n",
    "nba_df_actual = pd.read_csv(\"nba_2016_2017_playerData.csv\")\n",
    "\n",
    "#Is Lebron James and Active Twitter User?\n",
    "print(nba_df[nba_df[\"PLAYER_NAME\"]==\"LeBron James\"][\"ACTIVE_TWITTER_LAST_YEAR\"])\n",
    "\n",
    "#Respectively change \"Active Twitter Last Year\"\n",
    "#Variable to False for Lebron James, Russel WestBrook,\n",
    "#Kevin Durant, and Anthony Davis,\n",
    "nba_df.loc[6,\"ACTIVE_TWITTER_LAST_YEAR\"] = 0\n",
    "nba_df.loc[0,\"ACTIVE_TWITTER_LAST_YEAR\"] = 0\n",
    "nba_df.loc[3,\"ACTIVE_TWITTER_LAST_YEAR\"] = 0\n",
    "nba_df.loc[5,\"ACTIVE_TWITTER_LAST_YEAR\"] = 0\n",
    "\n",
    "#Confirmation of altering information\n",
    "print(nba_df[nba_df[\"PLAYER_NAME\"]==\"LeBron James\"][\"ACTIVE_TWITTER_LAST_YEAR\"])\n",
    "\n",
    "#Feature and Target selections for Linear Regression\n",
    "features_cols = [\"PTS\",\"W\",\"SALARY_MILLIONS\",\"OFF_RATING\",\"MIN\",\"ACTIVE_TWITTER_LAST_YEAR\"]\n",
    "target_col = [\"TWITTER_FOLLOWER_COUNT_MILLIONS\"]"
   ]
  },
  {
   "cell_type": "code",
   "execution_count": 2,
   "metadata": {
    "nbpresent": {
     "id": "a2aed749-b40d-4e86-ab5b-d0922e9029a1"
    },
    "slideshow": {
     "slide_type": "subslide"
    }
   },
   "outputs": [
    {
     "data": {
      "image/png": "[encoded data removed]",
      "text/plain": [
       "<matplotlib.figure.Figure at 0x26d5c7fbda0>"
      ]
     },
     "metadata": {},
     "output_type": "display_data"
    }
   ],
   "source": [
    "#Scenario 1 (misinformation)\n",
    "nba_df_features = nba_df[features_cols]\n",
    "nba_df_targets = nba_df[target_col]\n",
    "lm = LinearRegression()\n",
    "lm.fit(nba_df_features,nba_df_targets)\n",
    "#print(\"Model Intercept: \",lm.intercept_, \"\\nAnd Model Coefficients: \",lm.coef_)\n",
    "\n",
    "lsa = list(nba_df_features.columns)\n",
    "main_list = []\n",
    "for i in range(len(lsa)):\n",
    "    main_list.append([lsa[i], lm.coef_[0][i]])\n",
    "analysis = pd.DataFrame(main_list,columns = [\"features\",\"estimatedCoefficients\"])\n",
    "\n",
    "plt.scatter(nba_df[\"ACTIVE_TWITTER_LAST_YEAR\"],nba_df[\"TWITTER_FOLLOWER_COUNT_MILLIONS\"])\n",
    "plt.title(\"Active Twitter Users Last Year vs. Twitter Followers (Millions)\")\n",
    "plt.xticks([0,1])\n",
    "plt.show()"
   ]
  },
  {
   "cell_type": "code",
   "execution_count": 3,
   "metadata": {
    "nbpresent": {
     "id": "70621f40-ddae-4b3a-bd08-ce7a02dcc51f"
    },
    "slideshow": {
     "slide_type": "slide"
    }
   },
   "outputs": [
    {
     "data": {
      "image/png": "[encoded data removed]",
      "text/plain": [
       "<matplotlib.figure.Figure at 0x26d5c7fbbe0>"
      ]
     },
     "metadata": {},
     "output_type": "display_data"
    }
   ],
   "source": [
    "#Scenario 2 (Correct information)\n",
    "nba_df_features_act = nba_df_actual[features_cols]\n",
    "nba_df_targets_act = nba_df_actual[target_col]\n",
    "lm = LinearRegression()\n",
    "lm.fit(nba_df_features_act,nba_df_targets_act)\n",
    "#print(\"Model Intercept: \",lm.intercept_, \"\\nAnd Model Coefficients: \",lm.coef_)\n",
    "\n",
    "lsa = list(nba_df_features.columns)\n",
    "main_list = []\n",
    "for i in range(len(lsa)):\n",
    "    main_list.append([lsa[i], lm.coef_[0][i]])\n",
    "analysis = pd.DataFrame(main_list,columns = [\"features\",\"estimatedCoefficients\"])\n",
    "\n",
    "plt.scatter(nba_df_actual[\"ACTIVE_TWITTER_LAST_YEAR\"],nba_df_actual[\"TWITTER_FOLLOWER_COUNT_MILLIONS\"])\n",
    "plt.title(\"Active Twitter Users Last Year vs. Twitter Followers (Millions) [Correct]\")\n",
    "plt.xticks([0,1])\n",
    "plt.show()"
   ]
  },
  {
   "cell_type": "markdown",
   "metadata": {
    "nbpresent": {
     "id": "147b2c26-1def-4eaf-998c-7107696cc717"
    },
    "slideshow": {
     "slide_type": "fragment"
    }
   },
   "source": [
    "**First Model (Incorrection Information):**\n",
    "\n",
    "$y = -13.0449 + {0.07678}{x_1} +{0.01388}{x_2}+{0.18488792}{x_3}+{0.14309988}{x_4}-{0.08190133}{x_5}-{2.69398}{x_6}$ for $ x_i \\in \\text{Features where } i ={1,2,3,4,5,6}$\n",
    "\n",
    "**Second Model (Correct Information):**\n",
    "\n",
    "$y = -13.0449 + {0.1568}{x_1} +{0.01741}{x_2}+{0.2257}{x_3}+{0.1188}{x_4}-{0.1615}{x_5}+{2.05337}{x_6}$ for $ x_i \\in \\text{Features where } i ={1,2,3,4,5,6}$"
   ]
  },
  {
   "cell_type": "markdown",
   "metadata": {
    "nbpresent": {
     "id": "eabe9ec9-7b79-40b2-ab98-188706ddf78a"
    },
    "slideshow": {
     "slide_type": "slide"
    }
   },
   "source": [
    "\n",
    "### 2.Values Means"
   ]
  },
  {
   "cell_type": "code",
   "execution_count": 4,
   "metadata": {
    "nbpresent": {
     "id": "ec54f91b-2425-4625-adf9-339953b01a34"
    },
    "slideshow": {
     "slide_type": "subslide"
    }
   },
   "outputs": [
    {
     "data": {
      "text/html": [
       "<div>\n",
       "<style>\n",
       "    .dataframe thead tr:only-child th {\n",
       "        text-align: right;\n",
       "    }\n",
       "\n",
       "    .dataframe thead th {\n",
       "        text-align: left;\n",
       "    }\n",
       "\n",
       "    .dataframe tbody tr th {\n",
       "        vertical-align: top;\n",
       "    }\n",
       "</style>\n",
       "<table border=\"1\" class=\"dataframe\">\n",
       "  <thead>\n",
       "    <tr style=\"text-align: right;\">\n",
       "      <th></th>\n",
       "      <th>video_id</th>\n",
       "      <th>trending_date</th>\n",
       "      <th>title</th>\n",
       "      <th>channel_title</th>\n",
       "      <th>category_id</th>\n",
       "      <th>publish_time</th>\n",
       "      <th>tags</th>\n",
       "      <th>views</th>\n",
       "      <th>likes</th>\n",
       "      <th>dislikes</th>\n",
       "      <th>...</th>\n",
       "      <th>thumbnail_link</th>\n",
       "      <th>comments_disabled</th>\n",
       "      <th>ratings_disabled</th>\n",
       "      <th>video_error_or_removed</th>\n",
       "      <th>description</th>\n",
       "      <th>Country</th>\n",
       "      <th>likes_prop</th>\n",
       "      <th>dislikes_prop</th>\n",
       "      <th>like_ratio</th>\n",
       "      <th>category_name</th>\n",
       "    </tr>\n",
       "  </thead>\n",
       "  <tbody>\n",
       "    <tr>\n",
       "      <th>817</th>\n",
       "      <td>_9YMpuLDnwo</td>\n",
       "      <td>2017-12-05</td>\n",
       "      <td>42 HOLY GRAIL HACKS THAT WILL SAVE YOU A FORTUNE</td>\n",
       "      <td>5-Minute Crafts</td>\n",
       "      <td>26.0</td>\n",
       "      <td>2017-12-03T08:30:00.000Z</td>\n",
       "      <td>5-Minute Crafts|\"DIY\"|\"Do it yourself\"|\"crafts...</td>\n",
       "      <td>10883016.0</td>\n",
       "      <td>100510.0</td>\n",
       "      <td>21627.0</td>\n",
       "      <td>...</td>\n",
       "      <td>https://i.ytimg.com/vi/_9YMpuLDnwo/default.jpg</td>\n",
       "      <td>False</td>\n",
       "      <td>False</td>\n",
       "      <td>False</td>\n",
       "      <td>Subscribe to 5-Minute Crafts KIDS: https://goo...</td>\n",
       "      <td>DE</td>\n",
       "      <td>0.822928</td>\n",
       "      <td>0.177072</td>\n",
       "      <td>4.647431</td>\n",
       "      <td>Howto &amp; Style</td>\n",
       "    </tr>\n",
       "    <tr>\n",
       "      <th>818</th>\n",
       "      <td>_9YMpuLDnwo</td>\n",
       "      <td>2017-12-05</td>\n",
       "      <td>42 HOLY GRAIL HACKS THAT WILL SAVE YOU A FORTUNE</td>\n",
       "      <td>5-Minute Crafts</td>\n",
       "      <td>26.0</td>\n",
       "      <td>2017-12-03T08:30:00.000Z</td>\n",
       "      <td>5-Minute Crafts|\"DIY\"|\"Do it yourself\"|\"crafts...</td>\n",
       "      <td>10883016.0</td>\n",
       "      <td>100510.0</td>\n",
       "      <td>21627.0</td>\n",
       "      <td>...</td>\n",
       "      <td>https://i.ytimg.com/vi/_9YMpuLDnwo/default.jpg</td>\n",
       "      <td>False</td>\n",
       "      <td>False</td>\n",
       "      <td>False</td>\n",
       "      <td>Subscribe to 5-Minute Crafts KIDS: https://goo...</td>\n",
       "      <td>FR</td>\n",
       "      <td>0.822928</td>\n",
       "      <td>0.177072</td>\n",
       "      <td>4.647431</td>\n",
       "      <td>Howto &amp; Style</td>\n",
       "    </tr>\n",
       "    <tr>\n",
       "      <th>819</th>\n",
       "      <td>_9YMpuLDnwo</td>\n",
       "      <td>2017-12-11</td>\n",
       "      <td>42 HOLY GRAIL HACKS THAT WILL SAVE YOU A FORTUNE</td>\n",
       "      <td>5-Minute Crafts</td>\n",
       "      <td>26.0</td>\n",
       "      <td>2017-12-03T08:30:00.000Z</td>\n",
       "      <td>5-Minute Crafts|\"DIY\"|\"Do it yourself\"|\"crafts...</td>\n",
       "      <td>54155921.0</td>\n",
       "      <td>378111.0</td>\n",
       "      <td>66632.0</td>\n",
       "      <td>...</td>\n",
       "      <td>https://i.ytimg.com/vi/_9YMpuLDnwo/default.jpg</td>\n",
       "      <td>False</td>\n",
       "      <td>False</td>\n",
       "      <td>False</td>\n",
       "      <td>Subscribe to 5-Minute Crafts KIDS: https://goo...</td>\n",
       "      <td>USA</td>\n",
       "      <td>0.850179</td>\n",
       "      <td>0.149821</td>\n",
       "      <td>5.674616</td>\n",
       "      <td>Howto &amp; Style</td>\n",
       "    </tr>\n",
       "  </tbody>\n",
       "</table>\n",
       "<p>3 rows × 21 columns</p>\n",
       "</div>"
      ],
      "text/plain": [
       "        video_id trending_date  \\\n",
       "817  _9YMpuLDnwo    2017-12-05   \n",
       "818  _9YMpuLDnwo    2017-12-05   \n",
       "819  _9YMpuLDnwo    2017-12-11   \n",
       "\n",
       "                                                title    channel_title  \\\n",
       "817  42 HOLY GRAIL HACKS THAT WILL SAVE YOU A FORTUNE  5-Minute Crafts   \n",
       "818  42 HOLY GRAIL HACKS THAT WILL SAVE YOU A FORTUNE  5-Minute Crafts   \n",
       "819  42 HOLY GRAIL HACKS THAT WILL SAVE YOU A FORTUNE  5-Minute Crafts   \n",
       "\n",
       "     category_id              publish_time  \\\n",
       "817         26.0  2017-12-03T08:30:00.000Z   \n",
       "818         26.0  2017-12-03T08:30:00.000Z   \n",
       "819         26.0  2017-12-03T08:30:00.000Z   \n",
       "\n",
       "                                                  tags       views     likes  \\\n",
       "817  5-Minute Crafts|\"DIY\"|\"Do it yourself\"|\"crafts...  10883016.0  100510.0   \n",
       "818  5-Minute Crafts|\"DIY\"|\"Do it yourself\"|\"crafts...  10883016.0  100510.0   \n",
       "819  5-Minute Crafts|\"DIY\"|\"Do it yourself\"|\"crafts...  54155921.0  378111.0   \n",
       "\n",
       "     dislikes       ...                                        thumbnail_link  \\\n",
       "817   21627.0       ...        https://i.ytimg.com/vi/_9YMpuLDnwo/default.jpg   \n",
       "818   21627.0       ...        https://i.ytimg.com/vi/_9YMpuLDnwo/default.jpg   \n",
       "819   66632.0       ...        https://i.ytimg.com/vi/_9YMpuLDnwo/default.jpg   \n",
       "\n",
       "    comments_disabled ratings_disabled video_error_or_removed  \\\n",
       "817             False            False                  False   \n",
       "818             False            False                  False   \n",
       "819             False            False                  False   \n",
       "\n",
       "                                           description Country likes_prop  \\\n",
       "817  Subscribe to 5-Minute Crafts KIDS: https://goo...      DE   0.822928   \n",
       "818  Subscribe to 5-Minute Crafts KIDS: https://goo...      FR   0.822928   \n",
       "819  Subscribe to 5-Minute Crafts KIDS: https://goo...     USA   0.850179   \n",
       "\n",
       "     dislikes_prop  like_ratio   category_name  \n",
       "817       0.177072    4.647431   Howto & Style  \n",
       "818       0.177072    4.647431   Howto & Style  \n",
       "819       0.149821    5.674616   Howto & Style  \n",
       "\n",
       "[3 rows x 21 columns]"
      ]
     },
     "execution_count": 4,
     "metadata": {},
     "output_type": "execute_result"
    }
   ],
   "source": [
    "df_valueEval = pd.read_csv(\"youtubeVid_mainSubset_corrupt1.csv\")\n",
    "df_valueEval[df_valueEval[\"channel_title\"]==\"5-Minute Crafts\"].tail(3)"
   ]
  },
  {
   "cell_type": "code",
   "execution_count": 5,
   "metadata": {
    "nbpresent": {
     "id": "db3b0340-8277-4992-8f2b-13e7df0a0c45"
    },
    "slideshow": {
     "slide_type": "fragment"
    }
   },
   "outputs": [
    {
     "data": {
      "text/plain": [
       "186229186.0"
      ]
     },
     "execution_count": 5,
     "metadata": {},
     "output_type": "execute_result"
    }
   ],
   "source": [
    "df_valueEval[df_valueEval[\"channel_title\"]==\"5-Minute Crafts\"][\"views\"].sum()"
   ]
  },
  {
   "cell_type": "markdown",
   "metadata": {
    "nbpresent": {
     "id": "ac8d4770-5ba1-476a-b583-8cdbd0fc1dfb"
    },
    "slideshow": {
     "slide_type": "slide"
    }
   },
   "source": [
    "\n",
    "### 3. Why didn't my workflow fire? or WHY THE HECK DID MY WORFLOW FIRE?\n",
    "\n",
    "Within Customer Relationship Management (CRM) systems, typcially dynamic workflows, processes, and other logic are the root of dirty and unclear data. This is one of the main reasons why CRM tends to has its disadvantage; this is not a system failure, it's a management one. Cleaning data is not easy, it takes time and dedication but it's highly doable in a structured way and one of the most important things you can do.\n",
    "\n",
    "![WorkflowCeption](workflow-image.jpg)\n",
    "\n",
    "\n",
    "Measures to avoid bad data within CRMS, say Salesforce, are:\n",
    "\n",
    "1. Correct management with Validation Rules for data entry\n",
    "\n",
    "2. Logical Workflow rules that ensure quality information and/or updates through mising information through a Sales Process.\n",
    "    \n",
    "    a. As an example, a Workflow Rule could update some additional custom billing information when an Opportunity is \"Closed Won\"\n",
    "\n",
    "3. Additional Apps through AppExchange\n",
    "    \n",
    "    a. [Dupecatcher](https://appexchange.salesforce.com/listingDetail?listingId=a0N30000003IYLlEAO)\n",
    "    \n",
    "    b. [Addresstools](https://appexchange.salesforce.com/listingDetail?listingId=a0N30000002zt9uEAA)\n",
    "    \n",
    "    c.[ Cloudingo](https://appexchange.salesforce.com/listingDetail?listingId=a0N30000004gHkoEAE)\n",
    "    \n",
    "Note: Outside the CRM world, maybe you can consider OpenRefine by Google IBM Data Refinery. Haven't researched or utilized those products, but I know they exist."
   ]
  },
  {
   "cell_type": "markdown",
   "metadata": {
    "nbpresent": {
     "id": "5031cee1-70bb-4c08-ae0b-1d9cc1b9204b"
    },
    "slideshow": {
     "slide_type": "slide"
    }
   },
   "source": [
    "### 4. What in the heck is this nÃ„Ã–ÃœÃ¤Ã¶Ã¼ÃŸ and what is  What's this random  \"TypeError: Can't convert 'bytes' object to str implicitly\" error I keep seeing?"
   ]
  },
  {
   "cell_type": "code",
   "execution_count": 6,
   "metadata": {
    "nbpresent": {
     "id": "2b67a16f-8d36-493f-b67a-b37071a981e8"
    },
    "slideshow": {
     "slide_type": "fragment"
    }
   },
   "outputs": [
    {
     "ename": "TypeError",
     "evalue": "must be str, not bytes",
     "output_type": "error",
     "traceback": [
      "\u001b[1;31m---------------------------------------------------------------------------\u001b[0m",
      "\u001b[1;31mTypeError\u001b[0m                                 Traceback (most recent call last)",
      "\u001b[1;32m<ipython-input-6-a55e9d9b20f9>\u001b[0m in \u001b[0;36m<module>\u001b[1;34m()\u001b[0m\n\u001b[0;32m      3\u001b[0m \u001b[0mtext\u001b[0m \u001b[1;33m=\u001b[0m \u001b[1;34m\"Fu\\u00dfb\\u00e4lle\"\u001b[0m\u001b[1;33m\u001b[0m\u001b[0m\n\u001b[0;32m      4\u001b[0m \u001b[0mdata\u001b[0m \u001b[1;33m=\u001b[0m \u001b[1;34mb\" sind rund\"\u001b[0m\u001b[1;33m\u001b[0m\u001b[0m\n\u001b[1;32m----> 5\u001b[1;33m \u001b[0mtext\u001b[0m \u001b[1;33m+\u001b[0m \u001b[0mdata\u001b[0m\u001b[1;33m\u001b[0m\u001b[0m\n\u001b[0m",
      "\u001b[1;31mTypeError\u001b[0m: must be str, not bytes"
     ]
    }
   ],
   "source": [
    "#Adding String to bytes object/string\n",
    "##And thereafter receive convert  'bytes' issue\n",
    "text = \"Fu\\u00dfb\\u00e4lle\"\n",
    "data = b\" sind rund\"\n",
    "text + data"
   ]
  },
  {
   "cell_type": "code",
   "execution_count": null,
   "metadata": {
    "collapsed": true,
    "jupyter": {
     "outputs_hidden": true
    },
    "nbpresent": {
     "id": "657b9790-6d44-4764-833f-7fdbb1389733"
    },
    "slideshow": {
     "slide_type": "fragment"
    }
   },
   "outputs": [],
   "source": [
    "#Resolving Type Error by decoding \"data\"\n",
    "text + data.decode(\"utf-8\")"
   ]
  },
  {
   "cell_type": "code",
   "execution_count": null,
   "metadata": {
    "collapsed": true,
    "jupyter": {
     "outputs_hidden": true
    },
    "nbpresent": {
     "id": "df57ef0e-f3eb-4f03-95e7-f0fe4f2f1aca"
    },
    "slideshow": {
     "slide_type": "subslide"
    }
   },
   "outputs": [],
   "source": [
    "youtubeVids_df = pd.read_csv(\"youtubeVid_mainSubset.csv\")"
   ]
  },
  {
   "cell_type": "markdown",
   "metadata": {
    "nbpresent": {
     "id": "fd2f51d9-6159-446a-ba21-b52cc3453acb"
    },
    "slideshow": {
     "slide_type": "subslide"
    }
   },
   "source": [
    "However, you first encounter a the above error <font color= \"red\">UnicodeDecodeError:</font> 'utf-8' codec can't decode byte 0xf6 in position 1: invalid start byte. This issue could had been simply avoided if the user had decoded the information with \"utf-8\" coding.\n",
    "\n",
    "Once one would properly do the encoding, we receiving the following dataset!"
   ]
  },
  {
   "cell_type": "code",
   "execution_count": null,
   "metadata": {
    "collapsed": true,
    "jupyter": {
     "outputs_hidden": true
    },
    "nbpresent": {
     "id": "935c4011-800e-41b9-9844-18d32ac596f8"
    },
    "slideshow": {
     "slide_type": "slide"
    }
   },
   "outputs": [],
   "source": [
    "youtubeVids_df = pd.read_csv(\"youtubeVid_mainSubset3.csv\")\n",
    "youtubeVids_df.head()"
   ]
  },
  {
   "cell_type": "code",
   "execution_count": null,
   "metadata": {
    "collapsed": true,
    "jupyter": {
     "outputs_hidden": true
    },
    "nbpresent": {
     "id": "c0be9052-06c8-45cd-86cd-bbd77ed4ca85"
    },
    "slideshow": {
     "slide_type": "subslide"
    }
   },
   "outputs": [],
   "source": [
    "string_emoji = youtubeVids_df[\"title\"][4][9]\n",
    "str_emoji_encoded= string_emoji.encode()\n",
    "str_emoji_encoded.decode()\n",
    "string_emoji"
   ]
  },
  {
   "cell_type": "markdown",
   "metadata": {
    "nbpresent": {
     "id": "9dae8a01-572f-45cf-b3f2-ea420aef7244"
    },
    "slideshow": {
     "slide_type": "fragment"
    }
   },
   "source": [
    "Happy Holidays?"
   ]
  },
  {
   "cell_type": "markdown",
   "metadata": {
    "nbpresent": {
     "id": "8e12ce14-a7e4-4862-b34d-68c1d4ed124a"
    },
    "slideshow": {
     "slide_type": "slide"
    }
   },
   "source": [
    "## <center>Oh...</center>\n",
    "\n",
    "And now you understand the complications of data, and the two perspectives for forensic analysis of why and what dirty data exists that affect your Analysis lifecycle.\n",
    "\n",
    "However, there are other factors to consider in data cleaning which I have not covered. They are the following\n",
    "\n",
    "\n",
    "1. Delete, Modify, or Impoute Observations With Missing Values\n",
    "3. Detecting and Handling Outliers\n",
    "4. Discretize Features\n",
    "5. Handling Imbalanced Classes With Downsampling and Upsampling\n",
    "6. Normalizing Observations\n",
    "7. And more!\n",
    "\n",
    "\n",
    "And to mitigate data issues, ensure:\n",
    "\n",
    "1. Datatype constraints\n",
    "2. Real-time validation\n",
    "3. requirement validations\n",
    "4. unique constraints\n",
    "5. and other preferred requirements!"
   ]
  }
 ],
 "metadata": {
  "anaconda-cloud": {},
  "celltoolbar": "Slideshow",
  "kernelspec": {
   "display_name": "Python 3",
   "language": "python",
   "name": "python3"
  },
  "language_info": {
   "codemirror_mode": {
    "name": "ipython",
    "version": 3
   },
   "file_extension": ".py",
   "mimetype": "text/x-python",
   "name": "python",
   "nbconvert_exporter": "python",
   "pygments_lexer": "ipython3",
   "version": "3.6.10"
  },
  "nbpresent": {
   "slides": {
    "044983e0-787e-498a-9d30-decefab82eaf": {
     "id": "044983e0-787e-498a-9d30-decefab82eaf",
     "prev": "78838cf0-984c-4e08-8443-54d9d5394d08",
     "regions": {
      "be8ced02-9110-4171-ab0d-13f3cffa42ba": {
       "attrs": {
        "height": 0.4482758620689655,
        "width": 0.9924568965517241,
        "x": 0.0021551724137931034,
        "y": 0.017241379310344827
       },
       "content": {
        "cell": "a2aed749-b40d-4e86-ab5b-d0922e9029a1",
        "part": "whole"
       },
       "id": "be8ced02-9110-4171-ab0d-13f3cffa42ba"
      }
     }
    },
    "26dbb708-18cf-4159-836f-8152d7fc6475": {
     "id": "26dbb708-18cf-4159-836f-8152d7fc6475",
     "prev": "8c24a62d-50aa-48e1-8012-d1d14b15acae",
     "regions": {
      "632eb7fa-865f-4886-9cdf-3296b4e81424": {
       "attrs": {
        "height": 1,
        "width": 1,
        "x": 0,
        "y": 0
       },
       "content": {
        "cell": "7ae3110d-9d37-4f67-b848-5660a0239024",
        "part": "whole"
       },
       "id": "632eb7fa-865f-4886-9cdf-3296b4e81424"
      }
     }
    },
    "3ef3a743-9c18-4f53-bc10-db85863f20a2": {
     "id": "3ef3a743-9c18-4f53-bc10-db85863f20a2",
     "prev": "044983e0-787e-498a-9d30-decefab82eaf",
     "regions": {
      "23f4fca1-bd62-4d7b-9cef-7c5c4ab1edfa": {
       "attrs": {
        "height": 0.7003831417624522,
        "width": 0.45,
        "x": 0.0004310344827585962,
        "y": 0.0003831417624520855
       },
       "content": {
        "cell": "a2aed749-b40d-4e86-ab5b-d0922e9029a1",
        "part": "whole"
       },
       "id": "23f4fca1-bd62-4d7b-9cef-7c5c4ab1edfa"
      },
      "464b1cfe-49b7-4ca9-ac96-00a2cb8cc4bf": {
       "attrs": {
        "height": 0.6946360153256707,
        "width": 0.45,
        "x": 0.5538793103448276,
        "y": -0.00727969348659006
       },
       "content": {
        "cell": "70621f40-ddae-4b3a-bd08-ce7a02dcc51f",
        "part": "whole"
       },
       "id": "464b1cfe-49b7-4ca9-ac96-00a2cb8cc4bf"
      },
      "73b7b465-f10e-419c-b774-072beaa4e818": {
       "attrs": {
        "height": 0.171647509578544,
        "width": 0.9907327586206898,
        "x": 0.006249999999999951,
        "y": 0.8279693486590038
       },
       "content": {
        "cell": "147b2c26-1def-4eaf-998c-7107696cc717",
        "part": "whole"
       },
       "id": "73b7b465-f10e-419c-b774-072beaa4e818"
      }
     }
    },
    "53d72d7c-3e5c-4833-95f2-d5fbed339fc1": {
     "id": "53d72d7c-3e5c-4833-95f2-d5fbed339fc1",
     "prev": "ff1edb05-431d-49c3-b5aa-46a63da62734",
     "regions": {
      "696ad136-fbb6-4ac5-ae9b-1b75620ea9f7": {
       "attrs": {
        "height": 0.16206896551724143,
        "width": 0.9961206896551725,
        "x": 0.0040948275862068475,
        "y": 0.12298850574712641
       },
       "content": {
        "cell": "2b67a16f-8d36-493f-b67a-b37071a981e8",
        "part": "whole"
       },
       "id": "696ad136-fbb6-4ac5-ae9b-1b75620ea9f7"
      },
      "94d3ff3a-5d02-456a-a880-63db6075220e": {
       "attrs": {
        "height": 0.11494252873563218,
        "width": 1,
        "x": 0,
        "y": 0
       },
       "content": {
        "cell": "5031cee1-70bb-4c08-ae0b-1d9cc1b9204b",
        "part": "whole"
       },
       "id": "94d3ff3a-5d02-456a-a880-63db6075220e"
      },
      "c9ff9f44-cb0a-4740-8980-96d88f121835": {
       "attrs": {
        "height": 0.2980842911877394,
        "width": 0.9896551724137932,
        "x": 0.010560344827586159,
        "y": 0.6363984674329501
       },
       "content": {
        "cell": "df57ef0e-f3eb-4f03-95e7-f0fe4f2f1aca",
        "part": "whole"
       },
       "id": "c9ff9f44-cb0a-4740-8980-96d88f121835"
      },
      "db200fef-4813-4131-b088-cc7f761b3eb7": {
       "attrs": {
        "height": 0.1773946360153256,
        "width": 0.9918103448275863,
        "x": 0.007327586206896503,
        "y": 0.4390804597701149
       },
       "content": {
        "cell": "657b9790-6d44-4764-833f-7fdbb1389733",
        "part": "whole"
       },
       "id": "db200fef-4813-4131-b088-cc7f761b3eb7"
      }
     }
    },
    "78838cf0-984c-4e08-8443-54d9d5394d08": {
     "id": "78838cf0-984c-4e08-8443-54d9d5394d08",
     "prev": "7ae0ce16-8469-41ac-a9fd-928918d25db7",
     "regions": {
      "50d2b15b-58be-48ec-a7e0-d81f0fdd9de9": {
       "attrs": {
        "height": 0.07701149425287351,
        "width": 0.8,
        "x": 0.1,
        "y": 0.021455938697318013
       },
       "content": {
        "cell": "74b32b99-5aa4-47d9-9a58-520bcd14377c",
        "part": "whole"
       },
       "id": "50d2b15b-58be-48ec-a7e0-d81f0fdd9de9"
      },
      "860c6043-58df-4036-a35a-a2a3895f36d6": {
       "attrs": {
        "height": 0.8839080459770114,
        "width": 0.7987068965517242,
        "x": 0.10452586206896551,
        "y": 0.10996168582375475
       },
       "content": {
        "cell": "866868ab-c300-4984-afc4-3cb64f4091e0",
        "part": "whole"
       },
       "id": "860c6043-58df-4036-a35a-a2a3895f36d6",
       "width": 0.6,
       "x": 0.1
      }
     }
    },
    "7ae0ce16-8469-41ac-a9fd-928918d25db7": {
     "id": "7ae0ce16-8469-41ac-a9fd-928918d25db7",
     "prev": "26dbb708-18cf-4159-836f-8152d7fc6475",
     "regions": {
      "5a093078-4a81-4f74-983d-cba2f8713d2a": {
       "attrs": {
        "height": 1,
        "width": 1,
        "x": 0,
        "y": 0
       },
       "content": {
        "cell": "a6318909-1a2b-4365-84c6-a4403d6bec92",
        "part": "whole"
       },
       "id": "5a093078-4a81-4f74-983d-cba2f8713d2a"
      }
     }
    },
    "8c24a62d-50aa-48e1-8012-d1d14b15acae": {
     "id": "8c24a62d-50aa-48e1-8012-d1d14b15acae",
     "prev": "df8408cd-8105-4121-88cb-65aafa608420",
     "regions": {
      "da99a830-a7e1-4134-a168-eca482fca453": {
       "attrs": {
        "height": 1,
        "width": 1,
        "x": 0,
        "y": 0
       },
       "content": {
        "cell": "7365aeaa-4460-48a3-a223-4cc181e31e6f",
        "part": "whole"
       },
       "id": "da99a830-a7e1-4134-a168-eca482fca453"
      }
     }
    },
    "9ca25c6d-a763-47d0-86eb-d74e94a9d040": {
     "id": "9ca25c6d-a763-47d0-86eb-d74e94a9d040",
     "prev": "53d72d7c-3e5c-4833-95f2-d5fbed339fc1",
     "regions": {
      "d4e2e946-73ba-4895-a48e-e48c55b10ea4": {
       "attrs": {
        "height": 1,
        "width": 1,
        "x": 0,
        "y": 0
       },
       "content": {
        "cell": "8e12ce14-a7e4-4862-b34d-68c1d4ed124a",
        "part": "whole"
       },
       "id": "d4e2e946-73ba-4895-a48e-e48c55b10ea4"
      }
     }
    },
    "c5de6ce8-c6e1-496a-b9c0-c03a7abad353": {
     "id": "c5de6ce8-c6e1-496a-b9c0-c03a7abad353",
     "prev": "3ef3a743-9c18-4f53-bc10-db85863f20a2",
     "regions": {
      "0dad2f43-fa4a-44d1-809a-18dca5e72b3d": {
       "attrs": {
        "height": 0.09118773946360158,
        "width": 0.995043103448276,
        "x": 0.0030172413793102958,
        "y": 0.9045977011494252
       },
       "content": {
        "cell": "db3b0340-8277-4992-8f2b-13e7df0a0c45",
        "part": "whole"
       },
       "id": "0dad2f43-fa4a-44d1-809a-18dca5e72b3d"
      },
      "a8080f61-7cfa-420c-b27c-df200d5f7b03": {
       "attrs": {
        "height": 0.09770114942528736,
        "width": 1,
        "x": 0.0021551724137931034,
        "y": 0.013409961685823755
       },
       "content": {
        "cell": "eabe9ec9-7b79-40b2-ab98-188706ddf78a",
        "part": "whole"
       },
       "id": "a8080f61-7cfa-420c-b27c-df200d5f7b03"
      },
      "ac387e40-ae48-436b-b204-dc1d32d2f9d5": {
       "attrs": {
        "height": 0.7789272030651342,
        "width": 0.9961206896551725,
        "x": 0.0040948275862068475,
        "y": 0.1114942528735632
       },
       "content": {
        "cell": "ec54f91b-2425-4625-adf9-339953b01a34",
        "part": "whole"
       },
       "id": "ac387e40-ae48-436b-b204-dc1d32d2f9d5"
      }
     }
    },
    "df8408cd-8105-4121-88cb-65aafa608420": {
     "id": "df8408cd-8105-4121-88cb-65aafa608420",
     "prev": null,
     "regions": {
      "9c85cd79-8bf7-4065-8cc6-61f62afa6b9e": {
       "attrs": {
        "height": 1,
        "width": 1,
        "x": 0,
        "y": 0
       },
       "content": {
        "cell": "e49744c4-d569-4500-abcc-1ae4aef62b8c",
        "part": "whole"
       },
       "id": "9c85cd79-8bf7-4065-8cc6-61f62afa6b9e"
      }
     }
    },
    "ff1edb05-431d-49c3-b5aa-46a63da62734": {
     "id": "ff1edb05-431d-49c3-b5aa-46a63da62734",
     "prev": "c5de6ce8-c6e1-496a-b9c0-c03a7abad353",
     "regions": {
      "4fccf5f7-90f0-47d8-9a28-622e74b07f3f": {
       "attrs": {
        "height": 1,
        "width": 1,
        "x": 0,
        "y": 0
       },
       "content": {
        "cell": "ac8d4770-5ba1-476a-b583-8cdbd0fc1dfb",
        "part": "whole"
       },
       "id": "4fccf5f7-90f0-47d8-9a28-622e74b07f3f"
      }
     }
    }
   },
   "themes": {
    "default": "4bb467ec-4b6e-44d9-81e8-1c2f96f0e45c",
    "theme": {}
   }
  }
 },
 "nbformat": 4,
 "nbformat_minor": 4
}
