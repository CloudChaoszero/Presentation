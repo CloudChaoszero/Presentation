{
 "cells": [
  {
   "cell_type": "markdown",
   "metadata": {
    "slideshow": {
     "slide_type": "slide"
    }
   },
   "source": [
    "# About Me\n"
   ]
  },
  {
   "cell_type": "markdown",
   "metadata": {
    "slideshow": {
     "slide_type": "fragment"
    }
   },
   "source": [
    "\n",
    "* Data Analyst @ Autodesk\n",
    "* You can find me at [RaulingAverage.dev](http://raulingaverage.dev/)\n",
    "* Enjoy Coffee, Learning, and Running..near the beach\n"
   ]
  },
  {
   "cell_type": "markdown",
   "metadata": {
    "slideshow": {
     "slide_type": "subslide"
    }
   },
   "source": [
    "\n",
    "**Notes:** \n",
    "\n",
    "* This presentation does not reflect any workings or material at Autodesk\n",
    "* I am not a core-contributor to the Prefect product, but a user\n",
    "\n",
    "* Social Distance, Wear Masks, Wash Hands, and consider allyship for those that need it now more than ever. #BLM\n"
   ]
  },
  {
   "cell_type": "markdown",
   "metadata": {
    "slideshow": {
     "slide_type": "slide"
    }
   },
   "source": [
    "# The Prefect Overview\n",
    "![Prefect Logo](https://docs.prefect.io/assets/wordmark-color-vertical.svg)"
   ]
  },
  {
   "cell_type": "markdown",
   "metadata": {
    "slideshow": {
     "slide_type": "subslide"
    }
   },
   "source": [
    "# What is prefect?\n"
   ]
  },
  {
   "cell_type": "markdown",
   "metadata": {
    "slideshow": {
     "slide_type": "subslide"
    }
   },
   "source": [
    "Prefect is an alternative workflow management system designed for  (more recent) modern infrastructure.\n",
    "> Quite similar to Airflow, but different.\n",
    "\n",
    "![Prefect Site Overview](Resources/images/prefect_overview_site.gif)"
   ]
  },
  {
   "cell_type": "markdown",
   "metadata": {
    "slideshow": {
     "slide_type": "slide"
    }
   },
   "source": [
    "## Functional API\n",
    "\n",
    "* Tasks can be called on another like functions to build a DAG pythonically\n",
    " \n",
    "\n",
    "> Note: Coexisting imperative Airflow API & new functional API"
   ]
  },
  {
   "cell_type": "markdown",
   "metadata": {
    "slideshow": {
     "slide_type": "subslide"
    }
   },
   "source": [
    "\n",
    "```python\n",
    "# Presentation Pseudo-Code\n",
    "import aircraftlib as aclib\n",
    "from prefect import task, Flow\n",
    "\n",
    "\n",
    "@task\n",
    "def extract_reference_data():\n",
    "    print(\"fetching reference data...\")\n",
    "    return aclib.fetch_reference_data()\n",
    "\n",
    "\n",
    "@task\n",
    "def extract_live_data():\n",
    "    # Get the live aircraft vector data around Dulles airport\n",
    "    dulles_airport_position = aclib.Position(lat=38.9519444444, long=-77.4480555556)\n",
    "...\n",
    "...\n",
    "...\n",
    "with Flow(\"etl\") as flow:\n",
    "    reference_data = extract_reference_data()\n",
    "    live_data = extract_live_data()\n",
    "\n",
    "    transformed_live_data = transform(live_data, reference_data)\n",
    "\n",
    "    load_reference_data(reference_data)\n",
    "    load_live_data(transformed_live_data)\n",
    "\n",
    "# Run Workflow\n",
    "flow.run()\n",
    "\n",
    "# Register Workflow to Dashboard\n",
    "flow.register()\n",
    "```\n",
    "[Source](https://docs.prefect.io/core/tutorial/01-etl-before-prefect.html)\n"
   ]
  },
  {
   "cell_type": "markdown",
   "metadata": {
    "slideshow": {
     "slide_type": "subslide"
    }
   },
   "source": [
    "## Intuitive UI\n",
    "\n",
    "![Prefect UI Overview](Resources/images/prefect_register_flow_2.gif)\n"
   ]
  },
  {
   "cell_type": "markdown",
   "metadata": {
    "slideshow": {
     "slide_type": "fragment"
    }
   },
   "source": [
    "* Create DAG (Directed Acyclic Graph) Data Pipelines \n",
    "* Focus more on Coding\n",
    "* Versioning\n",
    "    * Versioning automatically occurs when you deploy flow to a project with same name\n",
    "\n"
   ]
  },
  {
   "cell_type": "markdown",
   "metadata": {
    "slideshow": {
     "slide_type": "subslide"
    }
   },
   "source": [
    "## Scheduling\n",
    "\n",
    "* Not tied to `event_time`\n",
    "* Run on irregular or no schedules.\n",
    "* Run multiple simultaneous runs of your workflow (concurrency)\n"
   ]
  },
  {
   "cell_type": "markdown",
   "metadata": {
    "slideshow": {
     "slide_type": "subslide"
    }
   },
   "source": [
    "## Task Scheduling\n",
    "\n",
    "* Task scheduling almost instant because of Prefect utilizes Dask. This can be differentiable compared to 10second wait time for another workflow management tool\n",
    "\n",
    "* Sequential Task executution without explicity management\n",
    "\n",
    "* Tasks can directly exchange data\n",
    "\n",
    "![DAG Scheduler & Tasks](Resources/images/prefect_task_manager_3.png)"
   ]
  },
  {
   "cell_type": "markdown",
   "metadata": {
    "slideshow": {
     "slide_type": "subslide"
    }
   },
   "source": [
    "## Data Exchange\n",
    "Data Exchange\n",
    "\n",
    "* Data Pipelines\n",
    "* Creator of the XCom component & Prefect, Jeremiah Lowin, in good-faith wanted to implement distinct solutions outside the Airflow ecosystem. [Source](https://softwareengineeringdaily.com/wp-content/uploads/2020/04/SED1058-Prefect.pdf)\n",
    "* Modern solution for \"data\" pipeline management."
   ]
  },
  {
   "cell_type": "markdown",
   "metadata": {
    "slideshow": {
     "slide_type": "subslide"
    }
   },
   "source": [
    "## Other benefits\n",
    "\n",
    "* Error Handling\n",
    "* Innovation: GraphQL, Dask & More\n",
    "* Data Serialization\n",
    "* Parameterization\n",
    "* Go beyond workflow-as-code challenge, but rather be first class in data, scheduling, and other parts of the workflow management process with data.\n",
    "* And More!"
   ]
  },
  {
   "cell_type": "markdown",
   "metadata": {
    "slideshow": {
     "slide_type": "slide"
    }
   },
   "source": [
    "There is a lot more to cover. However, one can find out more through the following resources:\n",
    "\n",
    "* [Prefect.io](https://www.prefect.io/cloud/)\n",
    "    * [Prefect: Github](https://github.com/PrefectHQ/prefect/tree/master/examples/tutorial)\n",
    "    * [Tutorial](https://docs.prefect.io/core/tutorial/01-etl-before-prefect.html)\n",
    "* [How I Found out: Data Engineering Podcast by Tobias Macey](https://www.dataengineeringpodcast.com/prefect-workflow-engine-episode-86/)"
   ]
  },
  {
   "cell_type": "markdown",
   "metadata": {
    "slideshow": {
     "slide_type": "slide"
    }
   },
   "source": [
    "Thank you,\n",
    "\n",
    "![SF Python](https://yt3.ggpht.com/a/AATXAJxq51L-jv3ySRnNlmOhT_oPpNb6wj87NCv-5g=s288-c-k-c0xffffffff-no-rj-mo)"
   ]
  }
 ],
 "metadata": {
  "kernelspec": {
   "display_name": "Python (DataScienceKernel)",
   "language": "python",
   "name": "datasciencekernel"
  },
  "language_info": {
   "codemirror_mode": {
    "name": "ipython",
    "version": 3
   },
   "file_extension": ".py",
   "mimetype": "text/x-python",
   "name": "python",
   "nbconvert_exporter": "python",
   "pygments_lexer": "ipython3",
   "version": "3.7.2"
  }
 },
 "nbformat": 4,
 "nbformat_minor": 2
}
