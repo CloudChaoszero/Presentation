{
 "cells": [
  {
   "cell_type": "markdown",
   "metadata": {
    "slideshow": {
     "slide_type": "slide"
    }
   },
   "source": [
    "# <center>Survival Analysis </center>\n",
    "\n",
    "<center>with Lifelines</center>"
   ]
  },
  {
   "cell_type": "markdown",
   "metadata": {
    "slideshow": {
     "slide_type": "slide"
    }
   },
   "source": [
    "## <center> A little bit about me</center>"
   ]
  },
  {
   "cell_type": "markdown",
   "metadata": {
    "slideshow": {
     "slide_type": "fragment"
    }
   },
   "source": [
    "\n",
    "* Data Analyst @ Autodesk\n",
    "* You can find me at [RaulingAverage.dev](http://raulingaverage.dev/)\n",
    "* Enjoy Coffee, Learning, and Running..near the beach\n",
    "As we are aware\n"
   ]
  },
  {
   "cell_type": "markdown",
   "metadata": {
    "slideshow": {
     "slide_type": "subslide"
    }
   },
   "source": [
    "**NOTE:**\n",
    "\n",
    "I hope you and your family are well during these times. Moreover, please be safe as I encourage y’all to Social Distance, Wear Masks, Wash Hands, and of course be well\n"
   ]
  },
  {
   "cell_type": "markdown",
   "metadata": {
    "slideshow": {
     "slide_type": "fragment"
    }
   },
   "source": [
    "\n",
    "Also,\n",
    "This presentation does not reflect any workings or material from Autodesk\n",
    "I am not a core-contributor to the Lifelines project\n"
   ]
  },
  {
   "cell_type": "markdown",
   "metadata": {
    "slideshow": {
     "slide_type": "slide"
    }
   },
   "source": [
    "## <center> What will we be talking about today? </center>\n"
   ]
  },
  {
   "cell_type": "markdown",
   "metadata": {
    "slideshow": {
     "slide_type": "slide"
    }
   },
   "source": [
    "<font size=\"8\"><b><center> Survival Analysis </center></b></font>"
   ]
  },
  {
   "cell_type": "markdown",
   "metadata": {
    "slideshow": {
     "slide_type": "slide"
    }
   },
   "source": [
    "## <center> What is Survival Analysis? </center>\n"
   ]
  },
  {
   "cell_type": "markdown",
   "metadata": {
    "slideshow": {
     "slide_type": "fragment"
    }
   },
   "source": [
    "Survival Analysis is used to estimate the time of event of interest for some sample or population. \n",
    "[In it’s origination through medical research](https://timesofmalta.com/articles/view/history-of-survival-analysis.705424), one would like to understand the time of death, as random variable time **T** goes on. Since it's origination, the analysis has been used in other applications like customer churn, error logging, or mechanical failure.\n"
   ]
  },
  {
   "cell_type": "markdown",
   "metadata": {
    "slideshow": {
     "slide_type": "fragment"
    }
   },
   "source": [
    "\n",
    "As a summary: “Survival analysis attempts to answer questions such as: what is the proportion of a population which will survive past a certain time? Of those that survive, at what rate will they die or fail?” - [Source](https://en.wikipedia.org/wiki/Survival_analysis#Definitions_of_common_terms_in_survival_analysis)\n"
   ]
  },
  {
   "cell_type": "markdown",
   "metadata": {
    "slideshow": {
     "slide_type": "slide"
    }
   },
   "source": [
    "<center>  Why should I consider Survival Analysis?</center>"
   ]
  },
  {
   "cell_type": "markdown",
   "metadata": {
    "slideshow": {
     "slide_type": "subslide"
    }
   },
   "source": [
    "<center>  Let's look at the customer churn scenario.</center>"
   ]
  },
  {
   "cell_type": "markdown",
   "metadata": {
    "slideshow": {
     "slide_type": "fragment"
    }
   },
   "source": [
    "Say we have database of Insta2U customers and their subscriptions,a fake a delivery service company for 2U albums. This database has start & ending of subscription dates, and the customer's associated features/signals. \n",
    "\n",
    "Because of the start and end date of these customer, we can observe these customer's life expectancies (or their churn) over time **t**, seen below:\n",
    "\n",
    "Moreover, there are special properties of this implementation we can utilize to ensure we have an accurate depiction of observing the event of interest, in our case churn, over time."
   ]
  },
  {
   "cell_type": "markdown",
   "metadata": {
    "slideshow": {
     "slide_type": "fragment"
    }
   },
   "source": [
    "\n",
    "<img src=\"resources/images/Survival-Curve-1st-Example.png\" alt=\"Survival Curve Example\" class=\"center\">\n"
   ]
  },
  {
   "cell_type": "markdown",
   "metadata": {
    "slideshow": {
     "slide_type": "subslide"
    }
   },
   "source": [
    "## <center>  What are those special properties?</center>\n"
   ]
  },
  {
   "cell_type": "markdown",
   "metadata": {
    "slideshow": {
     "slide_type": "fragment"
    }
   },
   "source": [
    "## <center>  Censoring</center>\n",
    "* If we look at the following image, we observe one case where people have not experiences some occurence, and continue to persist. ff we take the mean of these data points, we are underestimate the average because those who continue to stay alive after time t, skew our average.\n",
    "\n",
    "* If we measure average lifespan of sample at some time t, then we cannot identify what the true lifespan is for all individals\n",
    "\n",
    "* And if we only consider one segmentation of individuals, say those who had their event of occurence happen, we too still underestimate our average of the values.\n",
    "\n",
    "\n",
    "So, it solves the problem of right-censoring, mentioned later. Even with no censoring, this analysis is still great for understanding time and events of interest."
   ]
  },
  {
   "cell_type": "markdown",
   "metadata": {
    "slideshow": {
     "slide_type": "subslide"
    }
   },
   "source": [
    "## <center>  Regression </center>\n",
    "Because of the censoring component, we implement a different type of regression in comparison to something like Logistic Regression"
   ]
  },
  {
   "cell_type": "markdown",
   "metadata": {
    "slideshow": {
     "slide_type": "fragment"
    }
   },
   "source": [
    "However, we will not go too much into this topic, as this is a Lightning Talk. \n",
    "> Stay tuned for future 2020 talks to go more in depth on that topic"
   ]
  },
  {
   "cell_type": "markdown",
   "metadata": {
    "slideshow": {
     "slide_type": "slide"
    }
   },
   "source": [
    "## <center> Okay, I'm convinced. How can we implement this process?  </center>\n"
   ]
  },
  {
   "cell_type": "markdown",
   "metadata": {
    "slideshow": {
     "slide_type": "slide"
    }
   },
   "source": [
    "<img src=\"https://i.imgur.com/EOowdSD.png\" alt=\"Survival Curve Example\" class=\"center\">\n",
    "\n",
    "<img src=\"https://i.pinimg.com/originals/70/4e/f2/704ef2f30564853b5c708ad01a2130f9.gif\" alt=\"Survival Curve Example\" class=\"center\">\n",
    "\n"
   ]
  },
  {
   "cell_type": "markdown",
   "metadata": {
    "slideshow": {
     "slide_type": "subslide"
    }
   },
   "source": [
    "* Lifelines is a [Python package for Survival Analysis](https://lifelines.readthedocs.io/en/latest/) created by [Cam Davidson Pilon](https://github.com/CamDavidsonPilon/lifelines) during his time as a Director of Decision Science at Shopify\n",
    "\n"
   ]
  },
  {
   "cell_type": "markdown",
   "metadata": {
    "slideshow": {
     "slide_type": "fragment"
    }
   },
   "source": [
    "\n",
    "```python\n",
    "from lifelines import KaplanMeierFitter\n",
    "```"
   ]
  },
  {
   "cell_type": "markdown",
   "metadata": {
    "slideshow": {
     "slide_type": "fragment"
    }
   },
   "source": [
    "\n",
    "\n",
    "**Benefits**:\n",
    "* SciKit-Learn friendly\n",
    "* Built on top of Pandas\n",
    "* Only focus is survival analysis\n",
    "* Handles right, left and interval censored data\n",
    "* Estimating Hazard Rates\n",
    "* Defining personal Survival Models\n",
    "* Compare two or more survival functions\n",
    "    * `lifelines.statistics.logrank_test()`\n",
    "* and more!"
   ]
  },
  {
   "cell_type": "markdown",
   "metadata": {
    "slideshow": {
     "slide_type": "slide"
    }
   },
   "source": [
    "### Survival Function & the Kaplan-Meier Estimate\n"
   ]
  },
  {
   "cell_type": "markdown",
   "metadata": {},
   "source": [
    "\n",
    "#### Survival Function\n",
    "\n",
    "The survival function $S(t)$ estimates the probability of surviving past some time $t$, for the observations going to $t \\rightarrow \\infty$.\n",
    "\n",
    "As a definition:\n",
    "\n",
    "For $T$ be a non-negative random lifetime taken from the population, the survival function  $S(t)$ is defined as \n",
    "\n",
    "$$S(t) = \\text{Pr}(T>t) = 1-F(t)$$\n",
    "\n",
    "where $T$ is the response variable, where $T \\geq 0$\n"
   ]
  },
  {
   "cell_type": "markdown",
   "metadata": {
    "slideshow": {
     "slide_type": "subslide"
    }
   },
   "source": [
    "Including it's properties \n",
    "\n",
    "* As t ranges from $0$ to $\\infty$, the survival function has the following properties;\n",
    "    - $S(t)$ is Non-increasing\n",
    "    - At t=0, S(t) = 1. In other words, the probability of surviving past time $t= 0$ is 1.\n",
    "        - Moreover, At t=$\\infty$, $S(t) = S(\\infty)=0$. As time goes to infinity, survival curve goes to 0.\n",
    "    - $0\\leq S(t)\\leq 1$\n",
    "    - $F_T(t) = 1 - S(t)$, where $F_T(t)$ is a \"Cumaltive Density function\""
   ]
  },
  {
   "cell_type": "markdown",
   "metadata": {
    "slideshow": {
     "slide_type": "slide"
    }
   },
   "source": [
    "### How is the S(t) calculated? Kaplan-Meier Estimation\n"
   ]
  },
  {
   "cell_type": "markdown",
   "metadata": {
    "slideshow": {
     "slide_type": "fragment"
    }
   },
   "source": [
    "\n",
    "Kaplan-Meier Estimation allows us to create an algorithm to calculate $S(t)$.\n"
   ]
  },
  {
   "cell_type": "markdown",
   "metadata": {
    "slideshow": {
     "slide_type": "fragment"
    }
   },
   "source": [
    "\n",
    "We calculate the Survival Function through the following formula:\n",
    "\n",
    "$\\hat{S(t)} = \\prod_{t_i < t} \\tfrac{n_i-d_i}{n_i}$\n",
    "\n",
    "where $d_i$ are the number of death events at time $t$ and $n_i$ is the number of subjects at risk of death just prior to time $t$. \n",
    "\n",
    "[Source](https://lifelines.readthedocs.io/en/latest/Survival%20analysis%20with%20lifelines.html)"
   ]
  },
  {
   "cell_type": "markdown",
   "metadata": {
    "slideshow": {
     "slide_type": "slide"
    }
   },
   "source": [
    "Let's look at our Customer Churn scenario, and apply it as an example [using this Customer dataset](https://github.com/CamDavidsonPilon/lifelines/blob/master/examples/Customer%20Churn.ipynb) from the Lifelines example workbooks."
   ]
  },
  {
   "cell_type": "code",
   "execution_count": 1,
   "metadata": {
    "slideshow": {
     "slide_type": "skip"
    }
   },
   "outputs": [],
   "source": [
    "import pandas as pd\n",
    "import matplotlib.pyplot as plt\n",
    "%matplotlib notebook\n",
    "import seaborn as sns\n",
    "sns.set_style(\"darkgrid\", {\"axes.facecolor\": \".9\"})\n",
    "\n",
    "import os\n",
    "resourcesDirectory = os.path.join('resources')\n",
    "imageDirectory = os.path.join(resourcesDirectory, 'images')\n",
    "directoryListings= [resourcesDirectory, imageDirectory]\n",
    "for listing in directoryListings:\n",
    "    if os.path.isdir(listing) is False:\n",
    "        os.mkdir(listing)\n",
    "\n",
    "firstDemoImage = os.path.join(imageDirectory,'Survival-Curve-1st-Example.png')\n",
    "        \n",
    "        \n",
    "churn_data = pd.read_csv('https://raw.githubusercontent.com/'\n",
    "                         'treselle-systems/customer_churn_analysis/'\n",
    "                         'master/WA_Fn-UseC_-Telco-Customer-Churn.csv')\n",
    "\n",
    "churn_data = churn_data.set_index('customerID')\n",
    "churn_data = churn_data.drop(['TotalCharges'], axis=1)\n",
    "churn_data['Churn - Yes'] = churn_data['Churn'].apply(lambda x: 1 if x =='Yes' else 0)"
   ]
  },
  {
   "cell_type": "code",
   "execution_count": 6,
   "metadata": {
    "slideshow": {
     "slide_type": "skip"
    }
   },
   "outputs": [],
   "source": [
    "churn_data['Churn - Yes'] = churn_data['Churn'].apply(lambda x: 1 if x =='Yes' else 0)"
   ]
  },
  {
   "cell_type": "code",
   "execution_count": 8,
   "metadata": {
    "slideshow": {
     "slide_type": "skip"
    }
   },
   "outputs": [],
   "source": [
    "churn_dataSample = churn_data.iloc[:20,:]"
   ]
  },
  {
   "cell_type": "code",
   "execution_count": 16,
   "metadata": {
    "slideshow": {
     "slide_type": "fragment"
    }
   },
   "outputs": [
    {
     "data": {
      "text/html": [
       "<div>\n",
       "<style scoped>\n",
       "    .dataframe tbody tr th:only-of-type {\n",
       "        vertical-align: middle;\n",
       "    }\n",
       "\n",
       "    .dataframe tbody tr th {\n",
       "        vertical-align: top;\n",
       "    }\n",
       "\n",
       "    .dataframe thead th {\n",
       "        text-align: right;\n",
       "    }\n",
       "</style>\n",
       "<table border=\"1\" class=\"dataframe\">\n",
       "  <thead>\n",
       "    <tr style=\"text-align: right;\">\n",
       "      <th></th>\n",
       "      <th>gender</th>\n",
       "      <th>SeniorCitizen</th>\n",
       "      <th>Partner</th>\n",
       "      <th>Dependents</th>\n",
       "      <th>tenure</th>\n",
       "      <th>PhoneService</th>\n",
       "      <th>MultipleLines</th>\n",
       "      <th>InternetService</th>\n",
       "      <th>OnlineSecurity</th>\n",
       "      <th>OnlineBackup</th>\n",
       "      <th>DeviceProtection</th>\n",
       "      <th>TechSupport</th>\n",
       "      <th>StreamingTV</th>\n",
       "      <th>StreamingMovies</th>\n",
       "      <th>Contract</th>\n",
       "      <th>PaperlessBilling</th>\n",
       "      <th>PaymentMethod</th>\n",
       "      <th>MonthlyCharges</th>\n",
       "      <th>Churn</th>\n",
       "      <th>Churn - Yes</th>\n",
       "    </tr>\n",
       "    <tr>\n",
       "      <th>customerID</th>\n",
       "      <th></th>\n",
       "      <th></th>\n",
       "      <th></th>\n",
       "      <th></th>\n",
       "      <th></th>\n",
       "      <th></th>\n",
       "      <th></th>\n",
       "      <th></th>\n",
       "      <th></th>\n",
       "      <th></th>\n",
       "      <th></th>\n",
       "      <th></th>\n",
       "      <th></th>\n",
       "      <th></th>\n",
       "      <th></th>\n",
       "      <th></th>\n",
       "      <th></th>\n",
       "      <th></th>\n",
       "      <th></th>\n",
       "      <th></th>\n",
       "    </tr>\n",
       "  </thead>\n",
       "  <tbody>\n",
       "    <tr>\n",
       "      <th>7590-VHVEG</th>\n",
       "      <td>Female</td>\n",
       "      <td>0</td>\n",
       "      <td>Yes</td>\n",
       "      <td>No</td>\n",
       "      <td>1</td>\n",
       "      <td>No</td>\n",
       "      <td>No phone service</td>\n",
       "      <td>DSL</td>\n",
       "      <td>No</td>\n",
       "      <td>Yes</td>\n",
       "      <td>No</td>\n",
       "      <td>No</td>\n",
       "      <td>No</td>\n",
       "      <td>No</td>\n",
       "      <td>Month-to-month</td>\n",
       "      <td>Yes</td>\n",
       "      <td>Electronic check</td>\n",
       "      <td>29.85</td>\n",
       "      <td>No</td>\n",
       "      <td>0</td>\n",
       "    </tr>\n",
       "    <tr>\n",
       "      <th>5575-GNVDE</th>\n",
       "      <td>Male</td>\n",
       "      <td>0</td>\n",
       "      <td>No</td>\n",
       "      <td>No</td>\n",
       "      <td>34</td>\n",
       "      <td>Yes</td>\n",
       "      <td>No</td>\n",
       "      <td>DSL</td>\n",
       "      <td>Yes</td>\n",
       "      <td>No</td>\n",
       "      <td>Yes</td>\n",
       "      <td>No</td>\n",
       "      <td>No</td>\n",
       "      <td>No</td>\n",
       "      <td>One year</td>\n",
       "      <td>No</td>\n",
       "      <td>Mailed check</td>\n",
       "      <td>56.95</td>\n",
       "      <td>No</td>\n",
       "      <td>0</td>\n",
       "    </tr>\n",
       "    <tr>\n",
       "      <th>3668-QPYBK</th>\n",
       "      <td>Male</td>\n",
       "      <td>0</td>\n",
       "      <td>No</td>\n",
       "      <td>No</td>\n",
       "      <td>2</td>\n",
       "      <td>Yes</td>\n",
       "      <td>No</td>\n",
       "      <td>DSL</td>\n",
       "      <td>Yes</td>\n",
       "      <td>Yes</td>\n",
       "      <td>No</td>\n",
       "      <td>No</td>\n",
       "      <td>No</td>\n",
       "      <td>No</td>\n",
       "      <td>Month-to-month</td>\n",
       "      <td>Yes</td>\n",
       "      <td>Mailed check</td>\n",
       "      <td>53.85</td>\n",
       "      <td>Yes</td>\n",
       "      <td>1</td>\n",
       "    </tr>\n",
       "    <tr>\n",
       "      <th>7795-CFOCW</th>\n",
       "      <td>Male</td>\n",
       "      <td>0</td>\n",
       "      <td>No</td>\n",
       "      <td>No</td>\n",
       "      <td>45</td>\n",
       "      <td>No</td>\n",
       "      <td>No phone service</td>\n",
       "      <td>DSL</td>\n",
       "      <td>Yes</td>\n",
       "      <td>No</td>\n",
       "      <td>Yes</td>\n",
       "      <td>Yes</td>\n",
       "      <td>No</td>\n",
       "      <td>No</td>\n",
       "      <td>One year</td>\n",
       "      <td>No</td>\n",
       "      <td>Bank transfer (automatic)</td>\n",
       "      <td>42.30</td>\n",
       "      <td>No</td>\n",
       "      <td>0</td>\n",
       "    </tr>\n",
       "    <tr>\n",
       "      <th>9237-HQITU</th>\n",
       "      <td>Female</td>\n",
       "      <td>0</td>\n",
       "      <td>No</td>\n",
       "      <td>No</td>\n",
       "      <td>2</td>\n",
       "      <td>Yes</td>\n",
       "      <td>No</td>\n",
       "      <td>Fiber optic</td>\n",
       "      <td>No</td>\n",
       "      <td>No</td>\n",
       "      <td>No</td>\n",
       "      <td>No</td>\n",
       "      <td>No</td>\n",
       "      <td>No</td>\n",
       "      <td>Month-to-month</td>\n",
       "      <td>Yes</td>\n",
       "      <td>Electronic check</td>\n",
       "      <td>70.70</td>\n",
       "      <td>Yes</td>\n",
       "      <td>1</td>\n",
       "    </tr>\n",
       "  </tbody>\n",
       "</table>\n",
       "</div>"
      ],
      "text/plain": [
       "            gender  SeniorCitizen Partner Dependents  tenure PhoneService  \\\n",
       "customerID                                                                  \n",
       "7590-VHVEG  Female              0     Yes         No       1           No   \n",
       "5575-GNVDE    Male              0      No         No      34          Yes   \n",
       "3668-QPYBK    Male              0      No         No       2          Yes   \n",
       "7795-CFOCW    Male              0      No         No      45           No   \n",
       "9237-HQITU  Female              0      No         No       2          Yes   \n",
       "\n",
       "               MultipleLines InternetService OnlineSecurity OnlineBackup  \\\n",
       "customerID                                                                 \n",
       "7590-VHVEG  No phone service             DSL             No          Yes   \n",
       "5575-GNVDE                No             DSL            Yes           No   \n",
       "3668-QPYBK                No             DSL            Yes          Yes   \n",
       "7795-CFOCW  No phone service             DSL            Yes           No   \n",
       "9237-HQITU                No     Fiber optic             No           No   \n",
       "\n",
       "           DeviceProtection TechSupport StreamingTV StreamingMovies  \\\n",
       "customerID                                                            \n",
       "7590-VHVEG               No          No          No              No   \n",
       "5575-GNVDE              Yes          No          No              No   \n",
       "3668-QPYBK               No          No          No              No   \n",
       "7795-CFOCW              Yes         Yes          No              No   \n",
       "9237-HQITU               No          No          No              No   \n",
       "\n",
       "                  Contract PaperlessBilling              PaymentMethod  \\\n",
       "customerID                                                               \n",
       "7590-VHVEG  Month-to-month              Yes           Electronic check   \n",
       "5575-GNVDE        One year               No               Mailed check   \n",
       "3668-QPYBK  Month-to-month              Yes               Mailed check   \n",
       "7795-CFOCW        One year               No  Bank transfer (automatic)   \n",
       "9237-HQITU  Month-to-month              Yes           Electronic check   \n",
       "\n",
       "            MonthlyCharges Churn  Churn - Yes  \n",
       "customerID                                     \n",
       "7590-VHVEG           29.85    No            0  \n",
       "5575-GNVDE           56.95    No            0  \n",
       "3668-QPYBK           53.85   Yes            1  \n",
       "7795-CFOCW           42.30    No            0  \n",
       "9237-HQITU           70.70   Yes            1  "
      ]
     },
     "execution_count": 16,
     "metadata": {},
     "output_type": "execute_result"
    }
   ],
   "source": [
    "churn_dataSample.head()"
   ]
  },
  {
   "cell_type": "code",
   "execution_count": 9,
   "metadata": {
    "slideshow": {
     "slide_type": "subslide"
    }
   },
   "outputs": [
    {
     "data": {
      "text/plain": [
       "Text(0.5, 1.0, 'Churned Customer Cases, at t=50')"
      ]
     },
     "execution_count": 9,
     "metadata": {},
     "output_type": "execute_result"
    },
    {
     "data": {
      "image/png": "[encoded data removed]",
      "text/plain": [
       "<Figure size 432x288 with 1 Axes>"
      ]
     },
     "metadata": {
      "needs_background": "light"
     },
     "output_type": "display_data"
    }
   ],
   "source": [
    "from lifelines.plotting import plot_lifetimes\n",
    "\n",
    "ax = plot_lifetimes(churn_dataSample['tenure'],event_observed = churn_dataSample['Churn - Yes'])\n",
    "ax.vlines(50, 0, 50, linestyles='--')\n",
    "ax.set_xlabel(\"time\")\n",
    "ax.set_title(\"Churned Customer Cases, at t=50\")\n"
   ]
  },
  {
   "cell_type": "code",
   "execution_count": 10,
   "metadata": {
    "slideshow": {
     "slide_type": "subslide"
    }
   },
   "outputs": [
    {
     "data": {
      "text/plain": [
       "<lifelines.KaplanMeierFitter:\"KM_estimate\", fitted with 7043 total observations, 5174 right-censored observations>"
      ]
     },
     "execution_count": 10,
     "metadata": {},
     "output_type": "execute_result"
    }
   ],
   "source": [
    "from lifelines import KaplanMeierFitter\n",
    "kmf = KaplanMeierFitter()\n",
    "\n",
    "kmf.fit(durations = churn_data['tenure'], event_observed = churn_data['Churn - Yes'])"
   ]
  },
  {
   "cell_type": "code",
   "execution_count": 13,
   "metadata": {
    "slideshow": {
     "slide_type": "fragment"
    }
   },
   "outputs": [
    {
     "data": {
      "image/png": "[encoded data removed]",
      "text/plain": [
       "<Figure size 432x288 with 1 Axes>"
      ]
     },
     "metadata": {
      "needs_background": "light"
     },
     "output_type": "display_data"
    }
   ],
   "source": [
    "kmf.plot(ci_show=True)\n",
    "plt.title('Kaplan Meier Survival Curve')\n",
    "plt.ylabel('P(Being a customer)')\n",
    "plt.xlabel('Tenure')\n",
    "plt.tight_layout()\n",
    "plt.savefig(firstDemoImage)\n",
    "plt.show()"
   ]
  },
  {
   "cell_type": "code",
   "execution_count": 37,
   "metadata": {
    "slideshow": {
     "slide_type": "subslide"
    }
   },
   "outputs": [
    {
     "name": "stdout",
     "output_type": "stream",
     "text": [
      "We output the Event occurence table over time 'event_at'\n"
     ]
    },
    {
     "data": {
      "text/html": [
       "<div>\n",
       "<style scoped>\n",
       "    .dataframe tbody tr th:only-of-type {\n",
       "        vertical-align: middle;\n",
       "    }\n",
       "\n",
       "    .dataframe tbody tr th {\n",
       "        vertical-align: top;\n",
       "    }\n",
       "\n",
       "    .dataframe thead th {\n",
       "        text-align: right;\n",
       "    }\n",
       "</style>\n",
       "<table border=\"1\" class=\"dataframe\">\n",
       "  <thead>\n",
       "    <tr style=\"text-align: right;\">\n",
       "      <th></th>\n",
       "      <th>removed</th>\n",
       "      <th>observed</th>\n",
       "      <th>censored</th>\n",
       "      <th>entrance</th>\n",
       "      <th>at_risk</th>\n",
       "    </tr>\n",
       "    <tr>\n",
       "      <th>event_at</th>\n",
       "      <th></th>\n",
       "      <th></th>\n",
       "      <th></th>\n",
       "      <th></th>\n",
       "      <th></th>\n",
       "    </tr>\n",
       "  </thead>\n",
       "  <tbody>\n",
       "    <tr>\n",
       "      <th>0</th>\n",
       "      <td>11</td>\n",
       "      <td>0</td>\n",
       "      <td>11</td>\n",
       "      <td>7043</td>\n",
       "      <td>7043</td>\n",
       "    </tr>\n",
       "    <tr>\n",
       "      <th>1</th>\n",
       "      <td>613</td>\n",
       "      <td>380</td>\n",
       "      <td>233</td>\n",
       "      <td>0</td>\n",
       "      <td>7032</td>\n",
       "    </tr>\n",
       "    <tr>\n",
       "      <th>2</th>\n",
       "      <td>238</td>\n",
       "      <td>123</td>\n",
       "      <td>115</td>\n",
       "      <td>0</td>\n",
       "      <td>6419</td>\n",
       "    </tr>\n",
       "    <tr>\n",
       "      <th>3</th>\n",
       "      <td>200</td>\n",
       "      <td>94</td>\n",
       "      <td>106</td>\n",
       "      <td>0</td>\n",
       "      <td>6181</td>\n",
       "    </tr>\n",
       "    <tr>\n",
       "      <th>4</th>\n",
       "      <td>176</td>\n",
       "      <td>83</td>\n",
       "      <td>93</td>\n",
       "      <td>0</td>\n",
       "      <td>5981</td>\n",
       "    </tr>\n",
       "  </tbody>\n",
       "</table>\n",
       "</div>"
      ],
      "text/plain": [
       "          removed  observed  censored  entrance  at_risk\n",
       "event_at                                                \n",
       "0              11         0        11      7043     7043\n",
       "1             613       380       233         0     7032\n",
       "2             238       123       115         0     6419\n",
       "3             200        94       106         0     6181\n",
       "4             176        83        93         0     5981"
      ]
     },
     "execution_count": 37,
     "metadata": {},
     "output_type": "execute_result"
    }
   ],
   "source": [
    "print(\"We output the Event occurence table over time 'event_at'\")\n",
    "\n",
    "kmf.event_table.head()"
   ]
  },
  {
   "cell_type": "code",
   "execution_count": 38,
   "metadata": {
    "slideshow": {
     "slide_type": "fragment"
    }
   },
   "outputs": [
    {
     "name": "stdout",
     "output_type": "stream",
     "text": [
      "As another part of the functionality with Lifelines areconveniently printing out statistical information as Dataframes\n"
     ]
    },
    {
     "data": {
      "text/html": [
       "<div>\n",
       "<style scoped>\n",
       "    .dataframe tbody tr th:only-of-type {\n",
       "        vertical-align: middle;\n",
       "    }\n",
       "\n",
       "    .dataframe tbody tr th {\n",
       "        vertical-align: top;\n",
       "    }\n",
       "\n",
       "    .dataframe thead th {\n",
       "        text-align: right;\n",
       "    }\n",
       "</style>\n",
       "<table border=\"1\" class=\"dataframe\">\n",
       "  <thead>\n",
       "    <tr style=\"text-align: right;\">\n",
       "      <th></th>\n",
       "      <th>KM_estimate_lower_0.95</th>\n",
       "      <th>KM_estimate_upper_0.95</th>\n",
       "    </tr>\n",
       "  </thead>\n",
       "  <tbody>\n",
       "    <tr>\n",
       "      <th>0.0</th>\n",
       "      <td>1.000000</td>\n",
       "      <td>1.000000</td>\n",
       "    </tr>\n",
       "    <tr>\n",
       "      <th>1.0</th>\n",
       "      <td>0.940418</td>\n",
       "      <td>0.951002</td>\n",
       "    </tr>\n",
       "    <tr>\n",
       "      <th>2.0</th>\n",
       "      <td>0.921506</td>\n",
       "      <td>0.933672</td>\n",
       "    </tr>\n",
       "    <tr>\n",
       "      <th>3.0</th>\n",
       "      <td>0.906857</td>\n",
       "      <td>0.920108</td>\n",
       "    </tr>\n",
       "    <tr>\n",
       "      <th>4.0</th>\n",
       "      <td>0.893733</td>\n",
       "      <td>0.907879</td>\n",
       "    </tr>\n",
       "  </tbody>\n",
       "</table>\n",
       "</div>"
      ],
      "text/plain": [
       "     KM_estimate_lower_0.95  KM_estimate_upper_0.95\n",
       "0.0                1.000000                1.000000\n",
       "1.0                0.940418                0.951002\n",
       "2.0                0.921506                0.933672\n",
       "3.0                0.906857                0.920108\n",
       "4.0                0.893733                0.907879"
      ]
     },
     "execution_count": 38,
     "metadata": {},
     "output_type": "execute_result"
    }
   ],
   "source": [
    "print(\"As another part of the functionality with Lifelines are\" +\n",
    "      \"conveniently printing out statistical information as Dataframes\")\n",
    "kmf.confidence_interval_.head()"
   ]
  },
  {
   "cell_type": "markdown",
   "metadata": {
    "slideshow": {
     "slide_type": "slide"
    }
   },
   "source": [
    "### What about Regression?\n"
   ]
  },
  {
   "cell_type": "markdown",
   "metadata": {
    "slideshow": {
     "slide_type": "fragment"
    }
   },
   "source": [
    "\n",
    "Survival regression allows us to regress other feature against another variable--this case durations. This regression is particularly different in that:\n",
    "\n",
    "* It abides to characteristic of censoring, compared to traditional Linear Regression\n",
    "* Though it can operate like traditional linear regression, itt is used to explore the relationship between the 'survival' of person and characteristics\n",
    "    * Predict the survivability through the model, as opposed to predicting estimations \n",
    "* All models attempt to represent the hazard rate $h(t|x_i)$ for some $i=1....n$ \n"
   ]
  },
  {
   "cell_type": "markdown",
   "metadata": {
    "slideshow": {
     "slide_type": "subslide"
    }
   },
   "source": [
    "An example of this implementation will be covered in a future talk.\n",
    "\n",
    "However, there are example of implementing [Survival Regression in the Lifelines documentation](https://lifelines.readthedocs.io/en/latest/Survival%20Regression.html#survival-regression)."
   ]
  },
  {
   "cell_type": "markdown",
   "metadata": {
    "slideshow": {
     "slide_type": "slide"
    }
   },
   "source": [
    "## <center> With that being said </center>"
   ]
  },
  {
   "cell_type": "markdown",
   "metadata": {
    "slideshow": {
     "slide_type": "slide"
    }
   },
   "source": [
    "## <center> Thank you, </center>\n",
    "\n",
    "<img src=\"resources/images/BayPiggies.png\" alt=\"BayPiggies\" class=\"right\">\n",
    "\n",
    "* [RaulingAverage.dev](https://raulingaverage.dev/)\n",
    "* [Twitter: @RaulingAverage](https://twitter.com/RaulingAverage)\n",
    "* [Notebook @ CloudChaoszero/Presentations/BayPiggies/Survival-Analysis](https://github.com/CloudChaoszero/Presentations/tree/master/BayPiggies/Survival-Analysis)"
   ]
  },
  {
   "cell_type": "markdown",
   "metadata": {
    "slideshow": {
     "slide_type": "slide"
    }
   },
   "source": [
    "# Resources\n",
    "\n",
    "* [DataSource](https://github.com/CamDavidsonPilon/lifelines/blob/master/examples/Customer%20Churn.ipynb)  \n",
    "\n",
    "* There is an R implementation called [Survival](https://www.emilyzabor.com/tutorials/survival_analysis_in_r_tutorial.html)\n",
    "* There is a Sci-kit Learn equivalent called [Scikit-Survival](https://readthedocs.org/projects/scikit-survival/)"
   ]
  },
  {
   "cell_type": "markdown",
   "metadata": {
    "slideshow": {
     "slide_type": "skip"
    }
   },
   "source": [
    "### Hazard Function\n",
    "\n",
    "The hazard function $h(t)$, is the instantaneous rate at which events occur, given no previous events.\n",
    "\n",
    "$h(t) = \\lim_{\\Delta t \\rightarrow 0} \\tfrac{Pr(t < T \\leq t + \\Delta{t} | T>t)}{\\Delta t}$ $=\\tfrac{f(t)}{S(t)}$"
   ]
  },
  {
   "cell_type": "markdown",
   "metadata": {
    "slideshow": {
     "slide_type": "skip"
    }
   },
   "source": [
    "The cumulative hazard describes the accumulated risk up to time t, $H(t) = \\int^{t}_{0} h(u) du$\n",
    "\n",
    "> A more constructive proof of the hazard function can be found [here (via SFU)](http://people.stat.sfu.ca/~raltman/stat402/402L32.pdf)"
   ]
  }
 ],
 "metadata": {
  "kernelspec": {
   "display_name": "Python (DataScienceKernel)",
   "language": "python",
   "name": "datasciencekernel"
  },
  "language_info": {
   "codemirror_mode": {
    "name": "ipython",
    "version": 3
   },
   "file_extension": ".py",
   "mimetype": "text/x-python",
   "name": "python",
   "nbconvert_exporter": "python",
   "pygments_lexer": "ipython3",
   "version": "3.7.2"
  }
 },
 "nbformat": 4,
 "nbformat_minor": 4
}
